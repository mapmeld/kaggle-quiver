{
 "cells": [
  {
   "cell_type": "code",
   "execution_count": 1,
   "id": "a69dc853",
   "metadata": {
    "_cell_guid": "b1076dfc-b9ad-4769-8c92-a6c4dae69d19",
    "_uuid": "8f2839f25d086af736a60e9eeb907d3b93b6e0e5",
    "execution": {
     "iopub.execute_input": "2022-03-05T10:48:43.679746Z",
     "iopub.status.busy": "2022-03-05T10:48:43.678558Z",
     "iopub.status.idle": "2022-03-05T10:48:43.682844Z",
     "shell.execute_reply": "2022-03-05T10:48:43.682196Z",
     "shell.execute_reply.started": "2022-02-27T08:10:26.497248Z"
    },
    "papermill": {
     "duration": 0.03519,
     "end_time": "2022-03-05T10:48:43.683048",
     "exception": false,
     "start_time": "2022-03-05T10:48:43.647858",
     "status": "completed"
    },
    "tags": []
   },
   "outputs": [],
   "source": [
    "# pip install kaggle if you're in a non-Kaggle env\n",
    "# pip install simpletransformers if you have internet"
   ]
  },
  {
   "cell_type": "code",
   "execution_count": 2,
   "id": "aa3e886c",
   "metadata": {
    "execution": {
     "iopub.execute_input": "2022-03-05T10:48:43.737896Z",
     "iopub.status.busy": "2022-03-05T10:48:43.737214Z",
     "iopub.status.idle": "2022-03-05T10:48:44.506282Z",
     "shell.execute_reply": "2022-03-05T10:48:44.505561Z",
     "shell.execute_reply.started": "2022-02-27T18:27:02.698641Z"
    },
    "papermill": {
     "duration": 0.796688,
     "end_time": "2022-03-05T10:48:44.506439",
     "exception": false,
     "start_time": "2022-03-05T10:48:43.709751",
     "status": "completed"
    },
    "tags": []
   },
   "outputs": [
    {
     "name": "stdout",
     "output_type": "stream",
     "text": [
      "worker,less_toxic,more_toxic\r\n",
      "313,\" This article sucks \r\n",
      "\r\n",
      "woo woo wooooooo\",\"WHAT!!!!!!!!?!?!!?!?!!?!?!?!?!!!!!!!!!!!!!!!!!!!!!!!!??????????????????????????????????????????????????????!!!!!!=\r\n",
      "WHER IS YOUR SEXY PIC GONE FROM YOUR MAIN PAGE???????? put it back\"\r\n"
     ]
    }
   ],
   "source": [
    "! head -n 5 /kaggle/input/jigsaw-toxic-severity-rating/validation_data.csv"
   ]
  },
  {
   "cell_type": "code",
   "execution_count": 3,
   "id": "ed940792",
   "metadata": {
    "execution": {
     "iopub.execute_input": "2022-03-05T10:48:44.561499Z",
     "iopub.status.busy": "2022-03-05T10:48:44.560756Z",
     "iopub.status.idle": "2022-03-05T10:48:45.181602Z",
     "shell.execute_reply": "2022-03-05T10:48:45.182352Z",
     "shell.execute_reply.started": "2022-03-05T10:09:32.312442Z"
    },
    "papermill": {
     "duration": 0.650113,
     "end_time": "2022-03-05T10:48:45.182581",
     "exception": false,
     "start_time": "2022-03-05T10:48:44.532468",
     "status": "completed"
    },
    "tags": []
   },
   "outputs": [
    {
     "name": "stderr",
     "output_type": "stream",
     "text": [
      "/opt/conda/lib/python3.7/site-packages/ipykernel_launcher.py:5: SettingWithCopyWarning: \n",
      "A value is trying to be set on a copy of a slice from a DataFrame.\n",
      "Try using .loc[row_indexer,col_indexer] = value instead\n",
      "\n",
      "See the caveats in the documentation: https://pandas.pydata.org/pandas-docs/stable/user_guide/indexing.html#returning-a-view-versus-a-copy\n",
      "  \"\"\"\n",
      "/opt/conda/lib/python3.7/site-packages/ipykernel_launcher.py:9: SettingWithCopyWarning: \n",
      "A value is trying to be set on a copy of a slice from a DataFrame.\n",
      "Try using .loc[row_indexer,col_indexer] = value instead\n",
      "\n",
      "See the caveats in the documentation: https://pandas.pydata.org/pandas-docs/stable/user_guide/indexing.html#returning-a-view-versus-a-copy\n",
      "  if __name__ == '__main__':\n"
     ]
    },
    {
     "data": {
      "text/html": [
       "<div>\n",
       "<style scoped>\n",
       "    .dataframe tbody tr th:only-of-type {\n",
       "        vertical-align: middle;\n",
       "    }\n",
       "\n",
       "    .dataframe tbody tr th {\n",
       "        vertical-align: top;\n",
       "    }\n",
       "\n",
       "    .dataframe thead th {\n",
       "        text-align: right;\n",
       "    }\n",
       "</style>\n",
       "<table border=\"1\" class=\"dataframe\">\n",
       "  <thead>\n",
       "    <tr style=\"text-align: right;\">\n",
       "      <th></th>\n",
       "      <th>text</th>\n",
       "      <th>label</th>\n",
       "    </tr>\n",
       "  </thead>\n",
       "  <tbody>\n",
       "    <tr>\n",
       "      <th>27323</th>\n",
       "      <td>Wha's a reliable source mike? Something that c...</td>\n",
       "      <td>0.35</td>\n",
       "    </tr>\n",
       "    <tr>\n",
       "      <th>10783</th>\n",
       "      <td>Your contempt is noted. I hope I don't dissapp...</td>\n",
       "      <td>0.35</td>\n",
       "    </tr>\n",
       "  </tbody>\n",
       "</table>\n",
       "</div>"
      ],
      "text/plain": [
       "                                                    text  label\n",
       "27323  Wha's a reliable source mike? Something that c...   0.35\n",
       "10783  Your contempt is noted. I hope I don't dissapp...   0.35"
      ]
     },
     "execution_count": 3,
     "metadata": {},
     "output_type": "execute_result"
    }
   ],
   "source": [
    "import pandas as pd\n",
    "trainer = pd.read_csv(\"/kaggle/input/jigsaw-toxic-severity-rating/validation_data.csv\")\n",
    "\n",
    "toxic = trainer[[\"more_toxic\"]]\n",
    "toxic[\"text\"] = toxic[\"more_toxic\"]\n",
    "toxic[\"label\"] = 0.75\n",
    "\n",
    "nontoxic = trainer[[\"less_toxic\"]]\n",
    "nontoxic[\"text\"] = nontoxic[\"less_toxic\"]\n",
    "nontoxic[\"label\"] = 0.35\n",
    "\n",
    "combined = toxic.append(nontoxic).sample(frac=1, random_state=101)\n",
    "combined = combined[[\"text\", \"label\"]]\n",
    "combined[\"label\"] = combined[\"label\"].astype('float')\n",
    "combined.head(2)"
   ]
  },
  {
   "cell_type": "code",
   "execution_count": 4,
   "id": "115b0a5e",
   "metadata": {
    "execution": {
     "iopub.execute_input": "2022-03-05T10:48:45.241269Z",
     "iopub.status.busy": "2022-03-05T10:48:45.240387Z",
     "iopub.status.idle": "2022-03-05T10:48:46.380902Z",
     "shell.execute_reply": "2022-03-05T10:48:46.380276Z",
     "shell.execute_reply.started": "2022-03-05T10:09:43.955154Z"
    },
    "papermill": {
     "duration": 1.171878,
     "end_time": "2022-03-05T10:48:46.381074",
     "exception": false,
     "start_time": "2022-03-05T10:48:45.209196",
     "status": "completed"
    },
    "tags": []
   },
   "outputs": [],
   "source": [
    "from sklearn.model_selection import train_test_split\n",
    "train, test = train_test_split(combined, random_state=101, train_size=0.99)"
   ]
  },
  {
   "cell_type": "code",
   "execution_count": 5,
   "id": "53857f18",
   "metadata": {
    "execution": {
     "iopub.execute_input": "2022-03-05T10:48:46.440773Z",
     "iopub.status.busy": "2022-03-05T10:48:46.439997Z",
     "iopub.status.idle": "2022-03-05T10:48:47.256424Z",
     "shell.execute_reply": "2022-03-05T10:48:47.256928Z",
     "shell.execute_reply.started": "2022-03-05T10:09:47.140504Z"
    },
    "papermill": {
     "duration": 0.8484,
     "end_time": "2022-03-05T10:48:47.257131",
     "exception": false,
     "start_time": "2022-03-05T10:48:46.408731",
     "status": "completed"
    },
    "tags": []
   },
   "outputs": [],
   "source": [
    "# https://www.kaggle.com/c/word2vec-nlp-tutorial/overview/part-2-word-vectors\n",
    "from bs4 import BeautifulSoup\n",
    "import re\n",
    "from nltk.corpus import stopwords"
   ]
  },
  {
   "cell_type": "code",
   "execution_count": 6,
   "id": "ff357633",
   "metadata": {
    "execution": {
     "iopub.execute_input": "2022-03-05T10:48:47.317419Z",
     "iopub.status.busy": "2022-03-05T10:48:47.316692Z",
     "iopub.status.idle": "2022-03-05T10:48:47.323958Z",
     "shell.execute_reply": "2022-03-05T10:48:47.323449Z",
     "shell.execute_reply.started": "2022-03-05T10:09:49.783421Z"
    },
    "papermill": {
     "duration": 0.040785,
     "end_time": "2022-03-05T10:48:47.324102",
     "exception": false,
     "start_time": "2022-03-05T10:48:47.283317",
     "status": "completed"
    },
    "tags": []
   },
   "outputs": [
    {
     "data": {
      "text/plain": [
       "['legend',\n",
       " 'i',\n",
       " 'saw',\n",
       " 'one',\n",
       " 'of',\n",
       " 'his',\n",
       " 'paintings',\n",
       " 'at',\n",
       " 'moma',\n",
       " 'in',\n",
       " 'ny',\n",
       " 'and',\n",
       " 'he',\n",
       " 'actually',\n",
       " 'put',\n",
       " 'nuts',\n",
       " 'bolts',\n",
       " 'cig',\n",
       " 'butts',\n",
       " 'into',\n",
       " 'the',\n",
       " 'paint',\n",
       " 'when',\n",
       " 'he',\n",
       " 'mixed',\n",
       " 'his',\n",
       " 'paint',\n",
       " 'for',\n",
       " 'his',\n",
       " 'paintings',\n",
       " 'pretty',\n",
       " 'frickin',\n",
       " 'amazing']"
      ]
     },
     "execution_count": 6,
     "metadata": {},
     "output_type": "execute_result"
    }
   ],
   "source": [
    "def review_to_wordlist( txt, remove_stopwords=False ):\n",
    "    txt = BeautifulSoup(txt).get_text()\n",
    "    txt = re.sub(\"[^a-zA-Z]\",\" \", txt)\n",
    "    words = txt.lower().split()\n",
    "    if remove_stopwords:\n",
    "        stops = set(stopwords.words(\"english\"))\n",
    "        words = [w for w in words if not w in stops]\n",
    "    return(words)\n",
    "review_to_wordlist(test['text'].to_list()[1])"
   ]
  },
  {
   "cell_type": "code",
   "execution_count": 7,
   "id": "edd49da1",
   "metadata": {
    "execution": {
     "iopub.execute_input": "2022-03-05T10:48:47.383523Z",
     "iopub.status.busy": "2022-03-05T10:48:47.379922Z",
     "iopub.status.idle": "2022-03-05T10:49:04.910688Z",
     "shell.execute_reply": "2022-03-05T10:49:04.910070Z",
     "shell.execute_reply.started": "2022-03-05T10:09:53.150087Z"
    },
    "papermill": {
     "duration": 17.560258,
     "end_time": "2022-03-05T10:49:04.910835",
     "exception": false,
     "start_time": "2022-03-05T10:48:47.350577",
     "status": "completed"
    },
    "tags": []
   },
   "outputs": [
    {
     "data": {
      "text/plain": [
       "['i',\n",
       " 'hope',\n",
       " 'that',\n",
       " 'one',\n",
       " 'day',\n",
       " 'one',\n",
       " 'of',\n",
       " 'your',\n",
       " 'pupils',\n",
       " 'drinks',\n",
       " 'sulphuric',\n",
       " 'acid',\n",
       " 'that',\n",
       " 'you',\n",
       " 'have',\n",
       " 'carelessly',\n",
       " 'left',\n",
       " 'out',\n",
       " 'in',\n",
       " 'a',\n",
       " 'bottle',\n",
       " 'of',\n",
       " 'water',\n",
       " 'it',\n",
       " 'will',\n",
       " 'be',\n",
       " 'a',\n",
       " 'shame',\n",
       " 'but',\n",
       " 'you',\n",
       " 'will',\n",
       " 'learn',\n",
       " 'from',\n",
       " 'it',\n",
       " 'if',\n",
       " 'it',\n",
       " 'did',\n",
       " 'happen',\n",
       " 'hahahahahahahahahaaahahhaha']"
      ]
     },
     "execution_count": 7,
     "metadata": {},
     "output_type": "execute_result"
    }
   ],
   "source": [
    "train_content = list(map(lambda sentence: review_to_wordlist(sentence), train['text'].to_list()))\n",
    "train_content[0]"
   ]
  },
  {
   "cell_type": "code",
   "execution_count": 8,
   "id": "5fc89ef3",
   "metadata": {
    "execution": {
     "iopub.execute_input": "2022-03-05T10:49:04.973053Z",
     "iopub.status.busy": "2022-03-05T10:49:04.972226Z",
     "iopub.status.idle": "2022-03-05T10:50:16.861280Z",
     "shell.execute_reply": "2022-03-05T10:50:16.860664Z",
     "shell.execute_reply.started": "2022-03-05T10:10:10.733275Z"
    },
    "papermill": {
     "duration": 71.922605,
     "end_time": "2022-03-05T10:50:16.861443",
     "exception": false,
     "start_time": "2022-03-05T10:49:04.938838",
     "status": "completed"
    },
    "tags": []
   },
   "outputs": [],
   "source": [
    "from gensim.models import Word2Vec, KeyedVectors\n",
    "\n",
    "pretrain_w2v = \"../input/nlpword2vecembeddingspretrained/GoogleNews-vectors-negative300.bin\"\n",
    "model = KeyedVectors.load_word2vec_format(pretrain_w2v, binary=True)"
   ]
  },
  {
   "cell_type": "code",
   "execution_count": 9,
   "id": "9837e0ed",
   "metadata": {
    "execution": {
     "iopub.execute_input": "2022-03-05T10:50:16.921445Z",
     "iopub.status.busy": "2022-03-05T10:50:16.920690Z",
     "iopub.status.idle": "2022-03-05T10:50:19.465572Z",
     "shell.execute_reply": "2022-03-05T10:50:19.466415Z",
     "shell.execute_reply.started": "2022-03-05T10:11:19.178898Z"
    },
    "papermill": {
     "duration": 2.575992,
     "end_time": "2022-03-05T10:50:19.466678",
     "exception": false,
     "start_time": "2022-03-05T10:50:16.890686",
     "status": "completed"
    },
    "tags": []
   },
   "outputs": [
    {
     "name": "stderr",
     "output_type": "stream",
     "text": [
      "/opt/conda/lib/python3.7/site-packages/ipykernel_launcher.py:1: DeprecationWarning: Call to deprecated `init_sims` (Use fill_norms() instead. See https://github.com/RaRe-Technologies/gensim/wiki/Migrating-from-Gensim-3.x-to-4).\n",
      "  \"\"\"Entry point for launching an IPython kernel.\n"
     ]
    }
   ],
   "source": [
    "model.init_sims(replace=True)"
   ]
  },
  {
   "cell_type": "code",
   "execution_count": 10,
   "id": "e8c5447d",
   "metadata": {
    "execution": {
     "iopub.execute_input": "2022-03-05T10:50:19.526010Z",
     "iopub.status.busy": "2022-03-05T10:50:19.525334Z",
     "iopub.status.idle": "2022-03-05T10:50:19.529524Z",
     "shell.execute_reply": "2022-03-05T10:50:19.529989Z",
     "shell.execute_reply.started": "2022-03-05T10:12:28.787719Z"
    },
    "papermill": {
     "duration": 0.035343,
     "end_time": "2022-03-05T10:50:19.530166",
     "exception": false,
     "start_time": "2022-03-05T10:50:19.494823",
     "status": "completed"
    },
    "tags": []
   },
   "outputs": [
    {
     "data": {
      "text/plain": [
       "True"
      ]
     },
     "execution_count": 10,
     "metadata": {},
     "output_type": "execute_result"
    }
   ],
   "source": [
    "'hello' in model.key_to_index"
   ]
  },
  {
   "cell_type": "code",
   "execution_count": 11,
   "id": "873ce088",
   "metadata": {
    "execution": {
     "iopub.execute_input": "2022-03-05T10:50:19.590962Z",
     "iopub.status.busy": "2022-03-05T10:50:19.590319Z",
     "iopub.status.idle": "2022-03-05T10:50:19.648137Z",
     "shell.execute_reply": "2022-03-05T10:50:19.647474Z",
     "shell.execute_reply.started": "2022-03-05T10:13:55.244472Z"
    },
    "papermill": {
     "duration": 0.0905,
     "end_time": "2022-03-05T10:50:19.648276",
     "exception": false,
     "start_time": "2022-03-05T10:50:19.557776",
     "status": "completed"
    },
    "tags": []
   },
   "outputs": [
    {
     "data": {
      "text/plain": [
       "array([-0.01640636,  0.00517318, -0.00159814,  0.10050742, -0.07567617,\n",
       "       -0.00423092, -0.04552395, -0.08040594,  0.00498842,  0.11587914,\n",
       "       -0.00997684, -0.0294132 , -0.04936688, -0.01345026,  0.00286372,\n",
       "        0.0558703 ,  0.01101147,  0.05025371,  0.10996693, -0.07744984,\n",
       "        0.11351426,  0.05202737,  0.0647386 , -0.06030445,  0.03961175,\n",
       "       -0.02202295, -0.00853574,  0.0351776 ,  0.04641078,  0.02749173,\n",
       "        0.0205449 , -0.00909001, -0.05114054, -0.06296494, -0.01123318,\n",
       "       -0.06887714,  0.07981471,  0.00367665,  0.05557469,  0.094004  ,\n",
       "       -0.03266491, -0.05793957,  0.06532982,  0.03990735, -0.01064196,\n",
       "        0.05616591, -0.09341277,  0.01448489, -0.03325613,  0.04345468,\n",
       "       -0.13184208, -0.01145489,  0.03281271,  0.04256785, -0.03207369,\n",
       "        0.07922349, -0.05173176,  0.11942646,  0.0381337 , -0.08395325,\n",
       "       -0.08513569,  0.04463712, -0.06355616,  0.00713159,  0.0558703 ,\n",
       "        0.00134872, -0.08454447, -0.01101147, -0.08868302,  0.05941762,\n",
       "        0.06266933,  0.08750057, -0.06207811,  0.0205449 , -0.13065964,\n",
       "       -0.03325613, -0.07804105, -0.00705769,  0.03429076,  0.07005958,\n",
       "       -0.01337635,  0.03281271, -0.08750057, -0.02882198, -0.03133466,\n",
       "       -0.00982903,  0.023501  , -0.04049858,  0.06946836,  0.01906685,\n",
       "        0.02527466,  0.0088683 , -0.03473418,  0.00161662, -0.03931614,\n",
       "        0.00761196,  0.0266049 ,  0.07419812, -0.03473418, -0.08986545,\n",
       "       -0.1797309 , -0.08927424, -0.04049858,  0.08395325, -0.01263733,\n",
       "        0.0351776 ,  0.08572692,  0.00072979,  0.04197663, -0.00206927,\n",
       "       -0.0910479 ,  0.04907127,  0.00354732, -0.04197663,  0.14780502,\n",
       "        0.0087205 ,  0.00731635,  0.01433709,  0.0177366 , -0.07212885,\n",
       "        0.00835098,  0.01810612, -0.0116766 ,  0.02098831,  0.04522834,\n",
       "       -0.03296052, -0.02217075,  0.0266049 ,  0.08217959,  0.01995368,\n",
       "       -0.1146967 , -0.07922349, -0.03990735,  0.02896979, -0.09459522,\n",
       "        0.03089125,  0.00927476,  0.07153763,  0.00176442,  0.08395325,\n",
       "        0.06207811, -0.05409664, -0.09518643, -0.00480366,  0.04227224,\n",
       "        0.0410898 ,  0.0118244 , -0.08868302,  0.07094641, -0.1028723 ,\n",
       "       -0.03576881,  0.0322215 , -0.0558703 , -0.00635562,  0.00775976,\n",
       "        0.07685861,  0.02202295,  0.0410898 , -0.00041801, -0.07804105,\n",
       "       -0.08750057,  0.03059564,  0.05823518, -0.0147805 ,  0.08454447,\n",
       "       -0.10168985, -0.02231856,  0.00569049, -0.03325613, -0.01396757,\n",
       "        0.04759322,  0.02024929, -0.01034635,  0.04936688,  0.02616149,\n",
       "        0.1353894 ,  0.00613391, -0.0059861 ,  0.02409222,  0.05380103,\n",
       "       -0.01322855, -0.0028822 ,  0.0499581 ,  0.05232298,  0.07005958,\n",
       "       -0.01293294,  0.00713159,  0.05557469, -0.12592988, -0.00528403,\n",
       "        0.05084493,  0.01433709,  0.04315907,  0.02571807,  0.1028723 ,\n",
       "        0.04493273, -0.10405473, -0.04286346, -0.0206927 , -0.04434151,\n",
       "       -0.00860964,  0.02246636, -0.02320539,  0.0384293 ,  0.0177366 ,\n",
       "       -0.02290978, -0.01012464,  0.07153763, -0.04936688,  0.0499581 ,\n",
       "        0.04493273, -0.07331129, -0.10641962, -0.09282155,  0.00148729,\n",
       "        0.05350542,  0.14011917,  0.04315907, -0.07567617, -0.07863227,\n",
       "        0.01322855,  0.1058284 ,  0.01803221,  0.02305758, -0.00868355,\n",
       "       -0.02926539, -0.00387988,  0.0177366 , -0.06946836, -0.05912201,\n",
       "       -0.03695126,  0.06089567, -0.12829477,  0.01818002,  0.15253478,\n",
       "        0.06326055,  0.03399516, -0.01832782,  0.10050742,  0.02246636,\n",
       "       -0.0175149 ,  0.03355174, -0.01965807,  0.01707148,  0.00532098,\n",
       "        0.02542246,  0.04168102,  0.07804105,  0.05084493, -0.05114054,\n",
       "        0.00543183,  0.04848005,  0.07922349,  0.09577765, -0.07508495,\n",
       "        0.01625855, -0.02601368,  0.05173176, -0.11942646, -0.00047344,\n",
       "       -0.02217075, -0.01396757, -0.04907127, -0.04759322,  0.06444299,\n",
       "       -0.04788883,  0.01330245,  0.08631814,  0.00362122, -0.08158837,\n",
       "       -0.01322855,  0.11233182,  0.01411538, -0.05971323,  0.09223033,\n",
       "       -0.11055816, -0.07153763,  0.02438783, -0.01285904, -0.04434151,\n",
       "       -0.01884514, -0.01618465, -0.01714538,  0.05734835,  0.11233182,\n",
       "       -0.06680787,  0.01404148,  0.00790757, -0.03473418,  0.08040594,\n",
       "       -0.0074272 ,  0.03355174, -0.00761196, -0.03650784,  0.01603685,\n",
       "        0.02157953,  0.00019284, -0.11055816, -0.04168102, -0.03902053],\n",
       "      dtype=float32)"
      ]
     },
     "execution_count": 11,
     "metadata": {},
     "output_type": "execute_result"
    }
   ],
   "source": [
    "model.get_vector(\"hello\", norm=True)"
   ]
  },
  {
   "cell_type": "code",
   "execution_count": 12,
   "id": "62554c00",
   "metadata": {
    "execution": {
     "iopub.execute_input": "2022-03-05T10:50:19.718968Z",
     "iopub.status.busy": "2022-03-05T10:50:19.718158Z",
     "iopub.status.idle": "2022-03-05T10:50:19.722443Z",
     "shell.execute_reply": "2022-03-05T10:50:19.721749Z",
     "shell.execute_reply.started": "2022-03-05T10:23:43.903719Z"
    },
    "papermill": {
     "duration": 0.046122,
     "end_time": "2022-03-05T10:50:19.722582",
     "exception": false,
     "start_time": "2022-03-05T10:50:19.676460",
     "status": "completed"
    },
    "tags": []
   },
   "outputs": [
    {
     "data": {
      "text/plain": [
       "array([ 1.11146960e-02, -2.59782318e-02,  4.05328628e-03,  8.11989307e-02,\n",
       "       -6.87833056e-02,  1.04274265e-02,  3.21703702e-02, -8.96420777e-02,\n",
       "       -2.38733161e-02,  9.56597775e-02, -9.90944169e-03, -3.00876573e-02,\n",
       "       -2.98791230e-02, -1.49649810e-02, -4.26971242e-02,  5.97959086e-02,\n",
       "        2.96759699e-02,  5.46072125e-02,  5.64025529e-02, -5.18171266e-02,\n",
       "        4.95243706e-02,  4.09369692e-02,  7.53996372e-02, -5.70690744e-02,\n",
       "        5.13004214e-02, -1.76033564e-02,  6.07772218e-03,  3.76391038e-02,\n",
       "        4.41712365e-02, -1.68331396e-02, -1.06933974e-02,  2.16394141e-02,\n",
       "       -2.26519890e-02, -7.49534555e-03,  2.33144462e-02, -1.99730508e-02,\n",
       "        8.89802501e-02,  1.80433672e-02,  2.30723172e-02,  1.09624878e-01,\n",
       "        1.86411403e-02, -6.83379695e-02,  4.59402278e-02,  2.48289220e-02,\n",
       "       -2.52797343e-02,  8.85663182e-03, -2.36348007e-02,  1.60773993e-02,\n",
       "       -1.24852499e-02,  3.26680318e-02, -8.65206718e-02,  2.22880505e-02,\n",
       "       -3.64394858e-03,  2.42022034e-02,  8.09073448e-04,  6.06691465e-02,\n",
       "       -3.40599529e-02,  3.83811668e-02,  1.83658879e-02, -4.53870110e-02,\n",
       "        3.02600116e-03,  3.81573848e-02, -4.50533964e-02,  3.74407433e-02,\n",
       "        3.45270298e-02, -1.74533129e-02, -8.34714919e-02, -6.12086477e-03,\n",
       "       -5.03382906e-02,  6.43161833e-02,  8.48021507e-02,  2.76367981e-02,\n",
       "       -5.20049036e-02,  1.42779322e-02, -1.22825675e-01, -3.39317545e-02,\n",
       "       -7.45434463e-02, -6.90673711e-04,  5.19358665e-02,  9.94837433e-02,\n",
       "       -6.49164617e-02,  5.87042645e-02, -2.73621362e-02, -5.68920001e-02,\n",
       "       -7.09658936e-02,  1.05580930e-02, -6.03939779e-02,  2.73587443e-02,\n",
       "        8.52719396e-02,  2.13438794e-02,  1.08405836e-02,  4.87462431e-02,\n",
       "       -5.08758239e-02, -2.25379393e-02, -5.20681515e-02, -1.82585120e-02,\n",
       "        5.02902344e-02,  3.05987317e-02, -3.68680730e-02, -7.56948441e-02,\n",
       "       -1.26853228e-01, -7.46623054e-03, -2.39627622e-03,  4.30294983e-02,\n",
       "        1.73022449e-02,  1.77268442e-02,  3.53102610e-02, -5.38011407e-03,\n",
       "        2.40324810e-02, -3.17967497e-02, -8.70894194e-02,  5.67626096e-02,\n",
       "        2.42959224e-02, -2.46733576e-02,  1.57399684e-01,  1.65369175e-02,\n",
       "        1.47819743e-02, -2.35935710e-02,  6.30479213e-03, -5.41511923e-04,\n",
       "        1.46126375e-02, -3.31217423e-04, -8.50480609e-03,  4.03407328e-02,\n",
       "        3.65303606e-02, -7.58071989e-02, -2.11105309e-02,  8.88497569e-03,\n",
       "        9.22903419e-03,  2.16957405e-02, -8.37158710e-02, -6.43313006e-02,\n",
       "       -4.39408012e-02,  3.70987095e-02, -3.62653621e-02,  1.53411962e-02,\n",
       "        1.54407434e-02,  1.99299883e-02,  3.27429734e-02,  6.76117241e-02,\n",
       "        1.34607051e-02, -1.19419247e-02, -5.51006384e-02, -9.45148245e-03,\n",
       "       -2.83029918e-02,  2.17865985e-02,  2.29582144e-03, -2.66716033e-02,\n",
       "        1.07536502e-02, -1.03804991e-01,  3.41182128e-02,  7.58038983e-02,\n",
       "       -9.07504372e-03,  1.82458069e-02, -4.81227376e-02,  5.91204911e-02,\n",
       "       -2.08073575e-03,  4.43140976e-03, -2.10832972e-02, -9.13893655e-02,\n",
       "       -5.83073571e-02,  2.48652026e-02,  1.75360199e-02,  7.68393427e-02,\n",
       "        4.57741730e-02, -7.90435299e-02,  1.44758159e-02, -2.53533572e-02,\n",
       "       -5.91090769e-02,  1.53553672e-02,  3.50577384e-02,  2.80033145e-03,\n",
       "       -2.54981443e-02,  3.01308967e-02,  1.74524449e-02,  9.24142599e-02,\n",
       "        4.94380947e-03,  2.91217561e-03, -1.15748001e-02,  1.26541965e-03,\n",
       "       -6.41101301e-02, -5.49085811e-02,  4.34729382e-02,  2.51028985e-02,\n",
       "        1.92825180e-02, -3.64961512e-02, -2.35341620e-02, -6.45381771e-03,\n",
       "       -4.41963896e-02,  5.50628267e-03,  4.53812182e-02,  3.81137654e-02,\n",
       "        3.33899893e-02,  4.58184481e-02,  8.10996145e-02,  4.59041670e-02,\n",
       "       -1.98003910e-02, -3.20519805e-02, -2.72838250e-02, -6.20882586e-02,\n",
       "       -1.16291344e-02,  5.00751566e-03, -4.65762913e-02, -1.63082629e-02,\n",
       "        5.45791816e-03, -1.71770081e-02, -3.82048376e-02,  6.43336326e-02,\n",
       "       -2.10212823e-02,  2.81605478e-02,  2.14139558e-03, -2.78069824e-03,\n",
       "       -5.22771031e-02, -6.82006031e-02, -3.64272445e-02, -9.13642533e-03,\n",
       "        1.10160194e-01,  3.84254530e-02, -6.84170946e-02, -3.99255417e-02,\n",
       "       -6.75259577e-03,  6.83868080e-02,  1.30673675e-02,  3.04804519e-02,\n",
       "       -5.89079037e-02, -2.36049816e-02, -8.25716089e-03, -1.82316564e-02,\n",
       "       -4.67277430e-02, -5.29072508e-02, -6.49850145e-02,  4.78430763e-02,\n",
       "       -6.19615316e-02,  5.54162897e-02,  1.48045659e-01,  3.61850820e-02,\n",
       "       -5.98245300e-03, -8.67753103e-03,  4.73239832e-02,  1.22459969e-02,\n",
       "        1.23281032e-04,  1.53796738e-02, -4.40701954e-02,  4.97349985e-02,\n",
       "       -2.84678396e-02,  8.00949112e-02,  3.07741091e-02,  3.18793207e-02,\n",
       "        5.92148118e-03, -6.01776466e-02,  1.67236663e-02,  7.55102187e-02,\n",
       "        9.27130133e-02,  7.64536485e-02, -2.79293172e-02, -2.08017603e-02,\n",
       "       -4.24872003e-02, -1.46009512e-02, -9.68841165e-02,  1.84402782e-02,\n",
       "       -2.82975137e-02,  7.11551448e-03, -2.91133299e-02,  8.79658200e-03,\n",
       "        1.10725425e-02, -2.35324204e-02,  2.06589736e-02,  3.88331451e-02,\n",
       "        1.80156548e-02, -9.66585614e-03,  7.94279762e-03,  8.38151872e-02,\n",
       "        3.59887257e-02, -8.43299925e-03,  7.33982325e-02, -1.00323603e-01,\n",
       "       -7.53201023e-02,  2.61101089e-02, -3.40787992e-02, -3.83757949e-02,\n",
       "        2.07902193e-02, -2.14591958e-02,  1.19353840e-02,  6.18166886e-02,\n",
       "        9.09563899e-02, -6.30674064e-02, -3.54602747e-02,  3.21523882e-02,\n",
       "       -3.33890244e-02,  5.73235489e-02, -9.71038267e-03,  4.20447513e-02,\n",
       "       -3.21876928e-02, -9.84551460e-02,  1.56387221e-03, -4.15790714e-02,\n",
       "        2.35342216e-02, -9.24499631e-02, -4.39120941e-02, -7.33359344e-03],\n",
       "      dtype=float32)"
      ]
     },
     "execution_count": 12,
     "metadata": {},
     "output_type": "execute_result"
    }
   ],
   "source": [
    "import numpy as np\n",
    "indexes = []\n",
    "def makeFeatureVec(words, num_features=300):\n",
    "    featureVec = np.zeros((num_features,),dtype=\"float32\")\n",
    "    nwords = 0.\n",
    "    for word in words:\n",
    "        if word in model.key_to_index: \n",
    "            nwords = nwords + 1.\n",
    "            featureVec = np.add(featureVec, model.get_vector(word, norm=True))\n",
    "    #if nwords < 1:\n",
    "    #    print(words)\n",
    "    vectors = np.divide(featureVec, nwords)\n",
    "    if True in np.isnan(vectors):\n",
    "        return np.zeros((num_features,),dtype=\"float32\")\n",
    "    return vectors\n",
    "makeFeatureVec(['hello', 'love'])"
   ]
  },
  {
   "cell_type": "code",
   "execution_count": 13,
   "id": "72286dd6",
   "metadata": {
    "execution": {
     "iopub.execute_input": "2022-03-05T10:50:19.801526Z",
     "iopub.status.busy": "2022-03-05T10:50:19.794379Z",
     "iopub.status.idle": "2022-03-05T10:50:46.846008Z",
     "shell.execute_reply": "2022-03-05T10:50:46.846543Z",
     "shell.execute_reply.started": "2022-03-05T10:23:52.267553Z"
    },
    "papermill": {
     "duration": 27.095286,
     "end_time": "2022-03-05T10:50:46.846714",
     "exception": false,
     "start_time": "2022-03-05T10:50:19.751428",
     "status": "completed"
    },
    "tags": []
   },
   "outputs": [
    {
     "name": "stderr",
     "output_type": "stream",
     "text": [
      "/opt/conda/lib/python3.7/site-packages/ipykernel_launcher.py:12: RuntimeWarning: invalid value encountered in true_divide\n",
      "  if sys.path[0] == '':\n"
     ]
    },
    {
     "data": {
      "text/plain": [
       "array([ 1.3525644e-02,  5.7532745e-03,  4.0923253e-02,  5.6992143e-02,\n",
       "       -3.0962629e-02,  1.0829367e-03,  2.3216564e-02, -4.0458605e-02,\n",
       "        3.4442082e-02,  4.0593013e-02, -3.2742035e-02, -6.0453892e-02,\n",
       "       -1.0518829e-02,  4.1925744e-03, -5.6353670e-02,  3.1117527e-02,\n",
       "        1.8664045e-02,  3.9095819e-02,  2.3144521e-02, -3.3481866e-02,\n",
       "       -2.6139268e-03,  2.5437463e-02,  3.3107407e-02, -1.1744112e-02,\n",
       "        2.1203477e-02,  4.6016257e-03, -2.9903157e-02,  1.9701231e-02,\n",
       "        2.0858124e-02,  8.5473424e-03, -6.7825508e-03,  2.0909684e-02,\n",
       "       -2.3612477e-02, -2.0251884e-03, -7.4813874e-03, -1.7337275e-05,\n",
       "        1.3879831e-02, -6.3502025e-03,  1.2756202e-03,  2.7580529e-02,\n",
       "        3.4236439e-02, -2.7585268e-02,  7.6677859e-02, -1.5877621e-02,\n",
       "       -8.9541059e-03, -4.0671686e-03, -5.2727666e-03,  9.8666712e-04,\n",
       "        4.8463456e-03, -6.9256239e-03,  1.4632475e-03,  3.1687483e-02,\n",
       "        1.0204500e-03, -1.1289590e-02,  7.1920641e-03,  9.8032597e-03,\n",
       "       -1.0136797e-02, -1.6257061e-02,  3.1641807e-02, -1.2596000e-02,\n",
       "       -5.4606659e-05,  3.6063548e-02, -3.8110938e-02, -3.9971933e-02,\n",
       "       -2.0247053e-02, -1.5549066e-02, -2.5763977e-03,  4.4878695e-02,\n",
       "       -9.4262706e-03,  2.7172305e-02,  3.4984581e-02,  1.5816154e-02,\n",
       "        4.8366647e-02, -3.7064261e-03, -6.9298930e-02, -2.6323149e-02,\n",
       "        4.4704255e-02,  6.5390453e-02,  2.7462272e-02,  3.6738288e-02,\n",
       "        9.9028302e-03, -5.6797128e-02,  2.5126165e-02, -1.9896007e-03,\n",
       "       -4.2568482e-02, -2.6196534e-02, -1.4896234e-02,  5.5613149e-02,\n",
       "       -7.7406026e-04,  1.1726974e-02,  1.8312899e-02,  2.3326216e-02,\n",
       "       -1.5166093e-02, -5.9735708e-02, -3.5309296e-02, -2.9013824e-02,\n",
       "        2.7938550e-02,  1.3378824e-02,  7.8677544e-03,  1.4935669e-02,\n",
       "       -2.5576130e-02, -2.5592694e-02,  1.2530700e-02,  2.8719867e-02,\n",
       "       -4.4204645e-02, -2.7762728e-02, -1.3859664e-02, -3.2182038e-02,\n",
       "        1.4836695e-02, -4.5144700e-02, -3.6518838e-02, -2.7340956e-03,\n",
       "       -2.0560414e-02, -1.5376627e-02,  2.8045395e-02,  4.3238755e-03,\n",
       "        2.0996409e-02, -7.1085072e-03,  2.2287814e-02,  3.0850772e-02,\n",
       "       -6.2489878e-02, -7.3604882e-03, -2.9152498e-02,  3.5999615e-02,\n",
       "       -3.6587898e-02, -2.2178737e-02, -1.1726540e-02, -1.8158803e-02,\n",
       "        6.6955071e-03, -4.0429891e-03, -4.1004751e-02, -3.9658397e-02,\n",
       "       -5.2896649e-02, -2.2202779e-02, -4.7365194e-03, -3.5840873e-02,\n",
       "        2.3661906e-02, -2.0320715e-02, -3.2571044e-03,  4.1409135e-02,\n",
       "        2.1250058e-02, -6.1077956e-02,  8.9931171e-03, -1.9368287e-02,\n",
       "        2.7054327e-02,  1.1692568e-02, -2.2321496e-02, -3.6824666e-02,\n",
       "       -2.6622459e-02, -1.4924333e-02,  2.3274284e-02,  2.2897974e-02,\n",
       "       -5.2293807e-02,  1.6436016e-02, -1.0478728e-02, -2.3965344e-03,\n",
       "       -2.6043965e-02, -4.6109501e-02, -4.1874133e-02,  4.3863896e-03,\n",
       "       -1.8936615e-03,  3.6260657e-02,  6.9718892e-03,  3.0462500e-02,\n",
       "        1.0484049e-02, -4.6116613e-02,  2.7440485e-02,  4.1353488e-03,\n",
       "       -2.9943099e-03, -2.5531046e-02, -6.9436714e-02, -1.5653626e-03,\n",
       "       -4.1526958e-02, -3.7567239e-02, -2.8827576e-02, -2.2018000e-02,\n",
       "        3.7731741e-02, -3.9493885e-02,  2.4989157e-03, -2.9299408e-03,\n",
       "       -2.8093571e-02, -1.6569715e-02, -4.6267933e-03,  2.4655370e-02,\n",
       "       -9.8705618e-03,  3.0039053e-03, -7.5228512e-03,  1.4968264e-02,\n",
       "        5.2361913e-02,  3.0716969e-02, -9.8148249e-03,  1.7386703e-02,\n",
       "       -6.4835176e-03, -5.7572522e-03, -1.5767431e-02, -3.4588089e-03,\n",
       "       -1.3803825e-02, -1.1330162e-02, -2.9642748e-02, -7.3556788e-02,\n",
       "        2.8206343e-02,  1.5450041e-02, -2.2451373e-02,  9.6213920e-03,\n",
       "       -4.4065164e-03,  2.8744787e-03, -4.8275255e-02, -6.6095600e-03,\n",
       "        1.9892845e-02, -1.1397182e-02, -1.2622424e-02,  2.6612585e-02,\n",
       "       -1.9953858e-02,  2.0762663e-02, -5.7069272e-02,  1.6873440e-02,\n",
       "        3.9038211e-02, -1.1721898e-02, -5.4774713e-02,  1.9384200e-02,\n",
       "        3.3567410e-03, -1.0905310e-02, -1.6138960e-02, -2.2487283e-02,\n",
       "        4.1827101e-02, -2.6500920e-02,  4.2512834e-02,  2.7417272e-02,\n",
       "        8.6382972e-03,  3.4411876e-03,  1.5643355e-02, -8.7701362e-03,\n",
       "        6.9301701e-03, -6.3042967e-03,  3.4858406e-02, -1.5818773e-02,\n",
       "       -2.1088557e-02, -8.3251866e-03,  5.2048951e-02,  1.4999694e-02,\n",
       "        1.3415470e-02, -2.1433663e-02,  1.5262673e-02, -5.7778034e-02,\n",
       "       -2.6685540e-03, -2.5157053e-03,  3.0039253e-03,  1.3478600e-02,\n",
       "       -3.0638436e-03, -9.8898550e-03,  2.8120703e-03, -1.0543432e-03,\n",
       "        4.3930188e-02,  1.2204329e-02,  3.3601515e-02, -3.0049048e-03,\n",
       "        3.9503288e-02,  2.6549693e-02, -3.1765267e-02, -3.5654429e-02,\n",
       "       -1.3414501e-02, -7.1131792e-03, -4.6772003e-02,  2.9186703e-02,\n",
       "        1.4657180e-02,  4.3315932e-02,  6.4460677e-03,  1.3079224e-02,\n",
       "       -3.0938756e-02, -1.2922529e-03,  5.1738448e-02,  3.1656899e-02,\n",
       "        5.4960124e-02,  4.4882447e-02,  2.6641089e-02, -3.5833851e-02,\n",
       "       -1.1569243e-02, -5.2181553e-02, -8.2722744e-03, -1.6553519e-02,\n",
       "        7.9044178e-03, -1.4263574e-02,  1.9295350e-02,  3.7750881e-02,\n",
       "        7.6500024e-03, -1.8632729e-02, -1.6106663e-02, -1.3873502e-02,\n",
       "        1.1913554e-02,  4.1626163e-02, -2.1935958e-02,  2.0511413e-02,\n",
       "       -4.6613429e-02,  8.1425608e-04, -1.8306170e-02,  1.0960418e-02,\n",
       "        1.8933350e-03, -2.9689131e-02,  1.1332279e-02, -2.3467515e-02],\n",
       "      dtype=float32)"
      ]
     },
     "execution_count": 13,
     "metadata": {},
     "output_type": "execute_result"
    }
   ],
   "source": [
    "trainDataVecs = list(map(lambda sentence: makeFeatureVec(sentence), train_content))\n",
    "trainDataVecs[0]"
   ]
  },
  {
   "cell_type": "code",
   "execution_count": 14,
   "id": "d1db6f71",
   "metadata": {
    "execution": {
     "iopub.execute_input": "2022-03-05T10:50:46.911027Z",
     "iopub.status.busy": "2022-03-05T10:50:46.910240Z",
     "iopub.status.idle": "2022-03-05T10:50:47.722235Z",
     "shell.execute_reply": "2022-03-05T10:50:47.721655Z",
     "shell.execute_reply.started": "2022-03-05T10:24:06.635615Z"
    },
    "papermill": {
     "duration": 0.845663,
     "end_time": "2022-03-05T10:50:47.722389",
     "exception": false,
     "start_time": "2022-03-05T10:50:46.876726",
     "status": "completed"
    },
    "tags": []
   },
   "outputs": [],
   "source": [
    "test_content = list(map(lambda sentence: review_to_wordlist(sentence), test['text'].to_list()))\n",
    "testDataVecs = list(map(lambda sentence: makeFeatureVec(sentence), test_content))"
   ]
  },
  {
   "cell_type": "code",
   "execution_count": 15,
   "id": "22454cba",
   "metadata": {
    "execution": {
     "iopub.execute_input": "2022-03-05T10:50:47.788494Z",
     "iopub.status.busy": "2022-03-05T10:50:47.787712Z",
     "iopub.status.idle": "2022-03-05T10:59:55.767750Z",
     "shell.execute_reply": "2022-03-05T10:59:55.768551Z",
     "shell.execute_reply.started": "2022-03-05T10:24:15.237532Z"
    },
    "papermill": {
     "duration": 548.01663,
     "end_time": "2022-03-05T10:59:55.769064",
     "exception": false,
     "start_time": "2022-03-05T10:50:47.752434",
     "status": "completed"
    },
    "tags": []
   },
   "outputs": [],
   "source": [
    "from sklearn.ensemble import GradientBoostingRegressor\n",
    "forest = GradientBoostingRegressor()\n",
    "forest = forest.fit(trainDataVecs, train[\"label\"])"
   ]
  },
  {
   "cell_type": "code",
   "execution_count": 16,
   "id": "8ceebb6c",
   "metadata": {
    "execution": {
     "iopub.execute_input": "2022-03-05T10:59:55.837329Z",
     "iopub.status.busy": "2022-03-05T10:59:55.836627Z",
     "iopub.status.idle": "2022-03-05T10:59:55.850934Z",
     "shell.execute_reply": "2022-03-05T10:59:55.851548Z",
     "shell.execute_reply.started": "2022-03-05T10:31:38.094169Z"
    },
    "papermill": {
     "duration": 0.048784,
     "end_time": "2022-03-05T10:59:55.851713",
     "exception": false,
     "start_time": "2022-03-05T10:59:55.802929",
     "status": "completed"
    },
    "tags": []
   },
   "outputs": [
    {
     "data": {
      "text/plain": [
       "0.09771658067912092"
      ]
     },
     "execution_count": 16,
     "metadata": {},
     "output_type": "execute_result"
    }
   ],
   "source": [
    "# 0.092 ish with norm=True\n",
    "from sklearn.metrics import explained_variance_score\n",
    "predictions = forest.predict( testDataVecs )\n",
    "explained_variance_score(test['label'], predictions)"
   ]
  },
  {
   "cell_type": "code",
   "execution_count": 17,
   "id": "d95134af",
   "metadata": {
    "execution": {
     "iopub.execute_input": "2022-03-05T10:59:55.915604Z",
     "iopub.status.busy": "2022-03-05T10:59:55.914994Z",
     "iopub.status.idle": "2022-03-05T10:59:55.921774Z",
     "shell.execute_reply": "2022-03-05T10:59:55.921212Z",
     "shell.execute_reply.started": "2022-03-05T10:31:38.196889Z"
    },
    "papermill": {
     "duration": 0.039957,
     "end_time": "2022-03-05T10:59:55.921985",
     "exception": false,
     "start_time": "2022-03-05T10:59:55.882028",
     "status": "completed"
    },
    "tags": []
   },
   "outputs": [
    {
     "data": {
      "text/plain": [
       "'from sklearn.ensemble import RandomForestRegressor\\nactual_forest = RandomForestRegressor(n_estimators = 100)\\nactual_forest = actual_forest.fit(trainDataVecs, train[\"label\"])\\naf_predictions = actual_forest.predict( testDataVecs )\\nexplained_variance_score(test[\\'label\\'], af_predictions)'"
      ]
     },
     "execution_count": 17,
     "metadata": {},
     "output_type": "execute_result"
    }
   ],
   "source": [
    "\"\"\"from sklearn.ensemble import RandomForestRegressor\n",
    "actual_forest = RandomForestRegressor(n_estimators = 100)\n",
    "actual_forest = actual_forest.fit(trainDataVecs, train[\"label\"])\n",
    "af_predictions = actual_forest.predict( testDataVecs )\n",
    "explained_variance_score(test['label'], af_predictions)\"\"\""
   ]
  },
  {
   "cell_type": "code",
   "execution_count": 18,
   "id": "1ee94d7b",
   "metadata": {
    "execution": {
     "iopub.execute_input": "2022-03-05T10:59:55.991057Z",
     "iopub.status.busy": "2022-03-05T10:59:55.989942Z",
     "iopub.status.idle": "2022-03-05T10:59:57.022695Z",
     "shell.execute_reply": "2022-03-05T10:59:57.023240Z",
     "shell.execute_reply.started": "2022-02-27T08:21:18.137684Z"
    },
    "papermill": {
     "duration": 1.069412,
     "end_time": "2022-03-05T10:59:57.023414",
     "exception": false,
     "start_time": "2022-03-05T10:59:55.954002",
     "status": "completed"
    },
    "tags": []
   },
   "outputs": [
    {
     "name": "stdout",
     "output_type": "stream",
     "text": [
      "comment_id,text\r\n",
      "114890,\"\"\"\r\n",
      " \r\n",
      "\r\n",
      "Gjalexei, you asked about whether there is an \"\"\"\"anti-editorializing\"\"\"\" policy here.  There is, and it's called wikipedia:neutral point of view.  It discusses at some length  the case of what we should do when writing about a subject which most of us find repugnant.  Whilst you're not likely to get too many defenders of FGM here, the need for the policy should be clearer for articles like abortion, for instance.\r\n"
     ]
    }
   ],
   "source": [
    "! head -n 5 /kaggle/input/jigsaw-toxic-severity-rating/comments_to_score.csv"
   ]
  },
  {
   "cell_type": "code",
   "execution_count": 19,
   "id": "0de3c849",
   "metadata": {
    "execution": {
     "iopub.execute_input": "2022-03-05T10:59:57.093235Z",
     "iopub.status.busy": "2022-03-05T10:59:57.092469Z",
     "iopub.status.idle": "2022-03-05T10:59:57.232393Z",
     "shell.execute_reply": "2022-03-05T10:59:57.231690Z",
     "shell.execute_reply.started": "2022-03-05T10:47:48.703295Z"
    },
    "papermill": {
     "duration": 0.178265,
     "end_time": "2022-03-05T10:59:57.232545",
     "exception": false,
     "start_time": "2022-03-05T10:59:57.054280",
     "status": "completed"
    },
    "tags": []
   },
   "outputs": [],
   "source": [
    "import csv\n",
    "\n",
    "texts = []\n",
    "ids = []\n",
    "with open('/kaggle/input/jigsaw-toxic-severity-rating/comments_to_score.csv', 'r') as rfile:\n",
    "  rdr = csv.reader(rfile)\n",
    "  batch = None\n",
    "  for row in rdr:\n",
    "    if batch is None:\n",
    "        batch = True\n",
    "        continue\n",
    "    ids.append(row[0])\n",
    "    texts.append(row[1].replace('\"', '').strip())"
   ]
  },
  {
   "cell_type": "code",
   "execution_count": 20,
   "id": "3b56fcbb",
   "metadata": {
    "execution": {
     "iopub.execute_input": "2022-03-05T10:59:57.299666Z",
     "iopub.status.busy": "2022-03-05T10:59:57.298978Z",
     "iopub.status.idle": "2022-03-05T10:59:58.143017Z",
     "shell.execute_reply": "2022-03-05T10:59:58.142409Z",
     "shell.execute_reply.started": "2022-02-27T08:21:27.808104Z"
    },
    "papermill": {
     "duration": 0.878664,
     "end_time": "2022-03-05T10:59:58.143158",
     "exception": false,
     "start_time": "2022-03-05T10:59:57.264494",
     "status": "completed"
    },
    "tags": []
   },
   "outputs": [
    {
     "name": "stdout",
     "output_type": "stream",
     "text": [
      "comment_id,score\r\n",
      "114890,0.5\r\n",
      "732895,0.5\r\n",
      "1139051,0.5\r\n",
      "1434512,0.5\r\n"
     ]
    }
   ],
   "source": [
    "! head -n 5 /kaggle/input/jigsaw-toxic-severity-rating/sample_submission.csv"
   ]
  },
  {
   "cell_type": "code",
   "execution_count": 21,
   "id": "892a8ecf",
   "metadata": {
    "execution": {
     "iopub.execute_input": "2022-03-05T10:59:58.210066Z",
     "iopub.status.busy": "2022-03-05T10:59:58.209334Z",
     "iopub.status.idle": "2022-03-05T10:59:58.214731Z",
     "shell.execute_reply": "2022-03-05T10:59:58.215357Z",
     "shell.execute_reply.started": "2022-03-05T09:53:58.057925Z"
    },
    "papermill": {
     "duration": 0.041061,
     "end_time": "2022-03-05T10:59:58.215531",
     "exception": false,
     "start_time": "2022-03-05T10:59:58.174470",
     "status": "completed"
    },
    "tags": []
   },
   "outputs": [
    {
     "data": {
      "text/plain": [
       "\"Gjalexei, you asked about whether there is an anti-editorializing policy here.  There is, and it's called wikipedia:neutral point of view.  It discusses at some length  the case of what we should do when writing about a subject which most of us find repugnant.  Whilst you're not likely to get too many defenders of FGM here, the need for the policy should be clearer for articles like abortion, for instance.\\n\\nIf something you write is edited and you're not sure why, please continue to question such edits on the talk page.  Sometimes, you'll learn more about wikipedia policy.  Sometimes, you'll find out that some other people working on here can get it flat-out wrong ) Robert Merkel\""
      ]
     },
     "execution_count": 21,
     "metadata": {},
     "output_type": "execute_result"
    }
   ],
   "source": [
    "texts[0]"
   ]
  },
  {
   "cell_type": "code",
   "execution_count": 22,
   "id": "3da67d4e",
   "metadata": {
    "execution": {
     "iopub.execute_input": "2022-03-05T10:59:58.283090Z",
     "iopub.status.busy": "2022-03-05T10:59:58.282328Z",
     "iopub.status.idle": "2022-03-05T11:00:04.670764Z",
     "shell.execute_reply": "2022-03-05T11:00:04.671332Z",
     "shell.execute_reply.started": "2022-03-05T10:47:52.562626Z"
    },
    "papermill": {
     "duration": 6.423841,
     "end_time": "2022-03-05T11:00:04.671548",
     "exception": false,
     "start_time": "2022-03-05T10:59:58.247707",
     "status": "completed"
    },
    "tags": []
   },
   "outputs": [
    {
     "name": "stderr",
     "output_type": "stream",
     "text": [
      "/opt/conda/lib/python3.7/site-packages/ipykernel_launcher.py:12: RuntimeWarning: invalid value encountered in true_divide\n",
      "  if sys.path[0] == '':\n"
     ]
    }
   ],
   "source": [
    "predict_txts = list(map(lambda sentence: review_to_wordlist(sentence), texts))\n",
    "predictDataVecs = list(map(lambda sentence: makeFeatureVec(sentence), predict_txts))"
   ]
  },
  {
   "cell_type": "code",
   "execution_count": 23,
   "id": "dd4ab9d2",
   "metadata": {
    "execution": {
     "iopub.execute_input": "2022-03-05T11:00:04.748638Z",
     "iopub.status.busy": "2022-03-05T11:00:04.746778Z",
     "iopub.status.idle": "2022-03-05T11:00:04.812294Z",
     "shell.execute_reply": "2022-03-05T11:00:04.811737Z",
     "shell.execute_reply.started": "2022-03-05T10:47:57.483413Z"
    },
    "papermill": {
     "duration": 0.106701,
     "end_time": "2022-03-05T11:00:04.812474",
     "exception": false,
     "start_time": "2022-03-05T11:00:04.705773",
     "status": "completed"
    },
    "tags": []
   },
   "outputs": [],
   "source": [
    "op = []\n",
    "id_idx = 0\n",
    "\n",
    "with open('submission.csv', 'w') as opfile:\n",
    "  writer = csv.writer(opfile)\n",
    "  writer.writerow([\"comment_id\",\"score\"])\n",
    "\n",
    "  labels = forest.predict( predictDataVecs )\n",
    "  for label in labels:\n",
    "      writer.writerow([\n",
    "        ids[id_idx],\n",
    "        float(label)\n",
    "      ])\n",
    "      id_idx += 1"
   ]
  },
  {
   "cell_type": "code",
   "execution_count": 24,
   "id": "59ab422c",
   "metadata": {
    "execution": {
     "iopub.execute_input": "2022-03-05T11:00:04.925427Z",
     "iopub.status.busy": "2022-03-05T11:00:04.924156Z",
     "iopub.status.idle": "2022-03-05T11:00:05.729511Z",
     "shell.execute_reply": "2022-03-05T11:00:05.728938Z",
     "shell.execute_reply.started": "2022-03-05T10:48:00.641254Z"
    },
    "papermill": {
     "duration": 0.884981,
     "end_time": "2022-03-05T11:00:05.729668",
     "exception": false,
     "start_time": "2022-03-05T11:00:04.844687",
     "status": "completed"
    },
    "tags": []
   },
   "outputs": [
    {
     "name": "stdout",
     "output_type": "stream",
     "text": [
      "\r\n",
      "\r\n",
      "\r\n",
      "\r\n",
      "\r\n"
     ]
    }
   ],
   "source": [
    "! head -n 5 submission.csv"
   ]
  }
 ],
 "metadata": {
  "kernelspec": {
   "display_name": "Python 3",
   "language": "python",
   "name": "python3"
  },
  "language_info": {
   "codemirror_mode": {
    "name": "ipython",
    "version": 3
   },
   "file_extension": ".py",
   "mimetype": "text/x-python",
   "name": "python",
   "nbconvert_exporter": "python",
   "pygments_lexer": "ipython3",
   "version": "3.7.12"
  },
  "papermill": {
   "default_parameters": {},
   "duration": 694.51968,
   "end_time": "2022-03-05T11:00:07.886127",
   "environment_variables": {},
   "exception": null,
   "input_path": "__notebook__.ipynb",
   "output_path": "__notebook__.ipynb",
   "parameters": {},
   "start_time": "2022-03-05T10:48:33.366447",
   "version": "2.3.3"
  }
 },
 "nbformat": 4,
 "nbformat_minor": 5
}
