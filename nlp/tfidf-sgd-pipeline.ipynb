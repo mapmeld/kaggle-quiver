{
 "cells": [
  {
   "cell_type": "code",
   "execution_count": 1,
   "id": "6ac3f6a5",
   "metadata": {
    "_cell_guid": "b1076dfc-b9ad-4769-8c92-a6c4dae69d19",
    "_uuid": "8f2839f25d086af736a60e9eeb907d3b93b6e0e5",
    "execution": {
     "iopub.execute_input": "2022-02-27T08:24:59.039335Z",
     "iopub.status.busy": "2022-02-27T08:24:59.038173Z",
     "iopub.status.idle": "2022-02-27T08:24:59.041829Z",
     "shell.execute_reply": "2022-02-27T08:24:59.042316Z",
     "shell.execute_reply.started": "2022-02-27T08:10:26.497248Z"
    },
    "papermill": {
     "duration": 0.019286,
     "end_time": "2022-02-27T08:24:59.042658",
     "exception": false,
     "start_time": "2022-02-27T08:24:59.023372",
     "status": "completed"
    },
    "tags": []
   },
   "outputs": [],
   "source": [
    "# pip install kaggle if you're in a non-Kaggle env\n",
    "# pip install simpletransformers if you have internet"
   ]
  },
  {
   "cell_type": "code",
   "execution_count": 2,
   "id": "c6bd9e94",
   "metadata": {
    "execution": {
     "iopub.execute_input": "2022-02-27T08:24:59.067089Z",
     "iopub.status.busy": "2022-02-27T08:24:59.066401Z",
     "iopub.status.idle": "2022-02-27T08:24:59.879526Z",
     "shell.execute_reply": "2022-02-27T08:24:59.880085Z",
     "shell.execute_reply.started": "2022-02-26T07:39:28.516696Z"
    },
    "papermill": {
     "duration": 0.82644,
     "end_time": "2022-02-27T08:24:59.880255",
     "exception": false,
     "start_time": "2022-02-27T08:24:59.053815",
     "status": "completed"
    },
    "tags": []
   },
   "outputs": [
    {
     "name": "stdout",
     "output_type": "stream",
     "text": [
      "worker,less_toxic,more_toxic\r\n",
      "313,\" This article sucks \r\n",
      "\r\n",
      "woo woo wooooooo\",\"WHAT!!!!!!!!?!?!!?!?!!?!?!?!?!!!!!!!!!!!!!!!!!!!!!!!!??????????????????????????????????????????????????????!!!!!!=\r\n",
      "WHER IS YOUR SEXY PIC GONE FROM YOUR MAIN PAGE???????? put it back\"\r\n"
     ]
    }
   ],
   "source": [
    "! head -n 5 /kaggle/input/jigsaw-toxic-severity-rating/validation_data.csv"
   ]
  },
  {
   "cell_type": "code",
   "execution_count": 3,
   "id": "17785a96",
   "metadata": {
    "execution": {
     "iopub.execute_input": "2022-02-27T08:24:59.910147Z",
     "iopub.status.busy": "2022-02-27T08:24:59.909453Z",
     "iopub.status.idle": "2022-02-27T08:25:00.568488Z",
     "shell.execute_reply": "2022-02-27T08:25:00.569000Z",
     "shell.execute_reply.started": "2022-02-27T08:20:46.921170Z"
    },
    "papermill": {
     "duration": 0.677859,
     "end_time": "2022-02-27T08:25:00.569180",
     "exception": false,
     "start_time": "2022-02-27T08:24:59.891321",
     "status": "completed"
    },
    "tags": []
   },
   "outputs": [
    {
     "name": "stderr",
     "output_type": "stream",
     "text": [
      "/opt/conda/lib/python3.7/site-packages/ipykernel_launcher.py:5: SettingWithCopyWarning: \n",
      "A value is trying to be set on a copy of a slice from a DataFrame.\n",
      "Try using .loc[row_indexer,col_indexer] = value instead\n",
      "\n",
      "See the caveats in the documentation: https://pandas.pydata.org/pandas-docs/stable/user_guide/indexing.html#returning-a-view-versus-a-copy\n",
      "  \"\"\"\n",
      "/opt/conda/lib/python3.7/site-packages/ipykernel_launcher.py:9: SettingWithCopyWarning: \n",
      "A value is trying to be set on a copy of a slice from a DataFrame.\n",
      "Try using .loc[row_indexer,col_indexer] = value instead\n",
      "\n",
      "See the caveats in the documentation: https://pandas.pydata.org/pandas-docs/stable/user_guide/indexing.html#returning-a-view-versus-a-copy\n",
      "  if __name__ == '__main__':\n"
     ]
    },
    {
     "data": {
      "text/html": [
       "<div>\n",
       "<style scoped>\n",
       "    .dataframe tbody tr th:only-of-type {\n",
       "        vertical-align: middle;\n",
       "    }\n",
       "\n",
       "    .dataframe tbody tr th {\n",
       "        vertical-align: top;\n",
       "    }\n",
       "\n",
       "    .dataframe thead th {\n",
       "        text-align: right;\n",
       "    }\n",
       "</style>\n",
       "<table border=\"1\" class=\"dataframe\">\n",
       "  <thead>\n",
       "    <tr style=\"text-align: right;\">\n",
       "      <th></th>\n",
       "      <th>text</th>\n",
       "      <th>label</th>\n",
       "    </tr>\n",
       "  </thead>\n",
       "  <tbody>\n",
       "    <tr>\n",
       "      <th>27323</th>\n",
       "      <td>Wha's a reliable source mike? Something that c...</td>\n",
       "      <td>0.35</td>\n",
       "    </tr>\n",
       "    <tr>\n",
       "      <th>10783</th>\n",
       "      <td>Your contempt is noted. I hope I don't dissapp...</td>\n",
       "      <td>0.35</td>\n",
       "    </tr>\n",
       "  </tbody>\n",
       "</table>\n",
       "</div>"
      ],
      "text/plain": [
       "                                                    text  label\n",
       "27323  Wha's a reliable source mike? Something that c...   0.35\n",
       "10783  Your contempt is noted. I hope I don't dissapp...   0.35"
      ]
     },
     "execution_count": 3,
     "metadata": {},
     "output_type": "execute_result"
    }
   ],
   "source": [
    "import pandas as pd\n",
    "trainer = pd.read_csv(\"/kaggle/input/jigsaw-toxic-severity-rating/validation_data.csv\")\n",
    "\n",
    "toxic = trainer[[\"more_toxic\"]]\n",
    "toxic[\"text\"] = toxic[\"more_toxic\"]\n",
    "toxic[\"label\"] = 0.75\n",
    "\n",
    "nontoxic = trainer[[\"less_toxic\"]]\n",
    "nontoxic[\"text\"] = nontoxic[\"less_toxic\"]\n",
    "nontoxic[\"label\"] = 0.35\n",
    "\n",
    "combined = toxic.append(nontoxic).sample(frac=1, random_state=101)\n",
    "combined = combined[[\"text\", \"label\"]]\n",
    "combined[\"label\"] = combined[\"label\"].astype('float')\n",
    "combined.head(2)"
   ]
  },
  {
   "cell_type": "code",
   "execution_count": 4,
   "id": "affa62df",
   "metadata": {
    "execution": {
     "iopub.execute_input": "2022-02-27T08:25:00.598300Z",
     "iopub.status.busy": "2022-02-27T08:25:00.597639Z",
     "iopub.status.idle": "2022-02-27T08:25:01.863764Z",
     "shell.execute_reply": "2022-02-27T08:25:01.863180Z",
     "shell.execute_reply.started": "2022-02-27T08:20:55.833980Z"
    },
    "papermill": {
     "duration": 1.282284,
     "end_time": "2022-02-27T08:25:01.863947",
     "exception": false,
     "start_time": "2022-02-27T08:25:00.581663",
     "status": "completed"
    },
    "tags": []
   },
   "outputs": [],
   "source": [
    "from sklearn.feature_extraction.text import CountVectorizer\n",
    "from sklearn.pipeline import Pipeline\n",
    "from sklearn.feature_extraction.text import TfidfTransformer\n",
    "from sklearn.linear_model import SGDRegressor"
   ]
  },
  {
   "cell_type": "code",
   "execution_count": 5,
   "id": "4dd50b2f",
   "metadata": {
    "execution": {
     "iopub.execute_input": "2022-02-27T08:25:01.894099Z",
     "iopub.status.busy": "2022-02-27T08:25:01.893414Z",
     "iopub.status.idle": "2022-02-27T08:25:01.895101Z",
     "shell.execute_reply": "2022-02-27T08:25:01.895511Z",
     "shell.execute_reply.started": "2022-02-27T08:21:09.143142Z"
    },
    "papermill": {
     "duration": 0.017874,
     "end_time": "2022-02-27T08:25:01.895689",
     "exception": false,
     "start_time": "2022-02-27T08:25:01.877815",
     "status": "completed"
    },
    "tags": []
   },
   "outputs": [],
   "source": [
    "sk_reg = Pipeline([('vect', CountVectorizer()),\n",
    "                   ('tfidf', TfidfTransformer()),\n",
    "                   ('reg', SGDRegressor()),\n",
    "])"
   ]
  },
  {
   "cell_type": "code",
   "execution_count": 6,
   "id": "27fdd5eb",
   "metadata": {
    "execution": {
     "iopub.execute_input": "2022-02-27T08:25:01.920873Z",
     "iopub.status.busy": "2022-02-27T08:25:01.920231Z",
     "iopub.status.idle": "2022-02-27T08:25:04.011314Z",
     "shell.execute_reply": "2022-02-27T08:25:04.010717Z",
     "shell.execute_reply.started": "2022-02-27T08:21:11.586183Z"
    },
    "papermill": {
     "duration": 2.104744,
     "end_time": "2022-02-27T08:25:04.011483",
     "exception": false,
     "start_time": "2022-02-27T08:25:01.906739",
     "status": "completed"
    },
    "tags": []
   },
   "outputs": [],
   "source": [
    "from sklearn.model_selection import train_test_split\n",
    "train, test = train_test_split(combined, random_state=101, train_size=0.5)\n",
    "\n",
    "sk_reg = sk_reg.fit(train['text'], train['label'])"
   ]
  },
  {
   "cell_type": "code",
   "execution_count": 7,
   "id": "e8487b57",
   "metadata": {
    "execution": {
     "iopub.execute_input": "2022-02-27T08:25:04.039806Z",
     "iopub.status.busy": "2022-02-27T08:25:04.037332Z",
     "iopub.status.idle": "2022-02-27T08:25:04.843038Z",
     "shell.execute_reply": "2022-02-27T08:25:04.843532Z",
     "shell.execute_reply.started": "2022-02-27T08:21:18.137684Z"
    },
    "papermill": {
     "duration": 0.820436,
     "end_time": "2022-02-27T08:25:04.843724",
     "exception": false,
     "start_time": "2022-02-27T08:25:04.023288",
     "status": "completed"
    },
    "tags": []
   },
   "outputs": [
    {
     "name": "stdout",
     "output_type": "stream",
     "text": [
      "comment_id,text\r\n",
      "114890,\"\"\"\r\n",
      " \r\n",
      "\r\n",
      "Gjalexei, you asked about whether there is an \"\"\"\"anti-editorializing\"\"\"\" policy here.  There is, and it's called wikipedia:neutral point of view.  It discusses at some length  the case of what we should do when writing about a subject which most of us find repugnant.  Whilst you're not likely to get too many defenders of FGM here, the need for the policy should be clearer for articles like abortion, for instance.\r\n"
     ]
    }
   ],
   "source": [
    "! head -n 5 /kaggle/input/jigsaw-toxic-severity-rating/comments_to_score.csv"
   ]
  },
  {
   "cell_type": "code",
   "execution_count": 8,
   "id": "96f9cfdb",
   "metadata": {
    "execution": {
     "iopub.execute_input": "2022-02-27T08:25:04.873847Z",
     "iopub.status.busy": "2022-02-27T08:25:04.873083Z",
     "iopub.status.idle": "2022-02-27T08:25:04.967990Z",
     "shell.execute_reply": "2022-02-27T08:25:04.967293Z",
     "shell.execute_reply.started": "2022-02-27T08:21:21.581614Z"
    },
    "papermill": {
     "duration": 0.112463,
     "end_time": "2022-02-27T08:25:04.968136",
     "exception": false,
     "start_time": "2022-02-27T08:25:04.855673",
     "status": "completed"
    },
    "tags": []
   },
   "outputs": [],
   "source": [
    "import csv\n",
    "\n",
    "texts = []\n",
    "ids = []\n",
    "with open('/kaggle/input/jigsaw-toxic-severity-rating/comments_to_score.csv', 'r') as rfile:\n",
    "  rdr = csv.reader(rfile)\n",
    "  batch = None\n",
    "  for row in rdr:\n",
    "    if batch is None:\n",
    "        batch = True\n",
    "        continue\n",
    "    ids.append(row[0])\n",
    "    texts.append(row[1].replace('\"', '').strip())"
   ]
  },
  {
   "cell_type": "code",
   "execution_count": 9,
   "id": "2ef87641",
   "metadata": {
    "execution": {
     "iopub.execute_input": "2022-02-27T08:25:05.003862Z",
     "iopub.status.busy": "2022-02-27T08:25:04.997588Z",
     "iopub.status.idle": "2022-02-27T08:25:05.794484Z",
     "shell.execute_reply": "2022-02-27T08:25:05.794954Z",
     "shell.execute_reply.started": "2022-02-27T08:21:27.808104Z"
    },
    "papermill": {
     "duration": 0.814606,
     "end_time": "2022-02-27T08:25:05.795145",
     "exception": false,
     "start_time": "2022-02-27T08:25:04.980539",
     "status": "completed"
    },
    "tags": []
   },
   "outputs": [
    {
     "name": "stdout",
     "output_type": "stream",
     "text": [
      "comment_id,score\r\n",
      "114890,0.5\r\n",
      "732895,0.5\r\n",
      "1139051,0.5\r\n",
      "1434512,0.5\r\n"
     ]
    }
   ],
   "source": [
    "! head -n 5 /kaggle/input/jigsaw-toxic-severity-rating/sample_submission.csv"
   ]
  },
  {
   "cell_type": "code",
   "execution_count": 10,
   "id": "e460cc8c",
   "metadata": {
    "execution": {
     "iopub.execute_input": "2022-02-27T08:25:05.823730Z",
     "iopub.status.busy": "2022-02-27T08:25:05.822661Z",
     "iopub.status.idle": "2022-02-27T08:25:05.829380Z",
     "shell.execute_reply": "2022-02-27T08:25:05.829931Z",
     "shell.execute_reply.started": "2022-02-27T08:21:30.637483Z"
    },
    "papermill": {
     "duration": 0.023207,
     "end_time": "2022-02-27T08:25:05.830101",
     "exception": false,
     "start_time": "2022-02-27T08:25:05.806894",
     "status": "completed"
    },
    "tags": []
   },
   "outputs": [
    {
     "data": {
      "text/plain": [
       "\"Gjalexei, you asked about whether there is an anti-editorializing policy here.  There is, and it's called wikipedia:neutral point of view.  It discusses at some length  the case of what we should do when writing about a subject which most of us find repugnant.  Whilst you're not likely to get too many defenders of FGM here, the need for the policy should be clearer for articles like abortion, for instance.\\n\\nIf something you write is edited and you're not sure why, please continue to question such edits on the talk page.  Sometimes, you'll learn more about wikipedia policy.  Sometimes, you'll find out that some other people working on here can get it flat-out wrong ) Robert Merkel\""
      ]
     },
     "execution_count": 10,
     "metadata": {},
     "output_type": "execute_result"
    }
   ],
   "source": [
    "texts[0]"
   ]
  },
  {
   "cell_type": "code",
   "execution_count": 11,
   "id": "fdef7084",
   "metadata": {
    "execution": {
     "iopub.execute_input": "2022-02-27T08:25:05.858383Z",
     "iopub.status.busy": "2022-02-27T08:25:05.857371Z",
     "iopub.status.idle": "2022-02-27T08:25:06.301387Z",
     "shell.execute_reply": "2022-02-27T08:25:06.301952Z",
     "shell.execute_reply.started": "2022-02-27T08:24:23.892069Z"
    },
    "papermill": {
     "duration": 0.46023,
     "end_time": "2022-02-27T08:25:06.302136",
     "exception": false,
     "start_time": "2022-02-27T08:25:05.841906",
     "status": "completed"
    },
    "tags": []
   },
   "outputs": [],
   "source": [
    "%%capture\n",
    "op = []\n",
    "id_idx = 0\n",
    "\n",
    "with open('submission.csv', 'w') as opfile:\n",
    "  writer = csv.writer(opfile)\n",
    "  writer.writerow([\"comment_id\",\"score\"])\n",
    "\n",
    "  labels = sk_reg.predict(texts)\n",
    "  for label in labels:\n",
    "      writer.writerow([\n",
    "        ids[id_idx],\n",
    "        float(label)\n",
    "      ])\n",
    "      id_idx += 1"
   ]
  },
  {
   "cell_type": "code",
   "execution_count": 12,
   "id": "26f5f654",
   "metadata": {
    "execution": {
     "iopub.execute_input": "2022-02-27T08:25:06.330262Z",
     "iopub.status.busy": "2022-02-27T08:25:06.329071Z",
     "iopub.status.idle": "2022-02-27T08:25:07.124855Z",
     "shell.execute_reply": "2022-02-27T08:25:07.125369Z",
     "shell.execute_reply.started": "2022-02-27T08:24:28.206491Z"
    },
    "papermill": {
     "duration": 0.811349,
     "end_time": "2022-02-27T08:25:07.125589",
     "exception": false,
     "start_time": "2022-02-27T08:25:06.314240",
     "status": "completed"
    },
    "tags": []
   },
   "outputs": [
    {
     "name": "stdout",
     "output_type": "stream",
     "text": [
      "\r\n",
      "\r\n",
      "\r\n",
      "\r\n",
      "\r\n"
     ]
    }
   ],
   "source": [
    "! head -n 5 submission.csv"
   ]
  }
 ],
 "metadata": {
  "kernelspec": {
   "display_name": "Python 3",
   "language": "python",
   "name": "python3"
  },
  "language_info": {
   "codemirror_mode": {
    "name": "ipython",
    "version": 3
   },
   "file_extension": ".py",
   "mimetype": "text/x-python",
   "name": "python",
   "nbconvert_exporter": "python",
   "pygments_lexer": "ipython3",
   "version": "3.7.12"
  },
  "papermill": {
   "default_parameters": {},
   "duration": 18.301722,
   "end_time": "2022-02-27T08:25:07.950757",
   "environment_variables": {},
   "exception": null,
   "input_path": "__notebook__.ipynb",
   "output_path": "__notebook__.ipynb",
   "parameters": {},
   "start_time": "2022-02-27T08:24:49.649035",
   "version": "2.3.3"
  }
 },
 "nbformat": 4,
 "nbformat_minor": 5
}
