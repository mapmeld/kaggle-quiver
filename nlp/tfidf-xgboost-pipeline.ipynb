{
 "cells": [
  {
   "cell_type": "code",
   "execution_count": 1,
   "id": "d5ebeafe",
   "metadata": {
    "_cell_guid": "b1076dfc-b9ad-4769-8c92-a6c4dae69d19",
    "_uuid": "8f2839f25d086af736a60e9eeb907d3b93b6e0e5",
    "execution": {
     "iopub.execute_input": "2022-02-27T18:33:08.022964Z",
     "iopub.status.busy": "2022-02-27T18:33:08.021784Z",
     "iopub.status.idle": "2022-02-27T18:33:08.026907Z",
     "shell.execute_reply": "2022-02-27T18:33:08.026242Z",
     "shell.execute_reply.started": "2022-02-27T08:10:26.497248Z"
    },
    "papermill": {
     "duration": 0.027191,
     "end_time": "2022-02-27T18:33:08.027080",
     "exception": false,
     "start_time": "2022-02-27T18:33:07.999889",
     "status": "completed"
    },
    "tags": []
   },
   "outputs": [],
   "source": [
    "# pip install kaggle if you're in a non-Kaggle env\n",
    "# pip install simpletransformers if you have internet"
   ]
  },
  {
   "cell_type": "code",
   "execution_count": 2,
   "id": "7cbb420f",
   "metadata": {
    "execution": {
     "iopub.execute_input": "2022-02-27T18:33:08.066255Z",
     "iopub.status.busy": "2022-02-27T18:33:08.065379Z",
     "iopub.status.idle": "2022-02-27T18:33:08.844100Z",
     "shell.execute_reply": "2022-02-27T18:33:08.843375Z",
     "shell.execute_reply.started": "2022-02-27T18:27:02.698641Z"
    },
    "papermill": {
     "duration": 0.799379,
     "end_time": "2022-02-27T18:33:08.844251",
     "exception": false,
     "start_time": "2022-02-27T18:33:08.044872",
     "status": "completed"
    },
    "tags": []
   },
   "outputs": [
    {
     "name": "stdout",
     "output_type": "stream",
     "text": [
      "worker,less_toxic,more_toxic\r\n",
      "313,\" This article sucks \r\n",
      "\r\n",
      "woo woo wooooooo\",\"WHAT!!!!!!!!?!?!!?!?!!?!?!?!?!!!!!!!!!!!!!!!!!!!!!!!!??????????????????????????????????????????????????????!!!!!!=\r\n",
      "WHER IS YOUR SEXY PIC GONE FROM YOUR MAIN PAGE???????? put it back\"\r\n"
     ]
    }
   ],
   "source": [
    "! head -n 5 /kaggle/input/jigsaw-toxic-severity-rating/validation_data.csv"
   ]
  },
  {
   "cell_type": "code",
   "execution_count": 3,
   "id": "4673b8e0",
   "metadata": {
    "execution": {
     "iopub.execute_input": "2022-02-27T18:33:08.884151Z",
     "iopub.status.busy": "2022-02-27T18:33:08.883419Z",
     "iopub.status.idle": "2022-02-27T18:33:09.777321Z",
     "shell.execute_reply": "2022-02-27T18:33:09.778131Z",
     "shell.execute_reply.started": "2022-02-27T18:30:53.263396Z"
    },
    "papermill": {
     "duration": 0.915494,
     "end_time": "2022-02-27T18:33:09.778353",
     "exception": false,
     "start_time": "2022-02-27T18:33:08.862859",
     "status": "completed"
    },
    "tags": []
   },
   "outputs": [
    {
     "name": "stderr",
     "output_type": "stream",
     "text": [
      "/opt/conda/lib/python3.7/site-packages/ipykernel_launcher.py:5: SettingWithCopyWarning: \n",
      "A value is trying to be set on a copy of a slice from a DataFrame.\n",
      "Try using .loc[row_indexer,col_indexer] = value instead\n",
      "\n",
      "See the caveats in the documentation: https://pandas.pydata.org/pandas-docs/stable/user_guide/indexing.html#returning-a-view-versus-a-copy\n",
      "  \"\"\"\n",
      "/opt/conda/lib/python3.7/site-packages/ipykernel_launcher.py:9: SettingWithCopyWarning: \n",
      "A value is trying to be set on a copy of a slice from a DataFrame.\n",
      "Try using .loc[row_indexer,col_indexer] = value instead\n",
      "\n",
      "See the caveats in the documentation: https://pandas.pydata.org/pandas-docs/stable/user_guide/indexing.html#returning-a-view-versus-a-copy\n",
      "  if __name__ == '__main__':\n"
     ]
    },
    {
     "data": {
      "text/html": [
       "<div>\n",
       "<style scoped>\n",
       "    .dataframe tbody tr th:only-of-type {\n",
       "        vertical-align: middle;\n",
       "    }\n",
       "\n",
       "    .dataframe tbody tr th {\n",
       "        vertical-align: top;\n",
       "    }\n",
       "\n",
       "    .dataframe thead th {\n",
       "        text-align: right;\n",
       "    }\n",
       "</style>\n",
       "<table border=\"1\" class=\"dataframe\">\n",
       "  <thead>\n",
       "    <tr style=\"text-align: right;\">\n",
       "      <th></th>\n",
       "      <th>text</th>\n",
       "      <th>label</th>\n",
       "    </tr>\n",
       "  </thead>\n",
       "  <tbody>\n",
       "    <tr>\n",
       "      <th>27323</th>\n",
       "      <td>Wha's a reliable source mike? Something that c...</td>\n",
       "      <td>0.35</td>\n",
       "    </tr>\n",
       "    <tr>\n",
       "      <th>10783</th>\n",
       "      <td>Your contempt is noted. I hope I don't dissapp...</td>\n",
       "      <td>0.35</td>\n",
       "    </tr>\n",
       "  </tbody>\n",
       "</table>\n",
       "</div>"
      ],
      "text/plain": [
       "                                                    text  label\n",
       "27323  Wha's a reliable source mike? Something that c...   0.35\n",
       "10783  Your contempt is noted. I hope I don't dissapp...   0.35"
      ]
     },
     "execution_count": 3,
     "metadata": {},
     "output_type": "execute_result"
    }
   ],
   "source": [
    "import pandas as pd\n",
    "trainer = pd.read_csv(\"/kaggle/input/jigsaw-toxic-severity-rating/validation_data.csv\")\n",
    "\n",
    "toxic = trainer[[\"more_toxic\"]]\n",
    "toxic[\"text\"] = toxic[\"more_toxic\"]\n",
    "toxic[\"label\"] = 0.75\n",
    "\n",
    "nontoxic = trainer[[\"less_toxic\"]]\n",
    "nontoxic[\"text\"] = nontoxic[\"less_toxic\"]\n",
    "nontoxic[\"label\"] = 0.35\n",
    "\n",
    "combined = toxic.append(nontoxic).sample(frac=1, random_state=101)\n",
    "combined = combined[[\"text\", \"label\"]]\n",
    "combined[\"label\"] = combined[\"label\"].astype('float')\n",
    "combined.head(2)"
   ]
  },
  {
   "cell_type": "code",
   "execution_count": 4,
   "id": "58e687e1",
   "metadata": {
    "execution": {
     "iopub.execute_input": "2022-02-27T18:33:09.821443Z",
     "iopub.status.busy": "2022-02-27T18:33:09.820663Z",
     "iopub.status.idle": "2022-02-27T18:33:11.225286Z",
     "shell.execute_reply": "2022-02-27T18:33:11.224649Z",
     "shell.execute_reply.started": "2022-02-27T18:30:56.657370Z"
    },
    "papermill": {
     "duration": 1.428356,
     "end_time": "2022-02-27T18:33:11.225435",
     "exception": false,
     "start_time": "2022-02-27T18:33:09.797079",
     "status": "completed"
    },
    "tags": []
   },
   "outputs": [],
   "source": [
    "from sklearn.feature_extraction.text import CountVectorizer\n",
    "from sklearn.pipeline import Pipeline\n",
    "from sklearn.feature_extraction.text import TfidfTransformer\n",
    "from sklearn.ensemble import GradientBoostingRegressor"
   ]
  },
  {
   "cell_type": "code",
   "execution_count": 5,
   "id": "4fa61e58",
   "metadata": {
    "execution": {
     "iopub.execute_input": "2022-02-27T18:33:11.268207Z",
     "iopub.status.busy": "2022-02-27T18:33:11.267492Z",
     "iopub.status.idle": "2022-02-27T18:33:11.272793Z",
     "shell.execute_reply": "2022-02-27T18:33:11.272192Z",
     "shell.execute_reply.started": "2022-02-27T18:30:58.626945Z"
    },
    "papermill": {
     "duration": 0.028719,
     "end_time": "2022-02-27T18:33:11.272938",
     "exception": false,
     "start_time": "2022-02-27T18:33:11.244219",
     "status": "completed"
    },
    "tags": []
   },
   "outputs": [],
   "source": [
    "sk_reg = Pipeline([('vect', CountVectorizer()),\n",
    "                   ('tfidf', TfidfTransformer()),\n",
    "                   ('reg', GradientBoostingRegressor()),\n",
    "])"
   ]
  },
  {
   "cell_type": "code",
   "execution_count": 6,
   "id": "03b6cd77",
   "metadata": {
    "execution": {
     "iopub.execute_input": "2022-02-27T18:33:11.317760Z",
     "iopub.status.busy": "2022-02-27T18:33:11.316925Z",
     "iopub.status.idle": "2022-02-27T18:34:42.298134Z",
     "shell.execute_reply": "2022-02-27T18:34:42.298790Z",
     "shell.execute_reply.started": "2022-02-27T18:31:00.563019Z"
    },
    "papermill": {
     "duration": 91.006994,
     "end_time": "2022-02-27T18:34:42.299005",
     "exception": false,
     "start_time": "2022-02-27T18:33:11.292011",
     "status": "completed"
    },
    "tags": []
   },
   "outputs": [],
   "source": [
    "from sklearn.model_selection import train_test_split\n",
    "train, test = train_test_split(combined, random_state=101, train_size=0.999)\n",
    "\n",
    "sk_reg = sk_reg.fit(train['text'], train['label'])"
   ]
  },
  {
   "cell_type": "code",
   "execution_count": 7,
   "id": "4ab07247",
   "metadata": {
    "execution": {
     "iopub.execute_input": "2022-02-27T18:34:42.344127Z",
     "iopub.status.busy": "2022-02-27T18:34:42.343392Z",
     "iopub.status.idle": "2022-02-27T18:34:42.346304Z",
     "shell.execute_reply": "2022-02-27T18:34:42.345733Z",
     "shell.execute_reply.started": "2022-02-27T08:33:36.102482Z"
    },
    "papermill": {
     "duration": 0.02822,
     "end_time": "2022-02-27T18:34:42.346452",
     "exception": false,
     "start_time": "2022-02-27T18:34:42.318232",
     "status": "completed"
    },
    "tags": []
   },
   "outputs": [],
   "source": [
    "# with train_size=0.5, sgd\n",
    "# from sklearn.metrics import explained_variance_score\n",
    "# test_vals = sk_reg.predict(test['text'])\n",
    "# explained_variance_score(test['label'], test_vals)"
   ]
  },
  {
   "cell_type": "code",
   "execution_count": 8,
   "id": "a4036d8f",
   "metadata": {
    "execution": {
     "iopub.execute_input": "2022-02-27T18:34:42.387969Z",
     "iopub.status.busy": "2022-02-27T18:34:42.387210Z",
     "iopub.status.idle": "2022-02-27T18:34:42.390526Z",
     "shell.execute_reply": "2022-02-27T18:34:42.391033Z",
     "shell.execute_reply.started": "2022-02-27T08:34:12.227141Z"
    },
    "papermill": {
     "duration": 0.026,
     "end_time": "2022-02-27T18:34:42.391227",
     "exception": false,
     "start_time": "2022-02-27T18:34:42.365227",
     "status": "completed"
    },
    "tags": []
   },
   "outputs": [],
   "source": [
    "# train_size=0.75, sgd\n",
    "# test_vals = sk_reg.predict(test['text'])\n",
    "# explained_variance_score(test['label'], test_vals)"
   ]
  },
  {
   "cell_type": "code",
   "execution_count": 9,
   "id": "ffda8867",
   "metadata": {
    "execution": {
     "iopub.execute_input": "2022-02-27T18:34:42.433046Z",
     "iopub.status.busy": "2022-02-27T18:34:42.432181Z",
     "iopub.status.idle": "2022-02-27T18:34:42.448430Z",
     "shell.execute_reply": "2022-02-27T18:34:42.448951Z",
     "shell.execute_reply.started": "2022-02-27T18:29:05.366404Z"
    },
    "papermill": {
     "duration": 0.038979,
     "end_time": "2022-02-27T18:34:42.449138",
     "exception": false,
     "start_time": "2022-02-27T18:34:42.410159",
     "status": "completed"
    },
    "tags": []
   },
   "outputs": [
    {
     "data": {
      "text/plain": [
       "0.09744172534245932"
      ]
     },
     "execution_count": 9,
     "metadata": {},
     "output_type": "execute_result"
    }
   ],
   "source": [
    "# train_size=0.75, Ridge\n",
    "from sklearn.metrics import explained_variance_score\n",
    "test_vals = sk_reg.predict(test['text'])\n",
    "explained_variance_score(test['label'], test_vals)\n",
    "# 0.0899"
   ]
  },
  {
   "cell_type": "code",
   "execution_count": 10,
   "id": "f08254ca",
   "metadata": {
    "execution": {
     "iopub.execute_input": "2022-02-27T18:34:42.491419Z",
     "iopub.status.busy": "2022-02-27T18:34:42.490791Z",
     "iopub.status.idle": "2022-02-27T18:34:42.504999Z",
     "shell.execute_reply": "2022-02-27T18:34:42.505466Z",
     "shell.execute_reply.started": "2022-02-27T18:28:16.437938Z"
    },
    "papermill": {
     "duration": 0.036515,
     "end_time": "2022-02-27T18:34:42.505647",
     "exception": false,
     "start_time": "2022-02-27T18:34:42.469132",
     "status": "completed"
    },
    "tags": []
   },
   "outputs": [
    {
     "data": {
      "text/plain": [
       "0.09744172534245932"
      ]
     },
     "execution_count": 10,
     "metadata": {},
     "output_type": "execute_result"
    }
   ],
   "source": [
    "# train_size=0.75, XGBoost Regressor\n",
    "from sklearn.metrics import explained_variance_score\n",
    "test_vals = sk_reg.predict(test['text'])\n",
    "explained_variance_score(test['label'], test_vals)\n",
    "# 0.074"
   ]
  },
  {
   "cell_type": "code",
   "execution_count": 11,
   "id": "bdaa5872",
   "metadata": {
    "execution": {
     "iopub.execute_input": "2022-02-27T18:34:42.549870Z",
     "iopub.status.busy": "2022-02-27T18:34:42.548676Z",
     "iopub.status.idle": "2022-02-27T18:34:43.318475Z",
     "shell.execute_reply": "2022-02-27T18:34:43.317854Z",
     "shell.execute_reply.started": "2022-02-27T08:21:18.137684Z"
    },
    "papermill": {
     "duration": 0.793821,
     "end_time": "2022-02-27T18:34:43.318624",
     "exception": false,
     "start_time": "2022-02-27T18:34:42.524803",
     "status": "completed"
    },
    "tags": []
   },
   "outputs": [
    {
     "name": "stdout",
     "output_type": "stream",
     "text": [
      "comment_id,text\r\n",
      "114890,\"\"\"\r\n",
      " \r\n",
      "\r\n",
      "Gjalexei, you asked about whether there is an \"\"\"\"anti-editorializing\"\"\"\" policy here.  There is, and it's called wikipedia:neutral point of view.  It discusses at some length  the case of what we should do when writing about a subject which most of us find repugnant.  Whilst you're not likely to get too many defenders of FGM here, the need for the policy should be clearer for articles like abortion, for instance.\r\n"
     ]
    }
   ],
   "source": [
    "! head -n 5 /kaggle/input/jigsaw-toxic-severity-rating/comments_to_score.csv"
   ]
  },
  {
   "cell_type": "code",
   "execution_count": 12,
   "id": "2598d351",
   "metadata": {
    "execution": {
     "iopub.execute_input": "2022-02-27T18:34:43.367285Z",
     "iopub.status.busy": "2022-02-27T18:34:43.366472Z",
     "iopub.status.idle": "2022-02-27T18:34:43.501667Z",
     "shell.execute_reply": "2022-02-27T18:34:43.502305Z",
     "shell.execute_reply.started": "2022-02-27T18:32:31.459573Z"
    },
    "papermill": {
     "duration": 0.16406,
     "end_time": "2022-02-27T18:34:43.502493",
     "exception": false,
     "start_time": "2022-02-27T18:34:43.338433",
     "status": "completed"
    },
    "tags": []
   },
   "outputs": [],
   "source": [
    "import csv\n",
    "\n",
    "texts = []\n",
    "ids = []\n",
    "with open('/kaggle/input/jigsaw-toxic-severity-rating/comments_to_score.csv', 'r') as rfile:\n",
    "  rdr = csv.reader(rfile)\n",
    "  batch = None\n",
    "  for row in rdr:\n",
    "    if batch is None:\n",
    "        batch = True\n",
    "        continue\n",
    "    ids.append(row[0])\n",
    "    texts.append(row[1].replace('\"', '').strip())"
   ]
  },
  {
   "cell_type": "code",
   "execution_count": 13,
   "id": "2394ce0e",
   "metadata": {
    "execution": {
     "iopub.execute_input": "2022-02-27T18:34:43.556034Z",
     "iopub.status.busy": "2022-02-27T18:34:43.555359Z",
     "iopub.status.idle": "2022-02-27T18:34:44.309871Z",
     "shell.execute_reply": "2022-02-27T18:34:44.310377Z",
     "shell.execute_reply.started": "2022-02-27T08:21:27.808104Z"
    },
    "papermill": {
     "duration": 0.787801,
     "end_time": "2022-02-27T18:34:44.310583",
     "exception": false,
     "start_time": "2022-02-27T18:34:43.522782",
     "status": "completed"
    },
    "tags": []
   },
   "outputs": [
    {
     "name": "stdout",
     "output_type": "stream",
     "text": [
      "comment_id,score\r\n",
      "114890,0.5\r\n",
      "732895,0.5\r\n",
      "1139051,0.5\r\n",
      "1434512,0.5\r\n"
     ]
    }
   ],
   "source": [
    "! head -n 5 /kaggle/input/jigsaw-toxic-severity-rating/sample_submission.csv"
   ]
  },
  {
   "cell_type": "code",
   "execution_count": 14,
   "id": "c217f715",
   "metadata": {
    "execution": {
     "iopub.execute_input": "2022-02-27T18:34:44.354114Z",
     "iopub.status.busy": "2022-02-27T18:34:44.353398Z",
     "iopub.status.idle": "2022-02-27T18:34:44.359870Z",
     "shell.execute_reply": "2022-02-27T18:34:44.360393Z",
     "shell.execute_reply.started": "2022-02-27T08:21:30.637483Z"
    },
    "papermill": {
     "duration": 0.029969,
     "end_time": "2022-02-27T18:34:44.360559",
     "exception": false,
     "start_time": "2022-02-27T18:34:44.330590",
     "status": "completed"
    },
    "tags": []
   },
   "outputs": [
    {
     "data": {
      "text/plain": [
       "\"Gjalexei, you asked about whether there is an anti-editorializing policy here.  There is, and it's called wikipedia:neutral point of view.  It discusses at some length  the case of what we should do when writing about a subject which most of us find repugnant.  Whilst you're not likely to get too many defenders of FGM here, the need for the policy should be clearer for articles like abortion, for instance.\\n\\nIf something you write is edited and you're not sure why, please continue to question such edits on the talk page.  Sometimes, you'll learn more about wikipedia policy.  Sometimes, you'll find out that some other people working on here can get it flat-out wrong ) Robert Merkel\""
      ]
     },
     "execution_count": 14,
     "metadata": {},
     "output_type": "execute_result"
    }
   ],
   "source": [
    "texts[0]"
   ]
  },
  {
   "cell_type": "code",
   "execution_count": 15,
   "id": "dd4e1b50",
   "metadata": {
    "execution": {
     "iopub.execute_input": "2022-02-27T18:34:44.404786Z",
     "iopub.status.busy": "2022-02-27T18:34:44.404122Z",
     "iopub.status.idle": "2022-02-27T18:34:45.079258Z",
     "shell.execute_reply": "2022-02-27T18:34:45.078109Z",
     "shell.execute_reply.started": "2022-02-27T18:32:31.613187Z"
    },
    "papermill": {
     "duration": 0.698428,
     "end_time": "2022-02-27T18:34:45.079464",
     "exception": false,
     "start_time": "2022-02-27T18:34:44.381036",
     "status": "completed"
    },
    "tags": []
   },
   "outputs": [],
   "source": [
    "op = []\n",
    "id_idx = 0\n",
    "\n",
    "with open('submission.csv', 'w') as opfile:\n",
    "  writer = csv.writer(opfile)\n",
    "  writer.writerow([\"comment_id\",\"score\"])\n",
    "\n",
    "  labels = sk_reg.predict(texts)\n",
    "  for label in labels:\n",
    "      writer.writerow([\n",
    "        ids[id_idx],\n",
    "        float(label)\n",
    "      ])\n",
    "      id_idx += 1"
   ]
  },
  {
   "cell_type": "code",
   "execution_count": 16,
   "id": "6ee7c84c",
   "metadata": {
    "execution": {
     "iopub.execute_input": "2022-02-27T18:34:45.127566Z",
     "iopub.status.busy": "2022-02-27T18:34:45.125271Z",
     "iopub.status.idle": "2022-02-27T18:34:45.891270Z",
     "shell.execute_reply": "2022-02-27T18:34:45.891780Z",
     "shell.execute_reply.started": "2022-02-27T18:32:32.291154Z"
    },
    "papermill": {
     "duration": 0.790827,
     "end_time": "2022-02-27T18:34:45.891970",
     "exception": false,
     "start_time": "2022-02-27T18:34:45.101143",
     "status": "completed"
    },
    "tags": []
   },
   "outputs": [
    {
     "name": "stdout",
     "output_type": "stream",
     "text": [
      "\r\n",
      "\r\n",
      "\r\n",
      "\r\n",
      "\r\n"
     ]
    }
   ],
   "source": [
    "! head -n 5 submission.csv"
   ]
  }
 ],
 "metadata": {
  "kernelspec": {
   "display_name": "Python 3",
   "language": "python",
   "name": "python3"
  },
  "language_info": {
   "codemirror_mode": {
    "name": "ipython",
    "version": 3
   },
   "file_extension": ".py",
   "mimetype": "text/x-python",
   "name": "python",
   "nbconvert_exporter": "python",
   "pygments_lexer": "ipython3",
   "version": "3.7.12"
  },
  "papermill": {
   "default_parameters": {},
   "duration": 109.399441,
   "end_time": "2022-02-27T18:34:46.727601",
   "environment_variables": {},
   "exception": null,
   "input_path": "__notebook__.ipynb",
   "output_path": "__notebook__.ipynb",
   "parameters": {},
   "start_time": "2022-02-27T18:32:57.328160",
   "version": "2.3.3"
  }
 },
 "nbformat": 4,
 "nbformat_minor": 5
}
