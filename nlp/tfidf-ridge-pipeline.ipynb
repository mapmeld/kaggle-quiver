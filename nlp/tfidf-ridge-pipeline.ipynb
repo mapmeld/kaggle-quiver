{
 "cells": [
  {
   "cell_type": "code",
   "execution_count": 1,
   "id": "dc893e95",
   "metadata": {
    "_cell_guid": "b1076dfc-b9ad-4769-8c92-a6c4dae69d19",
    "_uuid": "8f2839f25d086af736a60e9eeb907d3b93b6e0e5",
    "execution": {
     "iopub.execute_input": "2022-02-27T08:38:04.733986Z",
     "iopub.status.busy": "2022-02-27T08:38:04.732215Z",
     "iopub.status.idle": "2022-02-27T08:38:04.735995Z",
     "shell.execute_reply": "2022-02-27T08:38:04.737136Z",
     "shell.execute_reply.started": "2022-02-27T08:10:26.497248Z"
    },
    "papermill": {
     "duration": 0.028926,
     "end_time": "2022-02-27T08:38:04.737450",
     "exception": false,
     "start_time": "2022-02-27T08:38:04.708524",
     "status": "completed"
    },
    "tags": []
   },
   "outputs": [],
   "source": [
    "# pip install kaggle if you're in a non-Kaggle env\n",
    "# pip install simpletransformers if you have internet"
   ]
  },
  {
   "cell_type": "code",
   "execution_count": 2,
   "id": "3b8f7bdd",
   "metadata": {
    "execution": {
     "iopub.execute_input": "2022-02-27T08:38:04.788773Z",
     "iopub.status.busy": "2022-02-27T08:38:04.783401Z",
     "iopub.status.idle": "2022-02-27T08:38:05.537702Z",
     "shell.execute_reply": "2022-02-27T08:38:05.536954Z",
     "shell.execute_reply.started": "2022-02-26T07:39:28.516696Z"
    },
    "papermill": {
     "duration": 0.782006,
     "end_time": "2022-02-27T08:38:05.537857",
     "exception": false,
     "start_time": "2022-02-27T08:38:04.755851",
     "status": "completed"
    },
    "tags": []
   },
   "outputs": [
    {
     "name": "stdout",
     "output_type": "stream",
     "text": [
      "worker,less_toxic,more_toxic\r\n",
      "313,\" This article sucks \r\n",
      "\r\n",
      "woo woo wooooooo\",\"WHAT!!!!!!!!?!?!!?!?!!?!?!?!?!!!!!!!!!!!!!!!!!!!!!!!!??????????????????????????????????????????????????????!!!!!!=\r\n",
      "WHER IS YOUR SEXY PIC GONE FROM YOUR MAIN PAGE???????? put it back\"\r\n"
     ]
    }
   ],
   "source": [
    "! head -n 5 /kaggle/input/jigsaw-toxic-severity-rating/validation_data.csv"
   ]
  },
  {
   "cell_type": "code",
   "execution_count": 3,
   "id": "79918d02",
   "metadata": {
    "execution": {
     "iopub.execute_input": "2022-02-27T08:38:05.582199Z",
     "iopub.status.busy": "2022-02-27T08:38:05.581318Z",
     "iopub.status.idle": "2022-02-27T08:38:06.220603Z",
     "shell.execute_reply": "2022-02-27T08:38:06.221124Z",
     "shell.execute_reply.started": "2022-02-27T08:36:17.175176Z"
    },
    "papermill": {
     "duration": 0.666266,
     "end_time": "2022-02-27T08:38:06.221321",
     "exception": false,
     "start_time": "2022-02-27T08:38:05.555055",
     "status": "completed"
    },
    "tags": []
   },
   "outputs": [
    {
     "name": "stderr",
     "output_type": "stream",
     "text": [
      "/opt/conda/lib/python3.7/site-packages/ipykernel_launcher.py:5: SettingWithCopyWarning: \n",
      "A value is trying to be set on a copy of a slice from a DataFrame.\n",
      "Try using .loc[row_indexer,col_indexer] = value instead\n",
      "\n",
      "See the caveats in the documentation: https://pandas.pydata.org/pandas-docs/stable/user_guide/indexing.html#returning-a-view-versus-a-copy\n",
      "  \"\"\"\n",
      "/opt/conda/lib/python3.7/site-packages/ipykernel_launcher.py:9: SettingWithCopyWarning: \n",
      "A value is trying to be set on a copy of a slice from a DataFrame.\n",
      "Try using .loc[row_indexer,col_indexer] = value instead\n",
      "\n",
      "See the caveats in the documentation: https://pandas.pydata.org/pandas-docs/stable/user_guide/indexing.html#returning-a-view-versus-a-copy\n",
      "  if __name__ == '__main__':\n"
     ]
    },
    {
     "data": {
      "text/html": [
       "<div>\n",
       "<style scoped>\n",
       "    .dataframe tbody tr th:only-of-type {\n",
       "        vertical-align: middle;\n",
       "    }\n",
       "\n",
       "    .dataframe tbody tr th {\n",
       "        vertical-align: top;\n",
       "    }\n",
       "\n",
       "    .dataframe thead th {\n",
       "        text-align: right;\n",
       "    }\n",
       "</style>\n",
       "<table border=\"1\" class=\"dataframe\">\n",
       "  <thead>\n",
       "    <tr style=\"text-align: right;\">\n",
       "      <th></th>\n",
       "      <th>text</th>\n",
       "      <th>label</th>\n",
       "    </tr>\n",
       "  </thead>\n",
       "  <tbody>\n",
       "    <tr>\n",
       "      <th>27323</th>\n",
       "      <td>Wha's a reliable source mike? Something that c...</td>\n",
       "      <td>0.35</td>\n",
       "    </tr>\n",
       "    <tr>\n",
       "      <th>10783</th>\n",
       "      <td>Your contempt is noted. I hope I don't dissapp...</td>\n",
       "      <td>0.35</td>\n",
       "    </tr>\n",
       "  </tbody>\n",
       "</table>\n",
       "</div>"
      ],
      "text/plain": [
       "                                                    text  label\n",
       "27323  Wha's a reliable source mike? Something that c...   0.35\n",
       "10783  Your contempt is noted. I hope I don't dissapp...   0.35"
      ]
     },
     "execution_count": 3,
     "metadata": {},
     "output_type": "execute_result"
    }
   ],
   "source": [
    "import pandas as pd\n",
    "trainer = pd.read_csv(\"/kaggle/input/jigsaw-toxic-severity-rating/validation_data.csv\")\n",
    "\n",
    "toxic = trainer[[\"more_toxic\"]]\n",
    "toxic[\"text\"] = toxic[\"more_toxic\"]\n",
    "toxic[\"label\"] = 0.75\n",
    "\n",
    "nontoxic = trainer[[\"less_toxic\"]]\n",
    "nontoxic[\"text\"] = nontoxic[\"less_toxic\"]\n",
    "nontoxic[\"label\"] = 0.35\n",
    "\n",
    "combined = toxic.append(nontoxic).sample(frac=1, random_state=101)\n",
    "combined = combined[[\"text\", \"label\"]]\n",
    "combined[\"label\"] = combined[\"label\"].astype('float')\n",
    "combined.head(2)"
   ]
  },
  {
   "cell_type": "code",
   "execution_count": 4,
   "id": "c8abfb0f",
   "metadata": {
    "execution": {
     "iopub.execute_input": "2022-02-27T08:38:06.261085Z",
     "iopub.status.busy": "2022-02-27T08:38:06.260369Z",
     "iopub.status.idle": "2022-02-27T08:38:07.609206Z",
     "shell.execute_reply": "2022-02-27T08:38:07.609815Z",
     "shell.execute_reply.started": "2022-02-27T08:36:20.538286Z"
    },
    "papermill": {
     "duration": 1.370474,
     "end_time": "2022-02-27T08:38:07.610054",
     "exception": false,
     "start_time": "2022-02-27T08:38:06.239580",
     "status": "completed"
    },
    "tags": []
   },
   "outputs": [],
   "source": [
    "from sklearn.feature_extraction.text import CountVectorizer\n",
    "from sklearn.pipeline import Pipeline\n",
    "from sklearn.feature_extraction.text import TfidfTransformer\n",
    "from sklearn.linear_model import Ridge"
   ]
  },
  {
   "cell_type": "code",
   "execution_count": 5,
   "id": "511a2b70",
   "metadata": {
    "execution": {
     "iopub.execute_input": "2022-02-27T08:38:07.653594Z",
     "iopub.status.busy": "2022-02-27T08:38:07.652459Z",
     "iopub.status.idle": "2022-02-27T08:38:07.654715Z",
     "shell.execute_reply": "2022-02-27T08:38:07.655249Z",
     "shell.execute_reply.started": "2022-02-27T08:36:22.954040Z"
    },
    "papermill": {
     "duration": 0.026807,
     "end_time": "2022-02-27T08:38:07.655447",
     "exception": false,
     "start_time": "2022-02-27T08:38:07.628640",
     "status": "completed"
    },
    "tags": []
   },
   "outputs": [],
   "source": [
    "sk_reg = Pipeline([('vect', CountVectorizer()),\n",
    "                   ('tfidf', TfidfTransformer()),\n",
    "                   ('reg', Ridge()),\n",
    "])"
   ]
  },
  {
   "cell_type": "code",
   "execution_count": 6,
   "id": "d6dd9099",
   "metadata": {
    "execution": {
     "iopub.execute_input": "2022-02-27T08:38:07.697144Z",
     "iopub.status.busy": "2022-02-27T08:38:07.696049Z",
     "iopub.status.idle": "2022-02-27T08:38:12.603718Z",
     "shell.execute_reply": "2022-02-27T08:38:12.604606Z",
     "shell.execute_reply.started": "2022-02-27T08:36:26.810959Z"
    },
    "papermill": {
     "duration": 4.931029,
     "end_time": "2022-02-27T08:38:12.604935",
     "exception": false,
     "start_time": "2022-02-27T08:38:07.673906",
     "status": "completed"
    },
    "tags": []
   },
   "outputs": [],
   "source": [
    "from sklearn.model_selection import train_test_split\n",
    "train, test = train_test_split(combined, random_state=101, train_size=0.75)\n",
    "\n",
    "sk_reg = sk_reg.fit(train['text'], train['label'])"
   ]
  },
  {
   "cell_type": "code",
   "execution_count": 7,
   "id": "5b525945",
   "metadata": {
    "execution": {
     "iopub.execute_input": "2022-02-27T08:38:12.716683Z",
     "iopub.status.busy": "2022-02-27T08:38:12.715729Z",
     "iopub.status.idle": "2022-02-27T08:38:12.718773Z",
     "shell.execute_reply": "2022-02-27T08:38:12.719315Z",
     "shell.execute_reply.started": "2022-02-27T08:33:36.102482Z"
    },
    "papermill": {
     "duration": 0.057245,
     "end_time": "2022-02-27T08:38:12.719490",
     "exception": false,
     "start_time": "2022-02-27T08:38:12.662245",
     "status": "completed"
    },
    "tags": []
   },
   "outputs": [],
   "source": [
    "# with train_size=0.5, sgd\n",
    "# from sklearn.metrics import explained_variance_score\n",
    "# test_vals = sk_reg.predict(test['text'])\n",
    "# explained_variance_score(test['label'], test_vals)"
   ]
  },
  {
   "cell_type": "code",
   "execution_count": 8,
   "id": "f206e6df",
   "metadata": {
    "execution": {
     "iopub.execute_input": "2022-02-27T08:38:12.760322Z",
     "iopub.status.busy": "2022-02-27T08:38:12.759281Z",
     "iopub.status.idle": "2022-02-27T08:38:12.762686Z",
     "shell.execute_reply": "2022-02-27T08:38:12.763265Z",
     "shell.execute_reply.started": "2022-02-27T08:34:12.227141Z"
    },
    "papermill": {
     "duration": 0.025642,
     "end_time": "2022-02-27T08:38:12.763440",
     "exception": false,
     "start_time": "2022-02-27T08:38:12.737798",
     "status": "completed"
    },
    "tags": []
   },
   "outputs": [],
   "source": [
    "# train_size=0.75, sgd\n",
    "# test_vals = sk_reg.predict(test['text'])\n",
    "# explained_variance_score(test['label'], test_vals)"
   ]
  },
  {
   "cell_type": "code",
   "execution_count": 9,
   "id": "0b8af89c",
   "metadata": {
    "execution": {
     "iopub.execute_input": "2022-02-27T08:38:12.803514Z",
     "iopub.status.busy": "2022-02-27T08:38:12.802202Z",
     "iopub.status.idle": "2022-02-27T08:38:14.091832Z",
     "shell.execute_reply": "2022-02-27T08:38:14.092333Z",
     "shell.execute_reply.started": "2022-02-27T08:36:49.995665Z"
    },
    "papermill": {
     "duration": 1.311473,
     "end_time": "2022-02-27T08:38:14.092515",
     "exception": false,
     "start_time": "2022-02-27T08:38:12.781042",
     "status": "completed"
    },
    "tags": []
   },
   "outputs": [
    {
     "data": {
      "text/plain": [
       "0.08996624390506114"
      ]
     },
     "execution_count": 9,
     "metadata": {},
     "output_type": "execute_result"
    }
   ],
   "source": [
    "# train_size=0.75, Ridge\n",
    "from sklearn.metrics import explained_variance_score\n",
    "test_vals = sk_reg.predict(test['text'])\n",
    "explained_variance_score(test['label'], test_vals)"
   ]
  },
  {
   "cell_type": "code",
   "execution_count": 10,
   "id": "db7001c7",
   "metadata": {
    "execution": {
     "iopub.execute_input": "2022-02-27T08:38:14.132736Z",
     "iopub.status.busy": "2022-02-27T08:38:14.131730Z",
     "iopub.status.idle": "2022-02-27T08:38:14.901240Z",
     "shell.execute_reply": "2022-02-27T08:38:14.901810Z",
     "shell.execute_reply.started": "2022-02-27T08:21:18.137684Z"
    },
    "papermill": {
     "duration": 0.791508,
     "end_time": "2022-02-27T08:38:14.902026",
     "exception": false,
     "start_time": "2022-02-27T08:38:14.110518",
     "status": "completed"
    },
    "tags": []
   },
   "outputs": [
    {
     "name": "stdout",
     "output_type": "stream",
     "text": [
      "comment_id,text\r\n",
      "114890,\"\"\"\r\n",
      " \r\n",
      "\r\n",
      "Gjalexei, you asked about whether there is an \"\"\"\"anti-editorializing\"\"\"\" policy here.  There is, and it's called wikipedia:neutral point of view.  It discusses at some length  the case of what we should do when writing about a subject which most of us find repugnant.  Whilst you're not likely to get too many defenders of FGM here, the need for the policy should be clearer for articles like abortion, for instance.\r\n"
     ]
    }
   ],
   "source": [
    "! head -n 5 /kaggle/input/jigsaw-toxic-severity-rating/comments_to_score.csv"
   ]
  },
  {
   "cell_type": "code",
   "execution_count": 11,
   "id": "75f19523",
   "metadata": {
    "execution": {
     "iopub.execute_input": "2022-02-27T08:38:14.945452Z",
     "iopub.status.busy": "2022-02-27T08:38:14.944398Z",
     "iopub.status.idle": "2022-02-27T08:38:15.089492Z",
     "shell.execute_reply": "2022-02-27T08:38:15.090052Z",
     "shell.execute_reply.started": "2022-02-27T08:21:21.581614Z"
    },
    "papermill": {
     "duration": 0.168201,
     "end_time": "2022-02-27T08:38:15.090259",
     "exception": false,
     "start_time": "2022-02-27T08:38:14.922058",
     "status": "completed"
    },
    "tags": []
   },
   "outputs": [],
   "source": [
    "import csv\n",
    "\n",
    "texts = []\n",
    "ids = []\n",
    "with open('/kaggle/input/jigsaw-toxic-severity-rating/comments_to_score.csv', 'r') as rfile:\n",
    "  rdr = csv.reader(rfile)\n",
    "  batch = None\n",
    "  for row in rdr:\n",
    "    if batch is None:\n",
    "        batch = True\n",
    "        continue\n",
    "    ids.append(row[0])\n",
    "    texts.append(row[1].replace('\"', '').strip())"
   ]
  },
  {
   "cell_type": "code",
   "execution_count": 12,
   "id": "281dcebb",
   "metadata": {
    "execution": {
     "iopub.execute_input": "2022-02-27T08:38:15.134582Z",
     "iopub.status.busy": "2022-02-27T08:38:15.133884Z",
     "iopub.status.idle": "2022-02-27T08:38:15.891211Z",
     "shell.execute_reply": "2022-02-27T08:38:15.890269Z",
     "shell.execute_reply.started": "2022-02-27T08:21:27.808104Z"
    },
    "papermill": {
     "duration": 0.77996,
     "end_time": "2022-02-27T08:38:15.891402",
     "exception": false,
     "start_time": "2022-02-27T08:38:15.111442",
     "status": "completed"
    },
    "tags": []
   },
   "outputs": [
    {
     "name": "stdout",
     "output_type": "stream",
     "text": [
      "comment_id,score\r\n",
      "114890,0.5\r\n",
      "732895,0.5\r\n",
      "1139051,0.5\r\n",
      "1434512,0.5\r\n"
     ]
    }
   ],
   "source": [
    "! head -n 5 /kaggle/input/jigsaw-toxic-severity-rating/sample_submission.csv"
   ]
  },
  {
   "cell_type": "code",
   "execution_count": 13,
   "id": "2ef0c32e",
   "metadata": {
    "execution": {
     "iopub.execute_input": "2022-02-27T08:38:15.937652Z",
     "iopub.status.busy": "2022-02-27T08:38:15.936808Z",
     "iopub.status.idle": "2022-02-27T08:38:15.940690Z",
     "shell.execute_reply": "2022-02-27T08:38:15.940043Z",
     "shell.execute_reply.started": "2022-02-27T08:21:30.637483Z"
    },
    "papermill": {
     "duration": 0.030407,
     "end_time": "2022-02-27T08:38:15.940834",
     "exception": false,
     "start_time": "2022-02-27T08:38:15.910427",
     "status": "completed"
    },
    "tags": []
   },
   "outputs": [
    {
     "data": {
      "text/plain": [
       "\"Gjalexei, you asked about whether there is an anti-editorializing policy here.  There is, and it's called wikipedia:neutral point of view.  It discusses at some length  the case of what we should do when writing about a subject which most of us find repugnant.  Whilst you're not likely to get too many defenders of FGM here, the need for the policy should be clearer for articles like abortion, for instance.\\n\\nIf something you write is edited and you're not sure why, please continue to question such edits on the talk page.  Sometimes, you'll learn more about wikipedia policy.  Sometimes, you'll find out that some other people working on here can get it flat-out wrong ) Robert Merkel\""
      ]
     },
     "execution_count": 13,
     "metadata": {},
     "output_type": "execute_result"
    }
   ],
   "source": [
    "texts[0]"
   ]
  },
  {
   "cell_type": "code",
   "execution_count": 14,
   "id": "08c23d42",
   "metadata": {
    "execution": {
     "iopub.execute_input": "2022-02-27T08:38:15.984535Z",
     "iopub.status.busy": "2022-02-27T08:38:15.983661Z",
     "iopub.status.idle": "2022-02-27T08:38:16.662961Z",
     "shell.execute_reply": "2022-02-27T08:38:16.662362Z",
     "shell.execute_reply.started": "2022-02-27T08:24:23.892069Z"
    },
    "papermill": {
     "duration": 0.70271,
     "end_time": "2022-02-27T08:38:16.663122",
     "exception": false,
     "start_time": "2022-02-27T08:38:15.960412",
     "status": "completed"
    },
    "tags": []
   },
   "outputs": [],
   "source": [
    "%%capture\n",
    "op = []\n",
    "id_idx = 0\n",
    "\n",
    "with open('submission.csv', 'w') as opfile:\n",
    "  writer = csv.writer(opfile)\n",
    "  writer.writerow([\"comment_id\",\"score\"])\n",
    "\n",
    "  labels = sk_reg.predict(texts)\n",
    "  for label in labels:\n",
    "      writer.writerow([\n",
    "        ids[id_idx],\n",
    "        float(label)\n",
    "      ])\n",
    "      id_idx += 1"
   ]
  },
  {
   "cell_type": "code",
   "execution_count": 15,
   "id": "77f6a115",
   "metadata": {
    "execution": {
     "iopub.execute_input": "2022-02-27T08:38:16.707533Z",
     "iopub.status.busy": "2022-02-27T08:38:16.705121Z",
     "iopub.status.idle": "2022-02-27T08:38:17.464084Z",
     "shell.execute_reply": "2022-02-27T08:38:17.463466Z",
     "shell.execute_reply.started": "2022-02-27T08:24:28.206491Z"
    },
    "papermill": {
     "duration": 0.781249,
     "end_time": "2022-02-27T08:38:17.464252",
     "exception": false,
     "start_time": "2022-02-27T08:38:16.683003",
     "status": "completed"
    },
    "tags": []
   },
   "outputs": [
    {
     "name": "stdout",
     "output_type": "stream",
     "text": [
      "\r\n",
      "\r\n",
      "\r\n",
      "\r\n",
      "\r\n"
     ]
    }
   ],
   "source": [
    "! head -n 5 submission.csv"
   ]
  }
 ],
 "metadata": {
  "kernelspec": {
   "display_name": "Python 3",
   "language": "python",
   "name": "python3"
  },
  "language_info": {
   "codemirror_mode": {
    "name": "ipython",
    "version": 3
   },
   "file_extension": ".py",
   "mimetype": "text/x-python",
   "name": "python",
   "nbconvert_exporter": "python",
   "pygments_lexer": "ipython3",
   "version": "3.7.12"
  },
  "papermill": {
   "default_parameters": {},
   "duration": 24.928411,
   "end_time": "2022-02-27T08:38:18.296267",
   "environment_variables": {},
   "exception": null,
   "input_path": "__notebook__.ipynb",
   "output_path": "__notebook__.ipynb",
   "parameters": {},
   "start_time": "2022-02-27T08:37:53.367856",
   "version": "2.3.3"
  }
 },
 "nbformat": 4,
 "nbformat_minor": 5
}
