{
 "cells": [
  {
   "cell_type": "code",
   "execution_count": 1,
   "id": "f6bfbebd",
   "metadata": {
    "_cell_guid": "b1076dfc-b9ad-4769-8c92-a6c4dae69d19",
    "_uuid": "8f2839f25d086af736a60e9eeb907d3b93b6e0e5",
    "execution": {
     "iopub.execute_input": "2022-03-05T09:59:18.129653Z",
     "iopub.status.busy": "2022-03-05T09:59:18.127930Z",
     "iopub.status.idle": "2022-03-05T09:59:18.132334Z",
     "shell.execute_reply": "2022-03-05T09:59:18.132810Z",
     "shell.execute_reply.started": "2022-02-27T08:10:26.497248Z"
    },
    "papermill": {
     "duration": 0.032841,
     "end_time": "2022-03-05T09:59:18.133045",
     "exception": false,
     "start_time": "2022-03-05T09:59:18.100204",
     "status": "completed"
    },
    "tags": []
   },
   "outputs": [],
   "source": [
    "# pip install kaggle if you're in a non-Kaggle env\n",
    "# pip install simpletransformers if you have internet"
   ]
  },
  {
   "cell_type": "code",
   "execution_count": 2,
   "id": "9e4e9d4e",
   "metadata": {
    "execution": {
     "iopub.execute_input": "2022-03-05T09:59:18.180961Z",
     "iopub.status.busy": "2022-03-05T09:59:18.180464Z",
     "iopub.status.idle": "2022-03-05T09:59:18.892248Z",
     "shell.execute_reply": "2022-03-05T09:59:18.892675Z",
     "shell.execute_reply.started": "2022-02-27T18:27:02.698641Z"
    },
    "papermill": {
     "duration": 0.736628,
     "end_time": "2022-03-05T09:59:18.892832",
     "exception": false,
     "start_time": "2022-03-05T09:59:18.156204",
     "status": "completed"
    },
    "tags": []
   },
   "outputs": [
    {
     "name": "stdout",
     "output_type": "stream",
     "text": [
      "worker,less_toxic,more_toxic\r\n",
      "313,\" This article sucks \r\n",
      "\r\n",
      "woo woo wooooooo\",\"WHAT!!!!!!!!?!?!!?!?!!?!?!?!?!!!!!!!!!!!!!!!!!!!!!!!!??????????????????????????????????????????????????????!!!!!!=\r\n",
      "WHER IS YOUR SEXY PIC GONE FROM YOUR MAIN PAGE???????? put it back\"\r\n"
     ]
    }
   ],
   "source": [
    "! head -n 5 /kaggle/input/jigsaw-toxic-severity-rating/validation_data.csv"
   ]
  },
  {
   "cell_type": "code",
   "execution_count": 3,
   "id": "b3d0d5ca",
   "metadata": {
    "execution": {
     "iopub.execute_input": "2022-03-05T09:59:18.941091Z",
     "iopub.status.busy": "2022-03-05T09:59:18.940541Z",
     "iopub.status.idle": "2022-03-05T09:59:19.551977Z",
     "shell.execute_reply": "2022-03-05T09:59:19.552409Z",
     "shell.execute_reply.started": "2022-03-05T09:17:31.107539Z"
    },
    "papermill": {
     "duration": 0.63708,
     "end_time": "2022-03-05T09:59:19.552555",
     "exception": false,
     "start_time": "2022-03-05T09:59:18.915475",
     "status": "completed"
    },
    "tags": []
   },
   "outputs": [
    {
     "name": "stderr",
     "output_type": "stream",
     "text": [
      "/opt/conda/lib/python3.7/site-packages/ipykernel_launcher.py:5: SettingWithCopyWarning: \n",
      "A value is trying to be set on a copy of a slice from a DataFrame.\n",
      "Try using .loc[row_indexer,col_indexer] = value instead\n",
      "\n",
      "See the caveats in the documentation: https://pandas.pydata.org/pandas-docs/stable/user_guide/indexing.html#returning-a-view-versus-a-copy\n",
      "  \"\"\"\n",
      "/opt/conda/lib/python3.7/site-packages/ipykernel_launcher.py:9: SettingWithCopyWarning: \n",
      "A value is trying to be set on a copy of a slice from a DataFrame.\n",
      "Try using .loc[row_indexer,col_indexer] = value instead\n",
      "\n",
      "See the caveats in the documentation: https://pandas.pydata.org/pandas-docs/stable/user_guide/indexing.html#returning-a-view-versus-a-copy\n",
      "  if __name__ == '__main__':\n"
     ]
    },
    {
     "data": {
      "text/html": [
       "<div>\n",
       "<style scoped>\n",
       "    .dataframe tbody tr th:only-of-type {\n",
       "        vertical-align: middle;\n",
       "    }\n",
       "\n",
       "    .dataframe tbody tr th {\n",
       "        vertical-align: top;\n",
       "    }\n",
       "\n",
       "    .dataframe thead th {\n",
       "        text-align: right;\n",
       "    }\n",
       "</style>\n",
       "<table border=\"1\" class=\"dataframe\">\n",
       "  <thead>\n",
       "    <tr style=\"text-align: right;\">\n",
       "      <th></th>\n",
       "      <th>text</th>\n",
       "      <th>label</th>\n",
       "    </tr>\n",
       "  </thead>\n",
       "  <tbody>\n",
       "    <tr>\n",
       "      <th>27323</th>\n",
       "      <td>Wha's a reliable source mike? Something that c...</td>\n",
       "      <td>0.35</td>\n",
       "    </tr>\n",
       "    <tr>\n",
       "      <th>10783</th>\n",
       "      <td>Your contempt is noted. I hope I don't dissapp...</td>\n",
       "      <td>0.35</td>\n",
       "    </tr>\n",
       "  </tbody>\n",
       "</table>\n",
       "</div>"
      ],
      "text/plain": [
       "                                                    text  label\n",
       "27323  Wha's a reliable source mike? Something that c...   0.35\n",
       "10783  Your contempt is noted. I hope I don't dissapp...   0.35"
      ]
     },
     "execution_count": 3,
     "metadata": {},
     "output_type": "execute_result"
    }
   ],
   "source": [
    "import pandas as pd\n",
    "trainer = pd.read_csv(\"/kaggle/input/jigsaw-toxic-severity-rating/validation_data.csv\")\n",
    "\n",
    "toxic = trainer[[\"more_toxic\"]]\n",
    "toxic[\"text\"] = toxic[\"more_toxic\"]\n",
    "toxic[\"label\"] = 0.75\n",
    "\n",
    "nontoxic = trainer[[\"less_toxic\"]]\n",
    "nontoxic[\"text\"] = nontoxic[\"less_toxic\"]\n",
    "nontoxic[\"label\"] = 0.35\n",
    "\n",
    "combined = toxic.append(nontoxic).sample(frac=1, random_state=101)\n",
    "combined = combined[[\"text\", \"label\"]]\n",
    "combined[\"label\"] = combined[\"label\"].astype('float')\n",
    "combined.head(2)"
   ]
  },
  {
   "cell_type": "code",
   "execution_count": 4,
   "id": "4fd0d1f7",
   "metadata": {
    "execution": {
     "iopub.execute_input": "2022-03-05T09:59:19.603193Z",
     "iopub.status.busy": "2022-03-05T09:59:19.602650Z",
     "iopub.status.idle": "2022-03-05T09:59:20.546746Z",
     "shell.execute_reply": "2022-03-05T09:59:20.547431Z",
     "shell.execute_reply.started": "2022-03-05T09:18:11.223751Z"
    },
    "papermill": {
     "duration": 0.971992,
     "end_time": "2022-03-05T09:59:20.547611",
     "exception": false,
     "start_time": "2022-03-05T09:59:19.575619",
     "status": "completed"
    },
    "tags": []
   },
   "outputs": [],
   "source": [
    "from sklearn.model_selection import train_test_split\n",
    "train, test = train_test_split(combined, random_state=101, train_size=0.99)"
   ]
  },
  {
   "cell_type": "code",
   "execution_count": 5,
   "id": "849464e9",
   "metadata": {
    "execution": {
     "iopub.execute_input": "2022-03-05T09:59:20.600866Z",
     "iopub.status.busy": "2022-03-05T09:59:20.600070Z",
     "iopub.status.idle": "2022-03-05T09:59:21.253555Z",
     "shell.execute_reply": "2022-03-05T09:59:21.253015Z",
     "shell.execute_reply.started": "2022-03-05T09:18:13.868097Z"
    },
    "papermill": {
     "duration": 0.681832,
     "end_time": "2022-03-05T09:59:21.253697",
     "exception": false,
     "start_time": "2022-03-05T09:59:20.571865",
     "status": "completed"
    },
    "tags": []
   },
   "outputs": [],
   "source": [
    "# https://www.kaggle.com/c/word2vec-nlp-tutorial/overview/part-2-word-vectors\n",
    "from bs4 import BeautifulSoup\n",
    "import re\n",
    "from nltk.corpus import stopwords"
   ]
  },
  {
   "cell_type": "code",
   "execution_count": 6,
   "id": "402bca06",
   "metadata": {
    "execution": {
     "iopub.execute_input": "2022-03-05T09:59:21.309225Z",
     "iopub.status.busy": "2022-03-05T09:59:21.306685Z",
     "iopub.status.idle": "2022-03-05T09:59:21.311330Z",
     "shell.execute_reply": "2022-03-05T09:59:21.311891Z",
     "shell.execute_reply.started": "2022-03-05T09:20:08.961231Z"
    },
    "papermill": {
     "duration": 0.03497,
     "end_time": "2022-03-05T09:59:21.312034",
     "exception": false,
     "start_time": "2022-03-05T09:59:21.277064",
     "status": "completed"
    },
    "tags": []
   },
   "outputs": [
    {
     "data": {
      "text/plain": [
       "['legend',\n",
       " 'i',\n",
       " 'saw',\n",
       " 'one',\n",
       " 'of',\n",
       " 'his',\n",
       " 'paintings',\n",
       " 'at',\n",
       " 'moma',\n",
       " 'in',\n",
       " 'ny',\n",
       " 'and',\n",
       " 'he',\n",
       " 'actually',\n",
       " 'put',\n",
       " 'nuts',\n",
       " 'bolts',\n",
       " 'cig',\n",
       " 'butts',\n",
       " 'into',\n",
       " 'the',\n",
       " 'paint',\n",
       " 'when',\n",
       " 'he',\n",
       " 'mixed',\n",
       " 'his',\n",
       " 'paint',\n",
       " 'for',\n",
       " 'his',\n",
       " 'paintings',\n",
       " 'pretty',\n",
       " 'frickin',\n",
       " 'amazing']"
      ]
     },
     "execution_count": 6,
     "metadata": {},
     "output_type": "execute_result"
    }
   ],
   "source": [
    "def review_to_wordlist( txt, remove_stopwords=False ):\n",
    "    txt = BeautifulSoup(txt).get_text()\n",
    "    txt = re.sub(\"[^a-zA-Z]\",\" \", txt)\n",
    "    words = txt.lower().split()\n",
    "    if remove_stopwords:\n",
    "        stops = set(stopwords.words(\"english\"))\n",
    "        words = [w for w in words if not w in stops]\n",
    "    return(words)\n",
    "review_to_wordlist(test['text'].to_list()[1])"
   ]
  },
  {
   "cell_type": "code",
   "execution_count": 7,
   "id": "bd60e99d",
   "metadata": {
    "execution": {
     "iopub.execute_input": "2022-03-05T09:59:21.376258Z",
     "iopub.status.busy": "2022-03-05T09:59:21.375679Z",
     "iopub.status.idle": "2022-03-05T09:59:37.306005Z",
     "shell.execute_reply": "2022-03-05T09:59:37.306458Z",
     "shell.execute_reply.started": "2022-03-05T09:29:04.826416Z"
    },
    "papermill": {
     "duration": 15.971381,
     "end_time": "2022-03-05T09:59:37.306638",
     "exception": false,
     "start_time": "2022-03-05T09:59:21.335257",
     "status": "completed"
    },
    "tags": []
   },
   "outputs": [
    {
     "data": {
      "text/plain": [
       "['i',\n",
       " 'hope',\n",
       " 'that',\n",
       " 'one',\n",
       " 'day',\n",
       " 'one',\n",
       " 'of',\n",
       " 'your',\n",
       " 'pupils',\n",
       " 'drinks',\n",
       " 'sulphuric',\n",
       " 'acid',\n",
       " 'that',\n",
       " 'you',\n",
       " 'have',\n",
       " 'carelessly',\n",
       " 'left',\n",
       " 'out',\n",
       " 'in',\n",
       " 'a',\n",
       " 'bottle',\n",
       " 'of',\n",
       " 'water',\n",
       " 'it',\n",
       " 'will',\n",
       " 'be',\n",
       " 'a',\n",
       " 'shame',\n",
       " 'but',\n",
       " 'you',\n",
       " 'will',\n",
       " 'learn',\n",
       " 'from',\n",
       " 'it',\n",
       " 'if',\n",
       " 'it',\n",
       " 'did',\n",
       " 'happen',\n",
       " 'hahahahahahahahahaaahahhaha']"
      ]
     },
     "execution_count": 7,
     "metadata": {},
     "output_type": "execute_result"
    }
   ],
   "source": [
    "train_content = list(map(lambda sentence: review_to_wordlist(sentence), train['text'].to_list()))\n",
    "train_content[0]"
   ]
  },
  {
   "cell_type": "code",
   "execution_count": 8,
   "id": "54a2c909",
   "metadata": {
    "execution": {
     "iopub.execute_input": "2022-03-05T09:59:37.359668Z",
     "iopub.status.busy": "2022-03-05T09:59:37.358992Z",
     "iopub.status.idle": "2022-03-05T09:59:54.203879Z",
     "shell.execute_reply": "2022-03-05T09:59:54.204372Z",
     "shell.execute_reply.started": "2022-03-05T09:29:38.086087Z"
    },
    "papermill": {
     "duration": 16.874452,
     "end_time": "2022-03-05T09:59:54.204588",
     "exception": false,
     "start_time": "2022-03-05T09:59:37.330136",
     "status": "completed"
    },
    "tags": []
   },
   "outputs": [],
   "source": [
    "num_features = 300    # Word vector dimensionality                      \n",
    "min_word_count = 40   # Minimum word count                        \n",
    "num_workers = 4       # Number of threads to run in parallel\n",
    "context = 10          # Context window size                                                                                    \n",
    "downsampling = 1e-3   # Downsample setting for frequent words\n",
    "\n",
    "from gensim.models import word2vec\n",
    "model = word2vec.Word2Vec(train_content, workers=num_workers, \\\n",
    "            min_count = min_word_count, \\\n",
    "            window = context, sample = downsampling)"
   ]
  },
  {
   "cell_type": "code",
   "execution_count": 9,
   "id": "5a72e7f0",
   "metadata": {
    "execution": {
     "iopub.execute_input": "2022-03-05T09:59:54.255559Z",
     "iopub.status.busy": "2022-03-05T09:59:54.254990Z",
     "iopub.status.idle": "2022-03-05T09:59:54.261583Z",
     "shell.execute_reply": "2022-03-05T09:59:54.262169Z",
     "shell.execute_reply.started": "2022-03-05T09:29:52.179205Z"
    },
    "papermill": {
     "duration": 0.034163,
     "end_time": "2022-03-05T09:59:54.262311",
     "exception": false,
     "start_time": "2022-03-05T09:59:54.228148",
     "status": "completed"
    },
    "tags": []
   },
   "outputs": [
    {
     "name": "stderr",
     "output_type": "stream",
     "text": [
      "/opt/conda/lib/python3.7/site-packages/ipykernel_launcher.py:1: DeprecationWarning: Call to deprecated `init_sims` (Gensim 4.0.0 implemented internal optimizations that make calls to init_sims() unnecessary. init_sims() is now obsoleted and will be completely removed in future versions. See https://github.com/RaRe-Technologies/gensim/wiki/Migrating-from-Gensim-3.x-to-4).\n",
      "  \"\"\"Entry point for launching an IPython kernel.\n"
     ]
    }
   ],
   "source": [
    "model.init_sims(replace=True)"
   ]
  },
  {
   "cell_type": "code",
   "execution_count": 10,
   "id": "49a5783e",
   "metadata": {
    "execution": {
     "iopub.execute_input": "2022-03-05T09:59:54.315818Z",
     "iopub.status.busy": "2022-03-05T09:59:54.315233Z",
     "iopub.status.idle": "2022-03-05T09:59:54.319477Z",
     "shell.execute_reply": "2022-03-05T09:59:54.319952Z",
     "shell.execute_reply.started": "2022-03-05T09:29:55.714209Z"
    },
    "papermill": {
     "duration": 0.032116,
     "end_time": "2022-03-05T09:59:54.320100",
     "exception": false,
     "start_time": "2022-03-05T09:59:54.287984",
     "status": "completed"
    },
    "tags": []
   },
   "outputs": [
    {
     "data": {
      "text/plain": [
       "True"
      ]
     },
     "execution_count": 10,
     "metadata": {},
     "output_type": "execute_result"
    }
   ],
   "source": [
    "'hello' in model.wv"
   ]
  },
  {
   "cell_type": "code",
   "execution_count": 11,
   "id": "55416607",
   "metadata": {
    "execution": {
     "iopub.execute_input": "2022-03-05T09:59:54.372428Z",
     "iopub.status.busy": "2022-03-05T09:59:54.371827Z",
     "iopub.status.idle": "2022-03-05T09:59:54.381437Z",
     "shell.execute_reply": "2022-03-05T09:59:54.381956Z",
     "shell.execute_reply.started": "2022-03-05T09:46:12.656836Z"
    },
    "papermill": {
     "duration": 0.037767,
     "end_time": "2022-03-05T09:59:54.382119",
     "exception": false,
     "start_time": "2022-03-05T09:59:54.344352",
     "status": "completed"
    },
    "tags": []
   },
   "outputs": [
    {
     "data": {
      "text/plain": [
       "array([-0.08887502, -0.02043539,  0.05550691,  0.01657881, -0.01528576,\n",
       "       -0.1250256 , -0.02412267,  0.13341433, -0.01970973,  0.07730454,\n",
       "       -0.01966708,  0.00626751,  0.12408589, -0.05059095, -0.01251615,\n",
       "       -0.0143823 ,  0.06314801, -0.04658615, -0.0717314 , -0.13275701,\n",
       "        0.00563906, -0.13381451,  0.06382346, -0.08975514, -0.07250064,\n",
       "        0.07830334,  0.04491878, -0.06034213, -0.0290865 ,  0.07868766,\n",
       "        0.0502138 ,  0.05728404, -0.05126774,  0.10934655, -0.03363477,\n",
       "        0.01295422, -0.09753324, -0.10024247, -0.13740116, -0.02370553,\n",
       "       -0.05579504,  0.14024974,  0.04341048,  0.0478991 , -0.02921975,\n",
       "       -0.07167941, -0.07330202, -0.01164642, -0.0259811 ,  0.1737422 ,\n",
       "       -0.05249663, -0.03726661,  0.05941698,  0.00793718, -0.07585806,\n",
       "       -0.03135695, -0.12221043,  0.06239619, -0.04492736,  0.03230243,\n",
       "       -0.0406142 , -0.01696925,  0.05929828,  0.01683241, -0.02506147,\n",
       "       -0.03974362, -0.10198577,  0.04547145, -0.02871238, -0.02781917,\n",
       "       -0.13138323, -0.09268705,  0.09388791, -0.02021623,  0.07685156,\n",
       "        0.01484436,  0.0297453 , -0.06431044,  0.07093814, -0.04439458,\n",
       "       -0.09613533,  0.09572928,  0.00877548, -0.1280752 ,  0.01370783,\n",
       "        0.05659451,  0.02953736,  0.22806224,  0.1240245 ,  0.02019882,\n",
       "        0.12694174,  0.09494299,  0.04113132, -0.00725955,  0.11301543,\n",
       "        0.04550409,  0.06099115,  0.00174301,  0.01121026, -0.10456062],\n",
       "      dtype=float32)"
      ]
     },
     "execution_count": 11,
     "metadata": {},
     "output_type": "execute_result"
    }
   ],
   "source": [
    "import numpy as np\n",
    "indexes = []\n",
    "def makeFeatureVec(words, num_features=100):\n",
    "    featureVec = np.zeros((num_features,),dtype=\"float32\")\n",
    "    nwords = 0.\n",
    "    for word in words:\n",
    "        if word in model.wv: \n",
    "            nwords = nwords + 1.\n",
    "            featureVec = np.add(featureVec, model.wv[word])\n",
    "    #if nwords < 1:\n",
    "    #    print(words)\n",
    "    vectors = np.divide(featureVec, nwords)\n",
    "    if True in np.isnan(vectors):\n",
    "        return np.zeros((num_features,),dtype=\"float32\")\n",
    "    return vectors\n",
    "makeFeatureVec(['hello', 'love'])"
   ]
  },
  {
   "cell_type": "code",
   "execution_count": 12,
   "id": "50471652",
   "metadata": {
    "execution": {
     "iopub.execute_input": "2022-03-05T09:59:54.435247Z",
     "iopub.status.busy": "2022-03-05T09:59:54.434724Z",
     "iopub.status.idle": "2022-03-05T10:00:09.893738Z",
     "shell.execute_reply": "2022-03-05T10:00:09.894221Z",
     "shell.execute_reply.started": "2022-03-05T09:46:15.928365Z"
    },
    "papermill": {
     "duration": 15.486925,
     "end_time": "2022-03-05T10:00:09.894384",
     "exception": false,
     "start_time": "2022-03-05T09:59:54.407459",
     "status": "completed"
    },
    "tags": []
   },
   "outputs": [
    {
     "name": "stderr",
     "output_type": "stream",
     "text": [
      "/opt/conda/lib/python3.7/site-packages/ipykernel_launcher.py:12: RuntimeWarning: invalid value encountered in true_divide\n",
      "  if sys.path[0] == '':\n"
     ]
    },
    {
     "data": {
      "text/plain": [
       "array([-3.8488768e-03,  4.6357837e-02, -3.5712216e-02,  6.5862560e-03,\n",
       "       -1.7198015e-02,  8.8871811e-03, -4.8990253e-02, -5.9407886e-02,\n",
       "       -4.7607772e-02, -3.2411363e-02,  2.7966309e-02,  1.7181924e-02,\n",
       "       -2.5765558e-03, -2.4893992e-03, -1.8339515e-02,  1.7202878e-02,\n",
       "        5.1218424e-02,  1.2517586e-02,  4.6584471e-03, -6.7705847e-03,\n",
       "       -2.7721385e-02, -5.4791570e-02, -4.5337699e-02, -4.1793041e-02,\n",
       "        1.3950695e-02, -3.2013729e-02, -2.8673930e-02,  1.8623186e-02,\n",
       "        1.1020536e-02,  2.9372356e-03, -3.3720660e-03,  3.5466135e-02,\n",
       "       -4.9687929e-02,  7.1218774e-02,  2.7552865e-02,  1.1592381e-02,\n",
       "        3.2061145e-02,  5.1007695e-02,  2.3456274e-02,  4.3377034e-02,\n",
       "       -1.0447245e-02,  2.4811639e-02, -1.2090638e-03,  1.0774211e-02,\n",
       "       -2.6864983e-02,  3.2453786e-03,  3.3250399e-02, -2.9181666e-04,\n",
       "       -2.9359998e-02,  1.6578805e-02,  1.3431702e-02,  8.2506724e-03,\n",
       "       -1.0768864e-02,  2.3667051e-02,  4.0822580e-02, -6.0138751e-02,\n",
       "        2.2403726e-03, -5.6159878e-03, -7.4949479e-03, -2.9161327e-02,\n",
       "       -6.5211048e-03,  1.2249356e-03,  6.1087194e-03,  1.9129113e-03,\n",
       "        4.7759127e-02, -3.2629538e-02, -3.0454256e-02, -2.3268480e-02,\n",
       "        2.4466806e-03, -7.4845925e-03, -3.1611953e-02, -2.9281963e-02,\n",
       "       -1.8418254e-02,  3.4662571e-03,  1.1362418e-02,  6.4905207e-03,\n",
       "       -1.5015948e-02,  2.5311572e-02,  5.4207586e-02,  1.8506475e-02,\n",
       "        1.0522462e-02, -2.3133406e-02,  1.6249219e-02, -3.7554853e-02,\n",
       "        1.8676138e-02,  2.5286563e-02, -1.2937494e-02, -9.0963216e-03,\n",
       "       -5.7340894e-02, -4.3529913e-02, -2.2937365e-02, -7.8666555e-03,\n",
       "        2.2483997e-02, -9.9273175e-03,  3.3390002e-05, -5.7494007e-02,\n",
       "        2.1187197e-03,  2.8097410e-02,  2.5632684e-03,  4.4063050e-03],\n",
       "      dtype=float32)"
      ]
     },
     "execution_count": 12,
     "metadata": {},
     "output_type": "execute_result"
    }
   ],
   "source": [
    "trainDataVecs = list(map(lambda sentence: makeFeatureVec(sentence), train_content))\n",
    "trainDataVecs[0]"
   ]
  },
  {
   "cell_type": "code",
   "execution_count": 13,
   "id": "f3e4ebff",
   "metadata": {
    "execution": {
     "iopub.execute_input": "2022-03-05T10:00:09.949666Z",
     "iopub.status.busy": "2022-03-05T10:00:09.949073Z",
     "iopub.status.idle": "2022-03-05T10:00:10.522533Z",
     "shell.execute_reply": "2022-03-05T10:00:10.521897Z",
     "shell.execute_reply.started": "2022-03-05T09:46:24.703252Z"
    },
    "papermill": {
     "duration": 0.602322,
     "end_time": "2022-03-05T10:00:10.522677",
     "exception": false,
     "start_time": "2022-03-05T10:00:09.920355",
     "status": "completed"
    },
    "tags": []
   },
   "outputs": [],
   "source": [
    "test_content = list(map(lambda sentence: review_to_wordlist(sentence), test['text'].to_list()))\n",
    "testDataVecs = list(map(lambda sentence: makeFeatureVec(sentence), test_content))"
   ]
  },
  {
   "cell_type": "code",
   "execution_count": 14,
   "id": "3e241924",
   "metadata": {
    "execution": {
     "iopub.execute_input": "2022-03-05T10:00:10.578695Z",
     "iopub.status.busy": "2022-03-05T10:00:10.578078Z",
     "iopub.status.idle": "2022-03-05T10:02:49.403356Z",
     "shell.execute_reply": "2022-03-05T10:02:49.402740Z",
     "shell.execute_reply.started": "2022-03-05T09:55:34.830690Z"
    },
    "papermill": {
     "duration": 158.855736,
     "end_time": "2022-03-05T10:02:49.403533",
     "exception": false,
     "start_time": "2022-03-05T10:00:10.547797",
     "status": "completed"
    },
    "tags": []
   },
   "outputs": [],
   "source": [
    "#from sklearn.ensemble import RandomForestRegressor\n",
    "#forest = RandomForestRegressor( n_estimators = 100 )\n",
    "\n",
    "from sklearn.ensemble import GradientBoostingRegressor\n",
    "forest = GradientBoostingRegressor()\n",
    "forest = forest.fit( trainDataVecs, train[\"label\"] )"
   ]
  },
  {
   "cell_type": "code",
   "execution_count": 15,
   "id": "55fc849e",
   "metadata": {
    "execution": {
     "iopub.execute_input": "2022-03-05T10:02:49.461381Z",
     "iopub.status.busy": "2022-03-05T10:02:49.460380Z",
     "iopub.status.idle": "2022-03-05T10:02:49.465163Z",
     "shell.execute_reply": "2022-03-05T10:02:49.465618Z",
     "shell.execute_reply.started": "2022-03-05T09:58:06.770390Z"
    },
    "papermill": {
     "duration": 0.035574,
     "end_time": "2022-03-05T10:02:49.465776",
     "exception": false,
     "start_time": "2022-03-05T10:02:49.430202",
     "status": "completed"
    },
    "tags": []
   },
   "outputs": [],
   "source": [
    "predictions = forest.predict( testDataVecs )"
   ]
  },
  {
   "cell_type": "code",
   "execution_count": 16,
   "id": "c0fd74ca",
   "metadata": {
    "execution": {
     "iopub.execute_input": "2022-03-05T10:02:49.525056Z",
     "iopub.status.busy": "2022-03-05T10:02:49.524261Z",
     "iopub.status.idle": "2022-03-05T10:02:49.527172Z",
     "shell.execute_reply": "2022-03-05T10:02:49.527713Z",
     "shell.execute_reply.started": "2022-03-05T09:58:06.828266Z"
    },
    "papermill": {
     "duration": 0.035299,
     "end_time": "2022-03-05T10:02:49.527849",
     "exception": false,
     "start_time": "2022-03-05T10:02:49.492550",
     "status": "completed"
    },
    "tags": []
   },
   "outputs": [
    {
     "data": {
      "text/plain": [
       "0.09773336216381323"
      ]
     },
     "execution_count": 16,
     "metadata": {},
     "output_type": "execute_result"
    }
   ],
   "source": [
    "from sklearn.metrics import explained_variance_score\n",
    "explained_variance_score(test['label'], predictions)"
   ]
  },
  {
   "cell_type": "code",
   "execution_count": 17,
   "id": "a5bac8a6",
   "metadata": {
    "execution": {
     "iopub.execute_input": "2022-03-05T10:02:49.584595Z",
     "iopub.status.busy": "2022-03-05T10:02:49.583720Z",
     "iopub.status.idle": "2022-03-05T10:02:50.320994Z",
     "shell.execute_reply": "2022-03-05T10:02:50.320235Z",
     "shell.execute_reply.started": "2022-02-27T08:21:18.137684Z"
    },
    "papermill": {
     "duration": 0.767092,
     "end_time": "2022-03-05T10:02:50.321132",
     "exception": false,
     "start_time": "2022-03-05T10:02:49.554040",
     "status": "completed"
    },
    "tags": []
   },
   "outputs": [
    {
     "name": "stdout",
     "output_type": "stream",
     "text": [
      "comment_id,text\r\n",
      "114890,\"\"\"\r\n",
      " \r\n",
      "\r\n",
      "Gjalexei, you asked about whether there is an \"\"\"\"anti-editorializing\"\"\"\" policy here.  There is, and it's called wikipedia:neutral point of view.  It discusses at some length  the case of what we should do when writing about a subject which most of us find repugnant.  Whilst you're not likely to get too many defenders of FGM here, the need for the policy should be clearer for articles like abortion, for instance.\r\n"
     ]
    }
   ],
   "source": [
    "! head -n 5 /kaggle/input/jigsaw-toxic-severity-rating/comments_to_score.csv"
   ]
  },
  {
   "cell_type": "code",
   "execution_count": 18,
   "id": "5c49aa91",
   "metadata": {
    "execution": {
     "iopub.execute_input": "2022-03-05T10:02:50.379243Z",
     "iopub.status.busy": "2022-03-05T10:02:50.378631Z",
     "iopub.status.idle": "2022-03-05T10:02:50.511609Z",
     "shell.execute_reply": "2022-03-05T10:02:50.512065Z",
     "shell.execute_reply.started": "2022-03-05T09:58:06.836779Z"
    },
    "papermill": {
     "duration": 0.16388,
     "end_time": "2022-03-05T10:02:50.512221",
     "exception": false,
     "start_time": "2022-03-05T10:02:50.348341",
     "status": "completed"
    },
    "tags": []
   },
   "outputs": [],
   "source": [
    "import csv\n",
    "\n",
    "texts = []\n",
    "ids = []\n",
    "with open('/kaggle/input/jigsaw-toxic-severity-rating/comments_to_score.csv', 'r') as rfile:\n",
    "  rdr = csv.reader(rfile)\n",
    "  batch = None\n",
    "  for row in rdr:\n",
    "    if batch is None:\n",
    "        batch = True\n",
    "        continue\n",
    "    ids.append(row[0])\n",
    "    texts.append(row[1].replace('\"', '').strip())"
   ]
  },
  {
   "cell_type": "code",
   "execution_count": 19,
   "id": "b8137070",
   "metadata": {
    "execution": {
     "iopub.execute_input": "2022-03-05T10:02:50.573058Z",
     "iopub.status.busy": "2022-03-05T10:02:50.572276Z",
     "iopub.status.idle": "2022-03-05T10:02:51.302078Z",
     "shell.execute_reply": "2022-03-05T10:02:51.302567Z",
     "shell.execute_reply.started": "2022-02-27T08:21:27.808104Z"
    },
    "papermill": {
     "duration": 0.762533,
     "end_time": "2022-03-05T10:02:51.302750",
     "exception": false,
     "start_time": "2022-03-05T10:02:50.540217",
     "status": "completed"
    },
    "tags": []
   },
   "outputs": [
    {
     "name": "stdout",
     "output_type": "stream",
     "text": [
      "comment_id,score\r\n",
      "114890,0.5\r\n",
      "732895,0.5\r\n",
      "1139051,0.5\r\n",
      "1434512,0.5\r\n"
     ]
    }
   ],
   "source": [
    "! head -n 5 /kaggle/input/jigsaw-toxic-severity-rating/sample_submission.csv"
   ]
  },
  {
   "cell_type": "code",
   "execution_count": 20,
   "id": "88ba6d81",
   "metadata": {
    "execution": {
     "iopub.execute_input": "2022-03-05T10:02:51.363002Z",
     "iopub.status.busy": "2022-03-05T10:02:51.362356Z",
     "iopub.status.idle": "2022-03-05T10:02:51.365201Z",
     "shell.execute_reply": "2022-03-05T10:02:51.364679Z",
     "shell.execute_reply.started": "2022-03-05T09:53:58.057925Z"
    },
    "papermill": {
     "duration": 0.035271,
     "end_time": "2022-03-05T10:02:51.365314",
     "exception": false,
     "start_time": "2022-03-05T10:02:51.330043",
     "status": "completed"
    },
    "tags": []
   },
   "outputs": [
    {
     "data": {
      "text/plain": [
       "\"Gjalexei, you asked about whether there is an anti-editorializing policy here.  There is, and it's called wikipedia:neutral point of view.  It discusses at some length  the case of what we should do when writing about a subject which most of us find repugnant.  Whilst you're not likely to get too many defenders of FGM here, the need for the policy should be clearer for articles like abortion, for instance.\\n\\nIf something you write is edited and you're not sure why, please continue to question such edits on the talk page.  Sometimes, you'll learn more about wikipedia policy.  Sometimes, you'll find out that some other people working on here can get it flat-out wrong ) Robert Merkel\""
      ]
     },
     "execution_count": 20,
     "metadata": {},
     "output_type": "execute_result"
    }
   ],
   "source": [
    "texts[0]"
   ]
  },
  {
   "cell_type": "code",
   "execution_count": 21,
   "id": "2bc7662c",
   "metadata": {
    "execution": {
     "iopub.execute_input": "2022-03-05T10:02:51.423444Z",
     "iopub.status.busy": "2022-03-05T10:02:51.422803Z",
     "iopub.status.idle": "2022-03-05T10:02:55.438427Z",
     "shell.execute_reply": "2022-03-05T10:02:55.438922Z",
     "shell.execute_reply.started": "2022-03-05T09:58:06.911227Z"
    },
    "papermill": {
     "duration": 4.046362,
     "end_time": "2022-03-05T10:02:55.439112",
     "exception": false,
     "start_time": "2022-03-05T10:02:51.392750",
     "status": "completed"
    },
    "tags": []
   },
   "outputs": [
    {
     "name": "stderr",
     "output_type": "stream",
     "text": [
      "/opt/conda/lib/python3.7/site-packages/ipykernel_launcher.py:12: RuntimeWarning: invalid value encountered in true_divide\n",
      "  if sys.path[0] == '':\n"
     ]
    }
   ],
   "source": [
    "predict_txts = list(map(lambda sentence: review_to_wordlist(sentence), texts))\n",
    "predictDataVecs = list(map(lambda sentence: makeFeatureVec(sentence), predict_txts))"
   ]
  },
  {
   "cell_type": "code",
   "execution_count": 22,
   "id": "0408e604",
   "metadata": {
    "execution": {
     "iopub.execute_input": "2022-03-05T10:02:55.497338Z",
     "iopub.status.busy": "2022-03-05T10:02:55.496722Z",
     "iopub.status.idle": "2022-03-05T10:02:55.547418Z",
     "shell.execute_reply": "2022-03-05T10:02:55.547920Z",
     "shell.execute_reply.started": "2022-03-05T09:58:10.510214Z"
    },
    "papermill": {
     "duration": 0.080883,
     "end_time": "2022-03-05T10:02:55.548098",
     "exception": false,
     "start_time": "2022-03-05T10:02:55.467215",
     "status": "completed"
    },
    "tags": []
   },
   "outputs": [],
   "source": [
    "op = []\n",
    "id_idx = 0\n",
    "\n",
    "with open('submission.csv', 'w') as opfile:\n",
    "  writer = csv.writer(opfile)\n",
    "  writer.writerow([\"comment_id\",\"score\"])\n",
    "\n",
    "  labels = forest.predict( predictDataVecs )\n",
    "  for label in labels:\n",
    "      writer.writerow([\n",
    "        ids[id_idx],\n",
    "        float(label)\n",
    "      ])\n",
    "      id_idx += 1"
   ]
  },
  {
   "cell_type": "code",
   "execution_count": 23,
   "id": "e37bbf68",
   "metadata": {
    "execution": {
     "iopub.execute_input": "2022-03-05T10:02:55.609255Z",
     "iopub.status.busy": "2022-03-05T10:02:55.608716Z",
     "iopub.status.idle": "2022-03-05T10:02:56.329006Z",
     "shell.execute_reply": "2022-03-05T10:02:56.328523Z",
     "shell.execute_reply.started": "2022-03-05T09:54:11.745711Z"
    },
    "papermill": {
     "duration": 0.753231,
     "end_time": "2022-03-05T10:02:56.329134",
     "exception": false,
     "start_time": "2022-03-05T10:02:55.575903",
     "status": "completed"
    },
    "tags": []
   },
   "outputs": [
    {
     "name": "stdout",
     "output_type": "stream",
     "text": [
      "\r\n",
      "\r\n",
      "\r\n",
      "\r\n",
      "\r\n"
     ]
    }
   ],
   "source": [
    "! head -n 5 submission.csv"
   ]
  }
 ],
 "metadata": {
  "kernelspec": {
   "display_name": "Python 3",
   "language": "python",
   "name": "python3"
  },
  "language_info": {
   "codemirror_mode": {
    "name": "ipython",
    "version": 3
   },
   "file_extension": ".py",
   "mimetype": "text/x-python",
   "name": "python",
   "nbconvert_exporter": "python",
   "pygments_lexer": "ipython3",
   "version": "3.7.12"
  },
  "papermill": {
   "default_parameters": {},
   "duration": 228.370606,
   "end_time": "2022-03-05T10:02:57.468342",
   "environment_variables": {},
   "exception": null,
   "input_path": "__notebook__.ipynb",
   "output_path": "__notebook__.ipynb",
   "parameters": {},
   "start_time": "2022-03-05T09:59:09.097736",
   "version": "2.3.3"
  }
 },
 "nbformat": 4,
 "nbformat_minor": 5
}
