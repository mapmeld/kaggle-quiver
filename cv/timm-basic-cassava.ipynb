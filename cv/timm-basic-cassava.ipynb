{
 "cells": [
  {
   "cell_type": "code",
   "execution_count": 1,
   "id": "526e684c",
   "metadata": {
    "_cell_guid": "b1076dfc-b9ad-4769-8c92-a6c4dae69d19",
    "_uuid": "8f2839f25d086af736a60e9eeb907d3b93b6e0e5",
    "execution": {
     "iopub.execute_input": "2022-03-18T06:16:43.993015Z",
     "iopub.status.busy": "2022-03-18T06:16:43.991346Z",
     "iopub.status.idle": "2022-03-18T06:16:47.283851Z",
     "shell.execute_reply": "2022-03-18T06:16:47.284305Z",
     "shell.execute_reply.started": "2022-03-18T06:11:33.586976Z"
    },
    "papermill": {
     "duration": 3.325195,
     "end_time": "2022-03-18T06:16:47.284668",
     "exception": false,
     "start_time": "2022-03-18T06:16:43.959473",
     "status": "completed"
    },
    "tags": []
   },
   "outputs": [],
   "source": [
    "# based on https://www.kaggle.com/piantic/how-to-finetuning-models-pytorch-xla-tpu\n",
    "\n",
    "import sys\n",
    "sys.path.append('../input/timm-pytorch-image-models/pytorch-image-models-master')\n",
    "import timm"
   ]
  },
  {
   "cell_type": "code",
   "execution_count": 2,
   "id": "4cb4159c",
   "metadata": {
    "execution": {
     "iopub.execute_input": "2022-03-18T06:16:47.340352Z",
     "iopub.status.busy": "2022-03-18T06:16:47.339567Z",
     "iopub.status.idle": "2022-03-18T06:16:48.009452Z",
     "shell.execute_reply": "2022-03-18T06:16:48.008927Z",
     "shell.execute_reply.started": "2022-03-18T06:11:35.309670Z"
    },
    "papermill": {
     "duration": 0.699022,
     "end_time": "2022-03-18T06:16:48.009583",
     "exception": false,
     "start_time": "2022-03-18T06:16:47.310561",
     "status": "completed"
    },
    "tags": []
   },
   "outputs": [
    {
     "name": "stdout",
     "output_type": "stream",
     "text": [
      "extraimages.zip  random.txt  sample_submission_file.csv  test.zip  train.zip\r\n"
     ]
    }
   ],
   "source": [
    "! ls ../input/cassava-disease"
   ]
  },
  {
   "cell_type": "code",
   "execution_count": 3,
   "id": "4395eb5a",
   "metadata": {
    "execution": {
     "iopub.execute_input": "2022-03-18T06:16:48.063864Z",
     "iopub.status.busy": "2022-03-18T06:16:48.063045Z",
     "iopub.status.idle": "2022-03-18T06:16:59.833749Z",
     "shell.execute_reply": "2022-03-18T06:16:59.833165Z",
     "shell.execute_reply.started": "2022-03-18T06:11:35.988983Z"
    },
    "papermill": {
     "duration": 11.799756,
     "end_time": "2022-03-18T06:16:59.833884",
     "exception": false,
     "start_time": "2022-03-18T06:16:48.034128",
     "status": "completed"
    },
    "tags": []
   },
   "outputs": [],
   "source": [
    "! unzip ../input/cassava-disease/train.zip > abc"
   ]
  },
  {
   "cell_type": "code",
   "execution_count": 4,
   "id": "d82bfd8e",
   "metadata": {
    "execution": {
     "iopub.execute_input": "2022-03-18T06:16:59.886874Z",
     "iopub.status.busy": "2022-03-18T06:16:59.885174Z",
     "iopub.status.idle": "2022-03-18T06:17:00.544260Z",
     "shell.execute_reply": "2022-03-18T06:17:00.543553Z",
     "shell.execute_reply.started": "2022-03-18T06:11:39.090261Z"
    },
    "papermill": {
     "duration": 0.686441,
     "end_time": "2022-03-18T06:17:00.544409",
     "exception": false,
     "start_time": "2022-03-18T06:16:59.857968",
     "status": "completed"
    },
    "tags": []
   },
   "outputs": [
    {
     "name": "stdout",
     "output_type": "stream",
     "text": [
      "cbb  cbsd  cgm\tcmd  healthy\r\n"
     ]
    }
   ],
   "source": [
    "! ls train"
   ]
  },
  {
   "cell_type": "code",
   "execution_count": 5,
   "id": "ce81bc3c",
   "metadata": {
    "execution": {
     "iopub.execute_input": "2022-03-18T06:17:00.594952Z",
     "iopub.status.busy": "2022-03-18T06:17:00.594177Z",
     "iopub.status.idle": "2022-03-18T06:17:00.598848Z",
     "shell.execute_reply": "2022-03-18T06:17:00.599324Z",
     "shell.execute_reply.started": "2022-03-18T06:11:39.753471Z"
    },
    "papermill": {
     "duration": 0.031484,
     "end_time": "2022-03-18T06:17:00.599457",
     "exception": false,
     "start_time": "2022-03-18T06:17:00.567973",
     "status": "completed"
    },
    "tags": []
   },
   "outputs": [],
   "source": [
    "import torch\n",
    "from torch.utils.data import DataLoader, Dataset\n",
    "from torch.utils.data.sampler import SubsetRandomSampler\n",
    "from torchvision import datasets, transforms\n",
    "import numpy as np"
   ]
  },
  {
   "cell_type": "code",
   "execution_count": 6,
   "id": "1f78fa38",
   "metadata": {
    "execution": {
     "iopub.execute_input": "2022-03-18T06:17:00.653797Z",
     "iopub.status.busy": "2022-03-18T06:17:00.652853Z",
     "iopub.status.idle": "2022-03-18T06:17:00.687360Z",
     "shell.execute_reply": "2022-03-18T06:17:00.686906Z",
     "shell.execute_reply.started": "2022-03-18T06:11:39.760988Z"
    },
    "papermill": {
     "duration": 0.064652,
     "end_time": "2022-03-18T06:17:00.687491",
     "exception": false,
     "start_time": "2022-03-18T06:17:00.622839",
     "status": "completed"
    },
    "tags": []
   },
   "outputs": [],
   "source": [
    "transform = transforms.Compose([\n",
    "    transforms.Resize(255),\n",
    "    transforms.CenterCrop(224),\n",
    "    transforms.ToTensor()\n",
    "])\n",
    "\n",
    "allimg = datasets.ImageFolder('./train', transform=transform)\n",
    "\n",
    "validation_split = 0.25\n",
    "dataset_size = len(allimg)\n",
    "indices = list(range(dataset_size))\n",
    "split = int(np.floor(validation_split * dataset_size))\n",
    "np.random.seed(101)\n",
    "np.random.shuffle(indices)\n",
    "train_indices, val_indices = indices[split:], indices[:split]\n",
    "\n",
    "train_sampler = SubsetRandomSampler(train_indices)\n",
    "valid_sampler = SubsetRandomSampler(val_indices)"
   ]
  },
  {
   "cell_type": "code",
   "execution_count": 7,
   "id": "feda5344",
   "metadata": {
    "execution": {
     "iopub.execute_input": "2022-03-18T06:17:00.741634Z",
     "iopub.status.busy": "2022-03-18T06:17:00.740853Z",
     "iopub.status.idle": "2022-03-18T06:17:00.742787Z",
     "shell.execute_reply": "2022-03-18T06:17:00.743271Z",
     "shell.execute_reply.started": "2022-03-18T06:11:39.805741Z"
    },
    "papermill": {
     "duration": 0.030578,
     "end_time": "2022-03-18T06:17:00.743437",
     "exception": false,
     "start_time": "2022-03-18T06:17:00.712859",
     "status": "completed"
    },
    "tags": []
   },
   "outputs": [],
   "source": [
    "train_loader = torch.utils.data.DataLoader(allimg, batch_size=16, \n",
    "                                           sampler=train_sampler)\n",
    "validation_loader = torch.utils.data.DataLoader(allimg, batch_size=16,\n",
    "                                                sampler=valid_sampler)"
   ]
  },
  {
   "cell_type": "code",
   "execution_count": 8,
   "id": "858a320b",
   "metadata": {
    "execution": {
     "iopub.execute_input": "2022-03-18T06:17:00.796246Z",
     "iopub.status.busy": "2022-03-18T06:17:00.795702Z",
     "iopub.status.idle": "2022-03-18T06:17:01.040833Z",
     "shell.execute_reply": "2022-03-18T06:17:01.041472Z",
     "shell.execute_reply.started": "2022-03-18T06:11:39.813182Z"
    },
    "papermill": {
     "duration": 0.274548,
     "end_time": "2022-03-18T06:17:01.041675",
     "exception": false,
     "start_time": "2022-03-18T06:17:00.767127",
     "status": "completed"
    },
    "tags": []
   },
   "outputs": [
    {
     "name": "stdout",
     "output_type": "stream",
     "text": [
      "tensor([[[0.4196, 0.4039, 0.3608,  ..., 0.5294, 0.5137, 0.4510],\n",
      "         [0.4275, 0.4314, 0.4314,  ..., 0.4275, 0.3294, 0.2588],\n",
      "         [0.4667, 0.4549, 0.4627,  ..., 0.2353, 0.2275, 0.2157],\n",
      "         ...,\n",
      "         [0.1804, 0.1765, 0.1725,  ..., 0.3216, 0.3412, 0.3725],\n",
      "         [0.2471, 0.1961, 0.1725,  ..., 0.3529, 0.3961, 0.3882],\n",
      "         [0.2980, 0.3020, 0.2510,  ..., 0.4039, 0.3529, 0.2863]],\n",
      "\n",
      "        [[0.4157, 0.4118, 0.3686,  ..., 0.6275, 0.6118, 0.5529],\n",
      "         [0.4314, 0.4431, 0.4431,  ..., 0.5333, 0.4392, 0.3725],\n",
      "         [0.4745, 0.4667, 0.4745,  ..., 0.3412, 0.3373, 0.3373],\n",
      "         ...,\n",
      "         [0.3216, 0.3176, 0.3216,  ..., 0.5255, 0.5373, 0.5451],\n",
      "         [0.3804, 0.3373, 0.3176,  ..., 0.5255, 0.5490, 0.5098],\n",
      "         [0.4353, 0.4471, 0.4039,  ..., 0.5216, 0.4431, 0.3451]],\n",
      "\n",
      "        [[0.3098, 0.2941, 0.2549,  ..., 0.4745, 0.4588, 0.3961],\n",
      "         [0.3255, 0.3294, 0.3294,  ..., 0.3529, 0.2549, 0.1843],\n",
      "         [0.3725, 0.3608, 0.3647,  ..., 0.1529, 0.1451, 0.1333],\n",
      "         ...,\n",
      "         [0.1647, 0.1647, 0.1686,  ..., 0.2980, 0.3059, 0.3255],\n",
      "         [0.2314, 0.1765, 0.1608,  ..., 0.3137, 0.3490, 0.3333],\n",
      "         [0.2863, 0.2902, 0.2431,  ..., 0.3490, 0.2902, 0.2196]]])\n",
      "tensor(3)\n"
     ]
    }
   ],
   "source": [
    "for images, labels in train_loader:\n",
    "    print(images[0])\n",
    "    print(labels[0])\n",
    "    break"
   ]
  },
  {
   "cell_type": "code",
   "execution_count": 9,
   "id": "8eaac46d",
   "metadata": {
    "execution": {
     "iopub.execute_input": "2022-03-18T06:17:01.099321Z",
     "iopub.status.busy": "2022-03-18T06:17:01.098441Z",
     "iopub.status.idle": "2022-03-18T06:17:01.100260Z",
     "shell.execute_reply": "2022-03-18T06:17:01.100719Z",
     "shell.execute_reply.started": "2022-03-18T06:11:39.985714Z"
    },
    "papermill": {
     "duration": 0.033947,
     "end_time": "2022-03-18T06:17:01.100850",
     "exception": false,
     "start_time": "2022-03-18T06:17:01.066903",
     "status": "completed"
    },
    "tags": []
   },
   "outputs": [],
   "source": [
    "from torch import nn\n",
    "\n",
    "class CustomResNext(nn.Module):\n",
    "    def __init__(self, model_name, target_size, pretrained=True):\n",
    "        super().__init__()\n",
    "        self.model = timm.create_model(model_name, pretrained=pretrained)\n",
    "        n_features = self.model.fc.in_features\n",
    "        self.model.fc = nn.Linear(n_features, target_size)\n",
    "\n",
    "    def forward(self, x):\n",
    "        x = self.model(x)\n",
    "        return x\n",
    "    \n",
    "    def freeze(self):\n",
    "        # To freeze the residual layers\n",
    "        for param in self.model.parameters():\n",
    "            param.requires_grad = False\n",
    "\n",
    "        for param in self.model.fc.parameters():\n",
    "            param.requires_grad = True\n",
    "    \n",
    "    def unfreeze(self):\n",
    "        # Unfreeze all layers\n",
    "        for param in self.model.parameters():\n",
    "            param.requires_grad = True"
   ]
  },
  {
   "cell_type": "code",
   "execution_count": 10,
   "id": "33d2eb76",
   "metadata": {
    "execution": {
     "iopub.execute_input": "2022-03-18T06:17:01.156224Z",
     "iopub.status.busy": "2022-03-18T06:17:01.155636Z",
     "iopub.status.idle": "2022-03-18T06:17:01.158721Z",
     "shell.execute_reply": "2022-03-18T06:17:01.159129Z",
     "shell.execute_reply.started": "2022-03-18T06:11:39.995624Z"
    },
    "papermill": {
     "duration": 0.034113,
     "end_time": "2022-03-18T06:17:01.159258",
     "exception": false,
     "start_time": "2022-03-18T06:17:01.125145",
     "status": "completed"
    },
    "tags": []
   },
   "outputs": [
    {
     "data": {
      "text/plain": [
       "{'cbb': 0, 'cbsd': 1, 'cgm': 2, 'cmd': 3, 'healthy': 4}"
      ]
     },
     "execution_count": 10,
     "metadata": {},
     "output_type": "execute_result"
    }
   ],
   "source": [
    "allimg.class_to_idx"
   ]
  },
  {
   "cell_type": "code",
   "execution_count": 11,
   "id": "33a8bbb7",
   "metadata": {
    "execution": {
     "iopub.execute_input": "2022-03-18T06:17:01.212702Z",
     "iopub.status.busy": "2022-03-18T06:17:01.212176Z",
     "iopub.status.idle": "2022-03-18T06:17:06.300680Z",
     "shell.execute_reply": "2022-03-18T06:17:06.300212Z",
     "shell.execute_reply.started": "2022-03-18T06:11:40.011261Z"
    },
    "papermill": {
     "duration": 5.117586,
     "end_time": "2022-03-18T06:17:06.300805",
     "exception": false,
     "start_time": "2022-03-18T06:17:01.183219",
     "status": "completed"
    },
    "tags": []
   },
   "outputs": [
    {
     "name": "stderr",
     "output_type": "stream",
     "text": [
      "Downloading: \"https://github.com/rwightman/pytorch-image-models/releases/download/v0.1-rsb-weights/resnext50_32x4d_a1h-0146ab0a.pth\" to /root/.cache/torch/hub/checkpoints/resnext50_32x4d_a1h-0146ab0a.pth\n"
     ]
    },
    {
     "data": {
      "text/plain": [
       "CustomResNext(\n",
       "  (model): ResNet(\n",
       "    (conv1): Conv2d(3, 64, kernel_size=(7, 7), stride=(2, 2), padding=(3, 3), bias=False)\n",
       "    (bn1): BatchNorm2d(64, eps=1e-05, momentum=0.1, affine=True, track_running_stats=True)\n",
       "    (act1): ReLU(inplace=True)\n",
       "    (maxpool): MaxPool2d(kernel_size=3, stride=2, padding=1, dilation=1, ceil_mode=False)\n",
       "    (layer1): Sequential(\n",
       "      (0): Bottleneck(\n",
       "        (conv1): Conv2d(64, 128, kernel_size=(1, 1), stride=(1, 1), bias=False)\n",
       "        (bn1): BatchNorm2d(128, eps=1e-05, momentum=0.1, affine=True, track_running_stats=True)\n",
       "        (act1): ReLU(inplace=True)\n",
       "        (conv2): Conv2d(128, 128, kernel_size=(3, 3), stride=(1, 1), padding=(1, 1), groups=32, bias=False)\n",
       "        (bn2): BatchNorm2d(128, eps=1e-05, momentum=0.1, affine=True, track_running_stats=True)\n",
       "        (act2): ReLU(inplace=True)\n",
       "        (conv3): Conv2d(128, 256, kernel_size=(1, 1), stride=(1, 1), bias=False)\n",
       "        (bn3): BatchNorm2d(256, eps=1e-05, momentum=0.1, affine=True, track_running_stats=True)\n",
       "        (act3): ReLU(inplace=True)\n",
       "        (downsample): Sequential(\n",
       "          (0): Conv2d(64, 256, kernel_size=(1, 1), stride=(1, 1), bias=False)\n",
       "          (1): BatchNorm2d(256, eps=1e-05, momentum=0.1, affine=True, track_running_stats=True)\n",
       "        )\n",
       "      )\n",
       "      (1): Bottleneck(\n",
       "        (conv1): Conv2d(256, 128, kernel_size=(1, 1), stride=(1, 1), bias=False)\n",
       "        (bn1): BatchNorm2d(128, eps=1e-05, momentum=0.1, affine=True, track_running_stats=True)\n",
       "        (act1): ReLU(inplace=True)\n",
       "        (conv2): Conv2d(128, 128, kernel_size=(3, 3), stride=(1, 1), padding=(1, 1), groups=32, bias=False)\n",
       "        (bn2): BatchNorm2d(128, eps=1e-05, momentum=0.1, affine=True, track_running_stats=True)\n",
       "        (act2): ReLU(inplace=True)\n",
       "        (conv3): Conv2d(128, 256, kernel_size=(1, 1), stride=(1, 1), bias=False)\n",
       "        (bn3): BatchNorm2d(256, eps=1e-05, momentum=0.1, affine=True, track_running_stats=True)\n",
       "        (act3): ReLU(inplace=True)\n",
       "      )\n",
       "      (2): Bottleneck(\n",
       "        (conv1): Conv2d(256, 128, kernel_size=(1, 1), stride=(1, 1), bias=False)\n",
       "        (bn1): BatchNorm2d(128, eps=1e-05, momentum=0.1, affine=True, track_running_stats=True)\n",
       "        (act1): ReLU(inplace=True)\n",
       "        (conv2): Conv2d(128, 128, kernel_size=(3, 3), stride=(1, 1), padding=(1, 1), groups=32, bias=False)\n",
       "        (bn2): BatchNorm2d(128, eps=1e-05, momentum=0.1, affine=True, track_running_stats=True)\n",
       "        (act2): ReLU(inplace=True)\n",
       "        (conv3): Conv2d(128, 256, kernel_size=(1, 1), stride=(1, 1), bias=False)\n",
       "        (bn3): BatchNorm2d(256, eps=1e-05, momentum=0.1, affine=True, track_running_stats=True)\n",
       "        (act3): ReLU(inplace=True)\n",
       "      )\n",
       "    )\n",
       "    (layer2): Sequential(\n",
       "      (0): Bottleneck(\n",
       "        (conv1): Conv2d(256, 256, kernel_size=(1, 1), stride=(1, 1), bias=False)\n",
       "        (bn1): BatchNorm2d(256, eps=1e-05, momentum=0.1, affine=True, track_running_stats=True)\n",
       "        (act1): ReLU(inplace=True)\n",
       "        (conv2): Conv2d(256, 256, kernel_size=(3, 3), stride=(2, 2), padding=(1, 1), groups=32, bias=False)\n",
       "        (bn2): BatchNorm2d(256, eps=1e-05, momentum=0.1, affine=True, track_running_stats=True)\n",
       "        (act2): ReLU(inplace=True)\n",
       "        (conv3): Conv2d(256, 512, kernel_size=(1, 1), stride=(1, 1), bias=False)\n",
       "        (bn3): BatchNorm2d(512, eps=1e-05, momentum=0.1, affine=True, track_running_stats=True)\n",
       "        (act3): ReLU(inplace=True)\n",
       "        (downsample): Sequential(\n",
       "          (0): Conv2d(256, 512, kernel_size=(1, 1), stride=(2, 2), bias=False)\n",
       "          (1): BatchNorm2d(512, eps=1e-05, momentum=0.1, affine=True, track_running_stats=True)\n",
       "        )\n",
       "      )\n",
       "      (1): Bottleneck(\n",
       "        (conv1): Conv2d(512, 256, kernel_size=(1, 1), stride=(1, 1), bias=False)\n",
       "        (bn1): BatchNorm2d(256, eps=1e-05, momentum=0.1, affine=True, track_running_stats=True)\n",
       "        (act1): ReLU(inplace=True)\n",
       "        (conv2): Conv2d(256, 256, kernel_size=(3, 3), stride=(1, 1), padding=(1, 1), groups=32, bias=False)\n",
       "        (bn2): BatchNorm2d(256, eps=1e-05, momentum=0.1, affine=True, track_running_stats=True)\n",
       "        (act2): ReLU(inplace=True)\n",
       "        (conv3): Conv2d(256, 512, kernel_size=(1, 1), stride=(1, 1), bias=False)\n",
       "        (bn3): BatchNorm2d(512, eps=1e-05, momentum=0.1, affine=True, track_running_stats=True)\n",
       "        (act3): ReLU(inplace=True)\n",
       "      )\n",
       "      (2): Bottleneck(\n",
       "        (conv1): Conv2d(512, 256, kernel_size=(1, 1), stride=(1, 1), bias=False)\n",
       "        (bn1): BatchNorm2d(256, eps=1e-05, momentum=0.1, affine=True, track_running_stats=True)\n",
       "        (act1): ReLU(inplace=True)\n",
       "        (conv2): Conv2d(256, 256, kernel_size=(3, 3), stride=(1, 1), padding=(1, 1), groups=32, bias=False)\n",
       "        (bn2): BatchNorm2d(256, eps=1e-05, momentum=0.1, affine=True, track_running_stats=True)\n",
       "        (act2): ReLU(inplace=True)\n",
       "        (conv3): Conv2d(256, 512, kernel_size=(1, 1), stride=(1, 1), bias=False)\n",
       "        (bn3): BatchNorm2d(512, eps=1e-05, momentum=0.1, affine=True, track_running_stats=True)\n",
       "        (act3): ReLU(inplace=True)\n",
       "      )\n",
       "      (3): Bottleneck(\n",
       "        (conv1): Conv2d(512, 256, kernel_size=(1, 1), stride=(1, 1), bias=False)\n",
       "        (bn1): BatchNorm2d(256, eps=1e-05, momentum=0.1, affine=True, track_running_stats=True)\n",
       "        (act1): ReLU(inplace=True)\n",
       "        (conv2): Conv2d(256, 256, kernel_size=(3, 3), stride=(1, 1), padding=(1, 1), groups=32, bias=False)\n",
       "        (bn2): BatchNorm2d(256, eps=1e-05, momentum=0.1, affine=True, track_running_stats=True)\n",
       "        (act2): ReLU(inplace=True)\n",
       "        (conv3): Conv2d(256, 512, kernel_size=(1, 1), stride=(1, 1), bias=False)\n",
       "        (bn3): BatchNorm2d(512, eps=1e-05, momentum=0.1, affine=True, track_running_stats=True)\n",
       "        (act3): ReLU(inplace=True)\n",
       "      )\n",
       "    )\n",
       "    (layer3): Sequential(\n",
       "      (0): Bottleneck(\n",
       "        (conv1): Conv2d(512, 512, kernel_size=(1, 1), stride=(1, 1), bias=False)\n",
       "        (bn1): BatchNorm2d(512, eps=1e-05, momentum=0.1, affine=True, track_running_stats=True)\n",
       "        (act1): ReLU(inplace=True)\n",
       "        (conv2): Conv2d(512, 512, kernel_size=(3, 3), stride=(2, 2), padding=(1, 1), groups=32, bias=False)\n",
       "        (bn2): BatchNorm2d(512, eps=1e-05, momentum=0.1, affine=True, track_running_stats=True)\n",
       "        (act2): ReLU(inplace=True)\n",
       "        (conv3): Conv2d(512, 1024, kernel_size=(1, 1), stride=(1, 1), bias=False)\n",
       "        (bn3): BatchNorm2d(1024, eps=1e-05, momentum=0.1, affine=True, track_running_stats=True)\n",
       "        (act3): ReLU(inplace=True)\n",
       "        (downsample): Sequential(\n",
       "          (0): Conv2d(512, 1024, kernel_size=(1, 1), stride=(2, 2), bias=False)\n",
       "          (1): BatchNorm2d(1024, eps=1e-05, momentum=0.1, affine=True, track_running_stats=True)\n",
       "        )\n",
       "      )\n",
       "      (1): Bottleneck(\n",
       "        (conv1): Conv2d(1024, 512, kernel_size=(1, 1), stride=(1, 1), bias=False)\n",
       "        (bn1): BatchNorm2d(512, eps=1e-05, momentum=0.1, affine=True, track_running_stats=True)\n",
       "        (act1): ReLU(inplace=True)\n",
       "        (conv2): Conv2d(512, 512, kernel_size=(3, 3), stride=(1, 1), padding=(1, 1), groups=32, bias=False)\n",
       "        (bn2): BatchNorm2d(512, eps=1e-05, momentum=0.1, affine=True, track_running_stats=True)\n",
       "        (act2): ReLU(inplace=True)\n",
       "        (conv3): Conv2d(512, 1024, kernel_size=(1, 1), stride=(1, 1), bias=False)\n",
       "        (bn3): BatchNorm2d(1024, eps=1e-05, momentum=0.1, affine=True, track_running_stats=True)\n",
       "        (act3): ReLU(inplace=True)\n",
       "      )\n",
       "      (2): Bottleneck(\n",
       "        (conv1): Conv2d(1024, 512, kernel_size=(1, 1), stride=(1, 1), bias=False)\n",
       "        (bn1): BatchNorm2d(512, eps=1e-05, momentum=0.1, affine=True, track_running_stats=True)\n",
       "        (act1): ReLU(inplace=True)\n",
       "        (conv2): Conv2d(512, 512, kernel_size=(3, 3), stride=(1, 1), padding=(1, 1), groups=32, bias=False)\n",
       "        (bn2): BatchNorm2d(512, eps=1e-05, momentum=0.1, affine=True, track_running_stats=True)\n",
       "        (act2): ReLU(inplace=True)\n",
       "        (conv3): Conv2d(512, 1024, kernel_size=(1, 1), stride=(1, 1), bias=False)\n",
       "        (bn3): BatchNorm2d(1024, eps=1e-05, momentum=0.1, affine=True, track_running_stats=True)\n",
       "        (act3): ReLU(inplace=True)\n",
       "      )\n",
       "      (3): Bottleneck(\n",
       "        (conv1): Conv2d(1024, 512, kernel_size=(1, 1), stride=(1, 1), bias=False)\n",
       "        (bn1): BatchNorm2d(512, eps=1e-05, momentum=0.1, affine=True, track_running_stats=True)\n",
       "        (act1): ReLU(inplace=True)\n",
       "        (conv2): Conv2d(512, 512, kernel_size=(3, 3), stride=(1, 1), padding=(1, 1), groups=32, bias=False)\n",
       "        (bn2): BatchNorm2d(512, eps=1e-05, momentum=0.1, affine=True, track_running_stats=True)\n",
       "        (act2): ReLU(inplace=True)\n",
       "        (conv3): Conv2d(512, 1024, kernel_size=(1, 1), stride=(1, 1), bias=False)\n",
       "        (bn3): BatchNorm2d(1024, eps=1e-05, momentum=0.1, affine=True, track_running_stats=True)\n",
       "        (act3): ReLU(inplace=True)\n",
       "      )\n",
       "      (4): Bottleneck(\n",
       "        (conv1): Conv2d(1024, 512, kernel_size=(1, 1), stride=(1, 1), bias=False)\n",
       "        (bn1): BatchNorm2d(512, eps=1e-05, momentum=0.1, affine=True, track_running_stats=True)\n",
       "        (act1): ReLU(inplace=True)\n",
       "        (conv2): Conv2d(512, 512, kernel_size=(3, 3), stride=(1, 1), padding=(1, 1), groups=32, bias=False)\n",
       "        (bn2): BatchNorm2d(512, eps=1e-05, momentum=0.1, affine=True, track_running_stats=True)\n",
       "        (act2): ReLU(inplace=True)\n",
       "        (conv3): Conv2d(512, 1024, kernel_size=(1, 1), stride=(1, 1), bias=False)\n",
       "        (bn3): BatchNorm2d(1024, eps=1e-05, momentum=0.1, affine=True, track_running_stats=True)\n",
       "        (act3): ReLU(inplace=True)\n",
       "      )\n",
       "      (5): Bottleneck(\n",
       "        (conv1): Conv2d(1024, 512, kernel_size=(1, 1), stride=(1, 1), bias=False)\n",
       "        (bn1): BatchNorm2d(512, eps=1e-05, momentum=0.1, affine=True, track_running_stats=True)\n",
       "        (act1): ReLU(inplace=True)\n",
       "        (conv2): Conv2d(512, 512, kernel_size=(3, 3), stride=(1, 1), padding=(1, 1), groups=32, bias=False)\n",
       "        (bn2): BatchNorm2d(512, eps=1e-05, momentum=0.1, affine=True, track_running_stats=True)\n",
       "        (act2): ReLU(inplace=True)\n",
       "        (conv3): Conv2d(512, 1024, kernel_size=(1, 1), stride=(1, 1), bias=False)\n",
       "        (bn3): BatchNorm2d(1024, eps=1e-05, momentum=0.1, affine=True, track_running_stats=True)\n",
       "        (act3): ReLU(inplace=True)\n",
       "      )\n",
       "    )\n",
       "    (layer4): Sequential(\n",
       "      (0): Bottleneck(\n",
       "        (conv1): Conv2d(1024, 1024, kernel_size=(1, 1), stride=(1, 1), bias=False)\n",
       "        (bn1): BatchNorm2d(1024, eps=1e-05, momentum=0.1, affine=True, track_running_stats=True)\n",
       "        (act1): ReLU(inplace=True)\n",
       "        (conv2): Conv2d(1024, 1024, kernel_size=(3, 3), stride=(2, 2), padding=(1, 1), groups=32, bias=False)\n",
       "        (bn2): BatchNorm2d(1024, eps=1e-05, momentum=0.1, affine=True, track_running_stats=True)\n",
       "        (act2): ReLU(inplace=True)\n",
       "        (conv3): Conv2d(1024, 2048, kernel_size=(1, 1), stride=(1, 1), bias=False)\n",
       "        (bn3): BatchNorm2d(2048, eps=1e-05, momentum=0.1, affine=True, track_running_stats=True)\n",
       "        (act3): ReLU(inplace=True)\n",
       "        (downsample): Sequential(\n",
       "          (0): Conv2d(1024, 2048, kernel_size=(1, 1), stride=(2, 2), bias=False)\n",
       "          (1): BatchNorm2d(2048, eps=1e-05, momentum=0.1, affine=True, track_running_stats=True)\n",
       "        )\n",
       "      )\n",
       "      (1): Bottleneck(\n",
       "        (conv1): Conv2d(2048, 1024, kernel_size=(1, 1), stride=(1, 1), bias=False)\n",
       "        (bn1): BatchNorm2d(1024, eps=1e-05, momentum=0.1, affine=True, track_running_stats=True)\n",
       "        (act1): ReLU(inplace=True)\n",
       "        (conv2): Conv2d(1024, 1024, kernel_size=(3, 3), stride=(1, 1), padding=(1, 1), groups=32, bias=False)\n",
       "        (bn2): BatchNorm2d(1024, eps=1e-05, momentum=0.1, affine=True, track_running_stats=True)\n",
       "        (act2): ReLU(inplace=True)\n",
       "        (conv3): Conv2d(1024, 2048, kernel_size=(1, 1), stride=(1, 1), bias=False)\n",
       "        (bn3): BatchNorm2d(2048, eps=1e-05, momentum=0.1, affine=True, track_running_stats=True)\n",
       "        (act3): ReLU(inplace=True)\n",
       "      )\n",
       "      (2): Bottleneck(\n",
       "        (conv1): Conv2d(2048, 1024, kernel_size=(1, 1), stride=(1, 1), bias=False)\n",
       "        (bn1): BatchNorm2d(1024, eps=1e-05, momentum=0.1, affine=True, track_running_stats=True)\n",
       "        (act1): ReLU(inplace=True)\n",
       "        (conv2): Conv2d(1024, 1024, kernel_size=(3, 3), stride=(1, 1), padding=(1, 1), groups=32, bias=False)\n",
       "        (bn2): BatchNorm2d(1024, eps=1e-05, momentum=0.1, affine=True, track_running_stats=True)\n",
       "        (act2): ReLU(inplace=True)\n",
       "        (conv3): Conv2d(1024, 2048, kernel_size=(1, 1), stride=(1, 1), bias=False)\n",
       "        (bn3): BatchNorm2d(2048, eps=1e-05, momentum=0.1, affine=True, track_running_stats=True)\n",
       "        (act3): ReLU(inplace=True)\n",
       "      )\n",
       "    )\n",
       "    (global_pool): SelectAdaptivePool2d (pool_type=avg, flatten=Flatten(start_dim=1, end_dim=-1))\n",
       "    (fc): Linear(in_features=2048, out_features=5, bias=True)\n",
       "  )\n",
       ")"
      ]
     },
     "execution_count": 11,
     "metadata": {},
     "output_type": "execute_result"
    }
   ],
   "source": [
    "m = CustomResNext('resnext50_32x4d', len(allimg.class_to_idx.keys()))\n",
    "device = torch.device('cuda' if torch.cuda.is_available() else 'cpu')\n",
    "m.to(device)"
   ]
  },
  {
   "cell_type": "code",
   "execution_count": 12,
   "id": "4dcceb3f",
   "metadata": {
    "execution": {
     "iopub.execute_input": "2022-03-18T06:17:06.358537Z",
     "iopub.status.busy": "2022-03-18T06:17:06.357769Z",
     "iopub.status.idle": "2022-03-18T06:17:06.360168Z",
     "shell.execute_reply": "2022-03-18T06:17:06.359752Z",
     "shell.execute_reply.started": "2022-03-18T06:11:42.284723Z"
    },
    "papermill": {
     "duration": 0.033788,
     "end_time": "2022-03-18T06:17:06.360290",
     "exception": false,
     "start_time": "2022-03-18T06:17:06.326502",
     "status": "completed"
    },
    "tags": []
   },
   "outputs": [],
   "source": [
    "class FocalLoss(nn.Module):\n",
    "    def __init__(self, alpha=1, gamma=2, reduce=True):\n",
    "        super(FocalLoss, self).__init__()\n",
    "        self.alpha = alpha\n",
    "        self.gamma = gamma\n",
    "        self.reduce = reduce\n",
    "\n",
    "    def forward(self, inputs, targets):\n",
    "        BCE_loss = nn.CrossEntropyLoss()(inputs, targets)\n",
    "\n",
    "        pt = torch.exp(-BCE_loss)\n",
    "        F_loss = self.alpha * (1-pt)**self.gamma * BCE_loss\n",
    "\n",
    "        if self.reduce:\n",
    "            return torch.mean(F_loss)\n",
    "        else:\n",
    "            return F_loss"
   ]
  },
  {
   "cell_type": "code",
   "execution_count": 13,
   "id": "58aafc89",
   "metadata": {
    "execution": {
     "iopub.execute_input": "2022-03-18T06:17:06.417562Z",
     "iopub.status.busy": "2022-03-18T06:17:06.416836Z",
     "iopub.status.idle": "2022-03-18T06:17:06.419248Z",
     "shell.execute_reply": "2022-03-18T06:17:06.418785Z",
     "shell.execute_reply.started": "2022-03-18T06:11:42.295257Z"
    },
    "papermill": {
     "duration": 0.033909,
     "end_time": "2022-03-18T06:17:06.419380",
     "exception": false,
     "start_time": "2022-03-18T06:17:06.385471",
     "status": "completed"
    },
    "tags": []
   },
   "outputs": [],
   "source": [
    "from torch.optim import Adam\n",
    "from torch.optim.lr_scheduler import ReduceLROnPlateau\n",
    "\n",
    "optimizer = Adam(filter(lambda p: p.requires_grad, m.parameters()), lr=1e-4, weight_decay=1e-6, amsgrad=False)\n",
    "scheduler = ReduceLROnPlateau(optimizer, mode='min', verbose=True)\n",
    "criterion = FocalLoss().to(device)\n",
    "best_score = 0.\n",
    "best_loss = np.inf\n",
    "config_device = \"GPU\""
   ]
  },
  {
   "cell_type": "code",
   "execution_count": 14,
   "id": "0e52c98c",
   "metadata": {
    "execution": {
     "iopub.execute_input": "2022-03-18T06:17:06.478212Z",
     "iopub.status.busy": "2022-03-18T06:17:06.477468Z",
     "iopub.status.idle": "2022-03-18T06:17:06.480103Z",
     "shell.execute_reply": "2022-03-18T06:17:06.479593Z",
     "shell.execute_reply.started": "2022-03-18T06:11:42.305760Z"
    },
    "papermill": {
     "duration": 0.035401,
     "end_time": "2022-03-18T06:17:06.480206",
     "exception": false,
     "start_time": "2022-03-18T06:17:06.444805",
     "status": "completed"
    },
    "tags": []
   },
   "outputs": [],
   "source": [
    "import math\n",
    "\n",
    "class AverageMeter(object):\n",
    "    \"\"\"Computes and stores the average and current value\"\"\"\n",
    "    def __init__(self):\n",
    "        self.reset()\n",
    "\n",
    "    def reset(self):\n",
    "        self.val = 0\n",
    "        self.avg = 0\n",
    "        self.sum = 0\n",
    "        self.count = 0\n",
    "\n",
    "    def update(self, val, n=1):\n",
    "        self.val = val\n",
    "        self.sum += val * n\n",
    "        self.count += n\n",
    "        self.avg = self.sum / self.count\n",
    "\n",
    "def timeSince(since, percent):\n",
    "    now = time.time()\n",
    "    s = now - since\n",
    "    es = s / (percent)\n",
    "    rs = es - s\n",
    "    return '%s (remain %s)' % (asMinutes(s), asMinutes(rs))\n",
    "\n",
    "def asMinutes(s):\n",
    "    m = math.floor(s / 60)\n",
    "    s -= m * 60\n",
    "    return '%dm %ds' % (m, s)"
   ]
  },
  {
   "cell_type": "code",
   "execution_count": 15,
   "id": "7cb6eb01",
   "metadata": {
    "execution": {
     "iopub.execute_input": "2022-03-18T06:17:06.533707Z",
     "iopub.status.busy": "2022-03-18T06:17:06.532807Z",
     "iopub.status.idle": "2022-03-18T06:17:06.551107Z",
     "shell.execute_reply": "2022-03-18T06:17:06.550710Z",
     "shell.execute_reply.started": "2022-03-18T06:11:42.316121Z"
    },
    "papermill": {
     "duration": 0.045675,
     "end_time": "2022-03-18T06:17:06.551214",
     "exception": false,
     "start_time": "2022-03-18T06:17:06.505539",
     "status": "completed"
    },
    "tags": []
   },
   "outputs": [],
   "source": [
    "from torch.cuda.amp import autocast, GradScaler\n",
    "\n",
    "def train_fn(train_loader, model, criterion, optimizer, epoch, scheduler, device):\n",
    "    scaler = GradScaler()\n",
    "    batch_time = AverageMeter()\n",
    "    data_time = AverageMeter()\n",
    "    losses = AverageMeter()\n",
    "    scores = AverageMeter()\n",
    "    # switch to train mode\n",
    "    model.train()\n",
    "    start = end = time.time()\n",
    "    global_step = 0\n",
    "    for step, (images, labels) in enumerate(train_loader):\n",
    "        # measure data loading time\n",
    "        data_time.update(time.time() - end)\n",
    "        images = images.to(device)\n",
    "        labels = labels.to(device)\n",
    "        batch_size = labels.size(0)\n",
    "        with autocast():\n",
    "            y_preds = model(images)\n",
    "            loss = criterion(y_preds, labels)\n",
    "            # record loss\n",
    "            losses.update(loss.item(), batch_size)\n",
    "#             if CFG.gradient_accumulation_steps > 1:\n",
    "#                 loss = loss / CFG.gradient_accumulation_steps\n",
    "            scaler.scale(loss).backward()\n",
    "            grad_norm = torch.nn.utils.clip_grad_norm_(model.parameters(), 1000)\n",
    "            if (step + 1) % 1 == 0:\n",
    "                scaler.step(optimizer)\n",
    "                scaler.update()\n",
    "                optimizer.zero_grad()\n",
    "                global_step += 1\n",
    "        # measure elapsed time\n",
    "        batch_time.update(time.time() - end)\n",
    "        end = time.time()\n",
    "        if step % 10 == 0 or step == (len(train_loader)-1):\n",
    "            print('Epoch: [{0}][{1}/{2}] '\n",
    "                  'Data {data_time.val:.3f} ({data_time.avg:.3f}) '\n",
    "                  'Elapsed {remain:s} '\n",
    "                  'Loss: {loss.val:.4f}({loss.avg:.4f}) '\n",
    "                  'Grad: {grad_norm:.4f}  '\n",
    "                  #'LR: {lr:.6f}  '\n",
    "                  .format(\n",
    "                   epoch+1, step, len(train_loader), batch_time=batch_time,\n",
    "                   data_time=data_time, loss=losses,\n",
    "                   remain=timeSince(start, float(step+1)/len(train_loader)),\n",
    "                   grad_norm=grad_norm,\n",
    "                   #lr=scheduler.get_lr()[0],\n",
    "                   ))\n",
    "    return losses.avg\n",
    "\n",
    "\n",
    "def valid_fn(valid_loader, model, criterion, device):\n",
    "    batch_time = AverageMeter()\n",
    "    data_time = AverageMeter()\n",
    "    losses = AverageMeter()\n",
    "    scores = AverageMeter()\n",
    "    # switch to evaluation mode\n",
    "    model.eval()\n",
    "    trues = []\n",
    "    preds = []\n",
    "    start = end = time.time()\n",
    "    for step, (images, labels) in enumerate(valid_loader):\n",
    "        # measure data loading time\n",
    "        data_time.update(time.time() - end)\n",
    "        images = images.to(device)\n",
    "        labels = labels.to(device)\n",
    "        batch_size = labels.size(0)\n",
    "        # compute loss\n",
    "        with torch.no_grad():\n",
    "            y_preds = model(images)\n",
    "        loss = criterion(y_preds, labels)\n",
    "        losses.update(loss.item(), batch_size)\n",
    "        # record accuracy\n",
    "        trues.append(labels.to('cpu').numpy())\n",
    "        preds.append(y_preds.softmax(1).to('cpu').numpy())\n",
    "#         if CFG.gradient_accumulation_steps > 1:\n",
    "#             loss = loss / CFG.gradient_accumulation_steps\n",
    "        # measure elapsed time\n",
    "        batch_time.update(time.time() - end)\n",
    "        end = time.time()\n",
    "        if step % 10 == 0 or step == (len(valid_loader)-1):\n",
    "            print('EVAL: [{0}/{1}] '\n",
    "                  'Data {data_time.val:.3f} ({data_time.avg:.3f}) '\n",
    "                  'Elapsed {remain:s} '\n",
    "                  'Loss: {loss.val:.4f}({loss.avg:.4f}) '\n",
    "                  .format(\n",
    "                   step, len(valid_loader), batch_time=batch_time,\n",
    "                   data_time=data_time, loss=losses,\n",
    "                   remain=timeSince(start, float(step+1)/len(valid_loader)),\n",
    "                   ))\n",
    "    trues = np.concatenate(trues)\n",
    "    predictions = np.concatenate(preds)\n",
    "    return losses.avg, predictions, trues"
   ]
  },
  {
   "cell_type": "code",
   "execution_count": 16,
   "id": "b0369138",
   "metadata": {
    "execution": {
     "iopub.execute_input": "2022-03-18T06:17:06.604040Z",
     "iopub.status.busy": "2022-03-18T06:17:06.603154Z",
     "iopub.status.idle": "2022-03-18T06:17:07.360797Z",
     "shell.execute_reply": "2022-03-18T06:17:07.361304Z",
     "shell.execute_reply.started": "2022-03-18T06:11:42.338841Z"
    },
    "papermill": {
     "duration": 0.78522,
     "end_time": "2022-03-18T06:17:07.361472",
     "exception": false,
     "start_time": "2022-03-18T06:17:06.576252",
     "status": "completed"
    },
    "tags": []
   },
   "outputs": [],
   "source": [
    "from sklearn.metrics import accuracy_score\n",
    "def get_score(y_true, y_pred):\n",
    "    return accuracy_score(y_true, y_pred)"
   ]
  },
  {
   "cell_type": "code",
   "execution_count": 17,
   "id": "7d3a1597",
   "metadata": {
    "execution": {
     "iopub.execute_input": "2022-03-18T06:17:07.417248Z",
     "iopub.status.busy": "2022-03-18T06:17:07.416449Z",
     "iopub.status.idle": "2022-03-18T06:17:20.637211Z",
     "shell.execute_reply": "2022-03-18T06:17:20.637634Z",
     "shell.execute_reply.started": "2022-03-18T06:11:42.683006Z"
    },
    "papermill": {
     "duration": 13.250565,
     "end_time": "2022-03-18T06:17:20.637794",
     "exception": false,
     "start_time": "2022-03-18T06:17:07.387229",
     "status": "completed"
    },
    "tags": []
   },
   "outputs": [
    {
     "data": {
      "text/plain": [
       "[3, 3, 3, 1, 1, 3, 1, 1, 1, 0, 3, 3, 0, 4, 0, 0, 3, 3, 0, 1]"
      ]
     },
     "execution_count": 17,
     "metadata": {},
     "output_type": "execute_result"
    }
   ],
   "source": [
    "valid_labels = []\n",
    "for img, labels in validation_loader:\n",
    "    valid_labels += labels.tolist()\n",
    "valid_labels[:20]"
   ]
  },
  {
   "cell_type": "code",
   "execution_count": 18,
   "id": "80763907",
   "metadata": {
    "execution": {
     "iopub.execute_input": "2022-03-18T06:17:20.697410Z",
     "iopub.status.busy": "2022-03-18T06:17:20.696653Z",
     "iopub.status.idle": "2022-03-18T06:20:52.324298Z",
     "shell.execute_reply": "2022-03-18T06:20:52.324717Z",
     "shell.execute_reply.started": "2022-03-18T06:11:55.485781Z"
    },
    "papermill": {
     "duration": 211.661474,
     "end_time": "2022-03-18T06:20:52.324876",
     "exception": false,
     "start_time": "2022-03-18T06:17:20.663402",
     "status": "completed"
    },
    "tags": []
   },
   "outputs": [
    {
     "name": "stderr",
     "output_type": "stream",
     "text": [
      "/opt/conda/lib/python3.7/site-packages/ipykernel_launcher.py:27: FutureWarning: Non-finite norm encountered in torch.nn.utils.clip_grad_norm_; continuing anyway. Note that the default behavior will change in a future release to error out if a non-finite total norm is encountered. At that point, setting error_if_nonfinite=false will be required to retain the old behavior.\n"
     ]
    },
    {
     "name": "stdout",
     "output_type": "stream",
     "text": [
      "Epoch: [1][0/266] Data 0.133 (0.133) Elapsed 0m 6s (remain 27m 31s) Loss: 1.0360(1.0360) Grad: nan  \n",
      "Epoch: [1][10/266] Data 0.220 (0.151) Elapsed 0m 9s (remain 3m 40s) Loss: 0.9625(1.0009) Grad: 110231.9922  \n",
      "Epoch: [1][20/266] Data 0.134 (0.147) Elapsed 0m 12s (remain 2m 28s) Loss: 0.9265(0.9637) Grad: 61095.6211  \n",
      "Epoch: [1][30/266] Data 0.142 (0.146) Elapsed 0m 15s (remain 2m 0s) Loss: 0.8318(0.9233) Grad: 100498.1406  \n",
      "Epoch: [1][40/266] Data 0.142 (0.145) Elapsed 0m 19s (remain 1m 44s) Loss: 0.6100(0.8755) Grad: 64602.4844  \n",
      "Epoch: [1][50/266] Data 0.144 (0.148) Elapsed 0m 22s (remain 1m 34s) Loss: 0.7504(0.8357) Grad: 70926.4297  \n",
      "Epoch: [1][60/266] Data 0.135 (0.147) Elapsed 0m 25s (remain 1m 25s) Loss: 0.4163(0.7989) Grad: 57372.5234  \n",
      "Epoch: [1][70/266] Data 0.144 (0.146) Elapsed 0m 28s (remain 1m 18s) Loss: 0.3839(0.7641) Grad: 65638.7812  \n",
      "Epoch: [1][80/266] Data 0.132 (0.147) Elapsed 0m 32s (remain 1m 13s) Loss: 0.5562(0.7306) Grad: 77030.4922  \n",
      "Epoch: [1][90/266] Data 0.235 (0.149) Elapsed 0m 35s (remain 1m 8s) Loss: 0.5742(0.7024) Grad: 99520.1562  \n",
      "Epoch: [1][100/266] Data 0.130 (0.149) Elapsed 0m 38s (remain 1m 3s) Loss: 0.5116(0.6763) Grad: 85434.9297  \n",
      "Epoch: [1][110/266] Data 0.140 (0.148) Elapsed 0m 41s (remain 0m 58s) Loss: 0.4735(0.6538) Grad: 85928.1562  \n",
      "Epoch: [1][120/266] Data 0.133 (0.148) Elapsed 0m 45s (remain 0m 53s) Loss: 0.4333(0.6361) Grad: 133120.9062  \n",
      "Epoch: [1][130/266] Data 0.144 (0.147) Elapsed 0m 48s (remain 0m 49s) Loss: 0.2190(0.6221) Grad: 50501.9961  \n",
      "Epoch: [1][140/266] Data 0.145 (0.147) Elapsed 0m 51s (remain 0m 45s) Loss: 0.4846(0.6111) Grad: 108329.9141  \n",
      "Epoch: [1][150/266] Data 0.134 (0.148) Elapsed 0m 54s (remain 0m 41s) Loss: 0.3017(0.5941) Grad: 74159.9453  \n",
      "Epoch: [1][160/266] Data 0.134 (0.147) Elapsed 0m 57s (remain 0m 37s) Loss: 0.4424(0.5830) Grad: 73722.8125  \n",
      "Epoch: [1][170/266] Data 0.134 (0.147) Elapsed 1m 0s (remain 0m 33s) Loss: 0.1454(0.5664) Grad: 40212.9375  \n",
      "Epoch: [1][180/266] Data 0.138 (0.147) Elapsed 1m 4s (remain 0m 30s) Loss: 0.4191(0.5551) Grad: 114774.2578  \n",
      "Epoch: [1][190/266] Data 0.215 (0.148) Elapsed 1m 7s (remain 0m 26s) Loss: 0.5416(0.5466) Grad: 115152.7578  \n",
      "Epoch: [1][200/266] Data 0.142 (0.148) Elapsed 1m 10s (remain 0m 22s) Loss: 0.5476(0.5339) Grad: 83007.3203  \n",
      "Epoch: [1][210/266] Data 0.150 (0.148) Elapsed 1m 14s (remain 0m 19s) Loss: 0.3559(0.5247) Grad: 66532.4766  \n",
      "Epoch: [1][220/266] Data 0.138 (0.148) Elapsed 1m 17s (remain 0m 15s) Loss: 0.2276(0.5140) Grad: 47552.0469  \n",
      "Epoch: [1][230/266] Data 0.140 (0.148) Elapsed 1m 20s (remain 0m 12s) Loss: 0.2472(0.5050) Grad: 33458.1719  \n",
      "Epoch: [1][240/266] Data 0.148 (0.148) Elapsed 1m 23s (remain 0m 8s) Loss: 0.3012(0.4960) Grad: 46016.6406  \n",
      "Epoch: [1][250/266] Data 0.149 (0.148) Elapsed 1m 27s (remain 0m 5s) Loss: 0.1544(0.4875) Grad: 26219.5801  \n",
      "Epoch: [1][260/266] Data 0.143 (0.148) Elapsed 1m 30s (remain 0m 1s) Loss: 0.1029(0.4783) Grad: 19058.7559  \n",
      "Epoch: [1][265/266] Data 0.017 (0.147) Elapsed 1m 31s (remain 0m 0s) Loss: 2.1028(0.4750) Grad: nan  \n",
      "EVAL: [0/89] Data 0.137 (0.137) Elapsed 0m 0s (remain 0m 15s) Loss: 0.4386(0.4386) \n",
      "EVAL: [10/89] Data 0.143 (0.145) Elapsed 0m 2s (remain 0m 14s) Loss: 0.0406(0.2681) \n",
      "EVAL: [20/89] Data 0.127 (0.142) Elapsed 0m 3s (remain 0m 12s) Loss: 0.3637(0.3140) \n",
      "EVAL: [30/89] Data 0.229 (0.147) Elapsed 0m 5s (remain 0m 10s) Loss: 0.3740(0.2735) \n",
      "EVAL: [40/89] Data 0.135 (0.146) Elapsed 0m 7s (remain 0m 9s) Loss: 0.3914(0.2693) \n",
      "EVAL: [50/89] Data 0.137 (0.153) Elapsed 0m 9s (remain 0m 7s) Loss: 0.5143(0.2569) \n",
      "EVAL: [60/89] Data 0.136 (0.151) Elapsed 0m 11s (remain 0m 5s) Loss: 0.1860(0.2489) \n",
      "EVAL: [70/89] Data 0.139 (0.150) Elapsed 0m 13s (remain 0m 3s) Loss: 0.2082(0.2451) \n",
      "EVAL: [80/89] Data 0.151 (0.148) Elapsed 0m 15s (remain 0m 1s) Loss: 0.3048(0.2464) \n",
      "EVAL: [88/89] Data 0.080 (0.149) Elapsed 0m 17s (remain 0m 0s) Loss: 0.1691(0.2430) \n",
      "Epoch 1 - avg_train_loss: 0.4750  avg_val_loss: 0.2430  time: 109s\n",
      "Epoch 1 - Score: 0.3614\n",
      "Epoch 1 - Save Best Score: 0.3614 Model\n"
     ]
    },
    {
     "name": "stderr",
     "output_type": "stream",
     "text": [
      "/opt/conda/lib/python3.7/site-packages/ipykernel_launcher.py:27: FutureWarning: Non-finite norm encountered in torch.nn.utils.clip_grad_norm_; continuing anyway. Note that the default behavior will change in a future release to error out if a non-finite total norm is encountered. At that point, setting error_if_nonfinite=false will be required to retain the old behavior.\n"
     ]
    },
    {
     "name": "stdout",
     "output_type": "stream",
     "text": [
      "Epoch: [2][0/266] Data 0.150 (0.150) Elapsed 0m 0s (remain 1m 25s) Loss: 0.1292(0.1292) Grad: inf  \n",
      "Epoch: [2][10/266] Data 0.148 (0.145) Elapsed 0m 3s (remain 1m 20s) Loss: 0.3061(0.2348) Grad: 133694.8125  \n",
      "Epoch: [2][20/266] Data 0.142 (0.143) Elapsed 0m 6s (remain 1m 17s) Loss: 0.0979(0.2195) Grad: 32636.3496  \n",
      "Epoch: [2][30/266] Data 0.148 (0.142) Elapsed 0m 9s (remain 1m 14s) Loss: 0.0953(0.2338) Grad: 45237.3594  \n",
      "Epoch: [2][40/266] Data 0.140 (0.144) Elapsed 0m 13s (remain 1m 11s) Loss: 0.0490(0.2287) Grad: 22865.5938  \n",
      "Epoch: [2][50/266] Data 0.134 (0.143) Elapsed 0m 16s (remain 1m 8s) Loss: 0.2338(0.2109) Grad: 70679.2188  \n",
      "Epoch: [2][60/266] Data 0.134 (0.143) Elapsed 0m 19s (remain 1m 5s) Loss: 0.1174(0.2026) Grad: 52915.1523  \n",
      "Epoch: [2][70/266] Data 0.141 (0.145) Elapsed 0m 22s (remain 1m 2s) Loss: 0.0247(0.1922) Grad: 16509.8750  \n",
      "Epoch: [2][80/266] Data 0.133 (0.149) Elapsed 0m 26s (remain 0m 59s) Loss: 0.0548(0.1840) Grad: 17126.5840  \n",
      "Epoch: [2][90/266] Data 0.145 (0.148) Elapsed 0m 29s (remain 0m 56s) Loss: 0.2942(0.1834) Grad: 53800.1367  \n",
      "Epoch: [2][100/266] Data 0.222 (0.148) Elapsed 0m 32s (remain 0m 53s) Loss: 0.1172(0.1783) Grad: 26066.8418  \n",
      "Epoch: [2][110/266] Data 0.138 (0.149) Elapsed 0m 35s (remain 0m 50s) Loss: 0.2673(0.1810) Grad: 33073.0938  \n",
      "Epoch: [2][120/266] Data 0.142 (0.148) Elapsed 0m 39s (remain 0m 46s) Loss: 0.0830(0.1735) Grad: 19060.8027  \n",
      "Epoch: [2][130/266] Data 0.143 (0.147) Elapsed 0m 42s (remain 0m 43s) Loss: 0.0901(0.1673) Grad: 26367.7949  \n",
      "Epoch: [2][140/266] Data 0.141 (0.148) Elapsed 0m 45s (remain 0m 40s) Loss: 0.1117(0.1672) Grad: 29534.7949  \n",
      "Epoch: [2][150/266] Data 0.134 (0.148) Elapsed 0m 48s (remain 0m 37s) Loss: 0.0178(0.1634) Grad: 7123.1650  \n",
      "Epoch: [2][160/266] Data 0.138 (0.147) Elapsed 0m 51s (remain 0m 33s) Loss: 0.1111(0.1659) Grad: 42683.4727  \n",
      "Epoch: [2][170/266] Data 0.164 (0.148) Elapsed 0m 55s (remain 0m 30s) Loss: 0.1498(0.1625) Grad: 30161.1523  \n",
      "Epoch: [2][180/266] Data 0.142 (0.149) Elapsed 0m 58s (remain 0m 27s) Loss: 0.0277(0.1597) Grad: 8117.8179  \n",
      "Epoch: [2][190/266] Data 0.143 (0.148) Elapsed 1m 1s (remain 0m 24s) Loss: 0.0509(0.1576) Grad: 21195.9160  \n",
      "Epoch: [2][200/266] Data 0.145 (0.148) Elapsed 1m 4s (remain 0m 21s) Loss: 0.0065(0.1532) Grad: 3221.8853  \n",
      "Epoch: [2][210/266] Data 0.127 (0.149) Elapsed 1m 8s (remain 0m 17s) Loss: 0.4158(0.1540) Grad: 68893.2812  \n",
      "Epoch: [2][220/266] Data 0.142 (0.148) Elapsed 1m 11s (remain 0m 14s) Loss: 0.0394(0.1530) Grad: 12111.1670  \n",
      "Epoch: [2][230/266] Data 0.138 (0.148) Elapsed 1m 14s (remain 0m 11s) Loss: 0.1387(0.1516) Grad: 31019.5879  \n",
      "Epoch: [2][240/266] Data 0.148 (0.148) Elapsed 1m 17s (remain 0m 8s) Loss: 0.0503(0.1551) Grad: 15031.8467  \n",
      "Epoch: [2][250/266] Data 0.137 (0.148) Elapsed 1m 21s (remain 0m 4s) Loss: 0.0197(0.1536) Grad: 9932.7314  \n",
      "Epoch: [2][260/266] Data 0.156 (0.148) Elapsed 1m 24s (remain 0m 1s) Loss: 0.0698(0.1546) Grad: 12110.7236  \n",
      "Epoch: [2][265/266] Data 0.023 (0.148) Elapsed 1m 25s (remain 0m 0s) Loss: 0.2992(0.1536) Grad: 168878.4688  \n",
      "EVAL: [0/89] Data 0.141 (0.141) Elapsed 0m 0s (remain 0m 15s) Loss: 0.2418(0.2418) \n",
      "EVAL: [10/89] Data 0.226 (0.159) Elapsed 0m 2s (remain 0m 15s) Loss: 0.1225(0.2194) \n",
      "EVAL: [20/89] Data 0.149 (0.151) Elapsed 0m 4s (remain 0m 13s) Loss: 0.0634(0.2311) \n",
      "EVAL: [30/89] Data 0.138 (0.161) Elapsed 0m 6s (remain 0m 11s) Loss: 0.3709(0.2035) \n",
      "EVAL: [40/89] Data 0.131 (0.155) Elapsed 0m 8s (remain 0m 9s) Loss: 0.0474(0.1820) \n",
      "EVAL: [50/89] Data 0.129 (0.152) Elapsed 0m 9s (remain 0m 7s) Loss: 0.1156(0.1635) \n",
      "EVAL: [60/89] Data 0.135 (0.150) Elapsed 0m 11s (remain 0m 5s) Loss: 0.1303(0.1717) \n",
      "EVAL: [70/89] Data 0.143 (0.154) Elapsed 0m 13s (remain 0m 3s) Loss: 0.0048(0.1684) \n",
      "EVAL: [80/89] Data 0.141 (0.152) Elapsed 0m 15s (remain 0m 1s) Loss: 0.1847(0.1649) \n",
      "EVAL: [88/89] Data 0.058 (0.150) Elapsed 0m 17s (remain 0m 0s) Loss: 0.0533(0.1574) \n",
      "Epoch 2 - avg_train_loss: 0.1536  avg_val_loss: 0.1574  time: 103s\n",
      "Epoch 2 - Score: 0.3182\n"
     ]
    }
   ],
   "source": [
    "import time\n",
    "for epoch in range(2):\n",
    "\n",
    "    start_time = time.time()\n",
    "\n",
    "    avg_loss = train_fn(train_loader, m, criterion, optimizer, epoch, scheduler, device)\n",
    "    avg_val_loss, preds, _ = valid_fn(validation_loader, m, criterion, device)\n",
    "\n",
    "    score = get_score(valid_labels, preds.argmax(1))\n",
    "\n",
    "    elapsed = time.time() - start_time\n",
    "\n",
    "    print(f'Epoch {epoch+1} - avg_train_loss: {avg_loss:.4f}  avg_val_loss: {avg_val_loss:.4f}  time: {elapsed:.0f}s')\n",
    "    print(f'Epoch {epoch+1} - Score: {score:.4f}')\n",
    "    \n",
    "    if score > best_score:\n",
    "        best_score = score\n",
    "        print(f'Epoch {epoch+1} - Save Best Score: {best_score:.4f} Model')\n",
    "        torch.save({'model': m.state_dict(), \n",
    "                        'preds': preds},\n",
    "                       'best_score.pth')"
   ]
  },
  {
   "cell_type": "code",
   "execution_count": 19,
   "id": "f29104ab",
   "metadata": {
    "execution": {
     "iopub.execute_input": "2022-03-18T06:20:52.429310Z",
     "iopub.status.busy": "2022-03-18T06:20:52.428416Z",
     "iopub.status.idle": "2022-03-18T06:21:00.361013Z",
     "shell.execute_reply": "2022-03-18T06:21:00.360224Z",
     "shell.execute_reply.started": "2022-03-18T06:14:58.899016Z"
    },
    "papermill": {
     "duration": 7.986887,
     "end_time": "2022-03-18T06:21:00.361149",
     "exception": false,
     "start_time": "2022-03-18T06:20:52.374262",
     "status": "completed"
    },
    "tags": []
   },
   "outputs": [],
   "source": [
    "! unzip ../input/cassava-disease/test.zip > xyz"
   ]
  },
  {
   "cell_type": "code",
   "execution_count": 20,
   "id": "397d0458",
   "metadata": {
    "execution": {
     "iopub.execute_input": "2022-03-18T06:21:00.467190Z",
     "iopub.status.busy": "2022-03-18T06:21:00.463769Z",
     "iopub.status.idle": "2022-03-18T06:21:00.491249Z",
     "shell.execute_reply": "2022-03-18T06:21:00.490737Z",
     "shell.execute_reply.started": "2022-03-18T06:15:04.958986Z"
    },
    "papermill": {
     "duration": 0.080028,
     "end_time": "2022-03-18T06:21:00.491406",
     "exception": false,
     "start_time": "2022-03-18T06:21:00.411378",
     "status": "completed"
    },
    "tags": []
   },
   "outputs": [],
   "source": [
    "submission_img = datasets.ImageFolder('./test', transform=transform)\n",
    "submission_loader = torch.utils.data.DataLoader(submission_img, batch_size=16)"
   ]
  },
  {
   "cell_type": "code",
   "execution_count": 21,
   "id": "0cd3bf30",
   "metadata": {
    "execution": {
     "iopub.execute_input": "2022-03-18T06:21:00.598720Z",
     "iopub.status.busy": "2022-03-18T06:21:00.598066Z",
     "iopub.status.idle": "2022-03-18T06:21:00.600738Z",
     "shell.execute_reply": "2022-03-18T06:21:00.601127Z",
     "shell.execute_reply.started": "2022-03-18T06:15:06.932495Z"
    },
    "papermill": {
     "duration": 0.060637,
     "end_time": "2022-03-18T06:21:00.601251",
     "exception": false,
     "start_time": "2022-03-18T06:21:00.540614",
     "status": "completed"
    },
    "tags": []
   },
   "outputs": [
    {
     "data": {
      "text/plain": [
       "['test-img-0.jpg',\n",
       " 'test-img-1.jpg',\n",
       " 'test-img-10.jpg',\n",
       " 'test-img-100.jpg',\n",
       " 'test-img-1000.jpg',\n",
       " 'test-img-1001.jpg',\n",
       " 'test-img-1002.jpg',\n",
       " 'test-img-1003.jpg',\n",
       " 'test-img-1004.jpg',\n",
       " 'test-img-1005.jpg',\n",
       " 'test-img-1006.jpg',\n",
       " 'test-img-1007.jpg',\n",
       " 'test-img-1008.jpg',\n",
       " 'test-img-1009.jpg',\n",
       " 'test-img-101.jpg',\n",
       " 'test-img-1010.jpg',\n",
       " 'test-img-1011.jpg',\n",
       " 'test-img-1012.jpg',\n",
       " 'test-img-1013.jpg',\n",
       " 'test-img-1014.jpg']"
      ]
     },
     "execution_count": 21,
     "metadata": {},
     "output_type": "execute_result"
    }
   ],
   "source": [
    "filenames = []\n",
    "for path, idx in submission_img.imgs:\n",
    "    filenames.append(path[path.index('0/test') + 2:])\n",
    "filenames[:20]"
   ]
  },
  {
   "cell_type": "code",
   "execution_count": 22,
   "id": "b73e10a4",
   "metadata": {
    "execution": {
     "iopub.execute_input": "2022-03-18T06:21:00.705888Z",
     "iopub.status.busy": "2022-03-18T06:21:00.705054Z",
     "iopub.status.idle": "2022-03-18T06:21:46.004137Z",
     "shell.execute_reply": "2022-03-18T06:21:46.004575Z",
     "shell.execute_reply.started": "2022-03-18T06:15:09.474663Z"
    },
    "papermill": {
     "duration": 45.354183,
     "end_time": "2022-03-18T06:21:46.004722",
     "exception": false,
     "start_time": "2022-03-18T06:21:00.650539",
     "status": "completed"
    },
    "tags": []
   },
   "outputs": [
    {
     "data": {
      "text/plain": [
       "[1, 1, 1, 2, 1, 3, 1, 3, 3, 2, 1, 3, 4, 3, 3, 1, 3, 1, 3, 3]"
      ]
     },
     "execution_count": 22,
     "metadata": {},
     "output_type": "execute_result"
    }
   ],
   "source": [
    "all_preds = []\n",
    "for step, (images, labels) in enumerate(submission_loader):\n",
    "    images = images.to(device)\n",
    "    with torch.no_grad():\n",
    "        all_preds += m(images).argmax(1).tolist()\n",
    "all_preds[:20]"
   ]
  },
  {
   "cell_type": "code",
   "execution_count": 23,
   "id": "9542c315",
   "metadata": {
    "execution": {
     "iopub.execute_input": "2022-03-18T06:21:46.110064Z",
     "iopub.status.busy": "2022-03-18T06:21:46.109291Z",
     "iopub.status.idle": "2022-03-18T06:21:46.806549Z",
     "shell.execute_reply": "2022-03-18T06:21:46.805785Z",
     "shell.execute_reply.started": "2022-03-18T06:15:53.962983Z"
    },
    "papermill": {
     "duration": 0.752166,
     "end_time": "2022-03-18T06:21:46.806684",
     "exception": false,
     "start_time": "2022-03-18T06:21:46.054518",
     "status": "completed"
    },
    "tags": []
   },
   "outputs": [
    {
     "name": "stdout",
     "output_type": "stream",
     "text": [
      "Category,Id\r\n",
      "cbsd,test-img-0.jpg\r\n",
      "cmd,test-img-1.jpg\r\n",
      "cbb,test-img-2.jpg\r\n",
      "cmd,test-img-3.jpg\r\n"
     ]
    }
   ],
   "source": [
    "! head -n 5 ../input/cassava-disease/sample_submission_file.csv"
   ]
  },
  {
   "cell_type": "code",
   "execution_count": 24,
   "id": "6bee4526",
   "metadata": {
    "execution": {
     "iopub.execute_input": "2022-03-18T06:21:46.914596Z",
     "iopub.status.busy": "2022-03-18T06:21:46.913918Z",
     "iopub.status.idle": "2022-03-18T06:21:46.916704Z",
     "shell.execute_reply": "2022-03-18T06:21:46.917106Z",
     "shell.execute_reply.started": "2022-03-18T06:15:54.711776Z"
    },
    "papermill": {
     "duration": 0.05949,
     "end_time": "2022-03-18T06:21:46.917267",
     "exception": false,
     "start_time": "2022-03-18T06:21:46.857777",
     "status": "completed"
    },
    "tags": []
   },
   "outputs": [
    {
     "data": {
      "text/plain": [
       "{0: 'cbb', 1: 'cbsd', 2: 'cgm', 3: 'cmd', 4: 'healthy'}"
      ]
     },
     "execution_count": 24,
     "metadata": {},
     "output_type": "execute_result"
    }
   ],
   "source": [
    "rev_lookup = {}\n",
    "for key in allimg.class_to_idx:\n",
    "    rev_lookup[allimg.class_to_idx[key]] = key\n",
    "rev_lookup"
   ]
  },
  {
   "cell_type": "code",
   "execution_count": 25,
   "id": "014e63e5",
   "metadata": {
    "execution": {
     "iopub.execute_input": "2022-03-18T06:21:47.030550Z",
     "iopub.status.busy": "2022-03-18T06:21:47.026707Z",
     "iopub.status.idle": "2022-03-18T06:21:47.033876Z",
     "shell.execute_reply": "2022-03-18T06:21:47.033432Z",
     "shell.execute_reply.started": "2022-03-18T06:15:54.724480Z"
    },
    "papermill": {
     "duration": 0.066381,
     "end_time": "2022-03-18T06:21:47.033986",
     "exception": false,
     "start_time": "2022-03-18T06:21:46.967605",
     "status": "completed"
    },
    "tags": []
   },
   "outputs": [],
   "source": [
    "import csv\n",
    "with open('submission.csv', 'w') as opfile:\n",
    "    wrt = csv.writer(opfile)\n",
    "    wrt.writerow(['Category', 'Id'])\n",
    "    for idx in range(0, len(filenames)):\n",
    "        wrt.writerow([\n",
    "            rev_lookup[all_preds[idx]],\n",
    "            filenames[idx]\n",
    "        ])"
   ]
  },
  {
   "cell_type": "code",
   "execution_count": 26,
   "id": "2c1e3c03",
   "metadata": {
    "execution": {
     "iopub.execute_input": "2022-03-18T06:21:47.162348Z",
     "iopub.status.busy": "2022-03-18T06:21:47.139733Z",
     "iopub.status.idle": "2022-03-18T06:21:47.833837Z",
     "shell.execute_reply": "2022-03-18T06:21:47.833129Z",
     "shell.execute_reply.started": "2022-03-18T06:15:54.738153Z"
    },
    "papermill": {
     "duration": 0.749211,
     "end_time": "2022-03-18T06:21:47.833979",
     "exception": false,
     "start_time": "2022-03-18T06:21:47.084768",
     "status": "completed"
    },
    "tags": []
   },
   "outputs": [
    {
     "name": "stdout",
     "output_type": "stream",
     "text": [
      "\r\n",
      "\r\n",
      "\r\n",
      "\r\n",
      "\r\n"
     ]
    }
   ],
   "source": [
    "! head -n 5 submission.csv"
   ]
  }
 ],
 "metadata": {
  "kernelspec": {
   "display_name": "Python 3",
   "language": "python",
   "name": "python3"
  },
  "language_info": {
   "codemirror_mode": {
    "name": "ipython",
    "version": 3
   },
   "file_extension": ".py",
   "mimetype": "text/x-python",
   "name": "python",
   "nbconvert_exporter": "python",
   "pygments_lexer": "ipython3",
   "version": "3.7.12"
  },
  "papermill": {
   "default_parameters": {},
   "duration": 314.366563,
   "end_time": "2022-03-18T06:21:50.235042",
   "environment_variables": {},
   "exception": null,
   "input_path": "__notebook__.ipynb",
   "output_path": "__notebook__.ipynb",
   "parameters": {},
   "start_time": "2022-03-18T06:16:35.868479",
   "version": "2.3.3"
  }
 },
 "nbformat": 4,
 "nbformat_minor": 5
}
